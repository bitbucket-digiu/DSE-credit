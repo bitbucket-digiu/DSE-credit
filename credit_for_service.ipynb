{
 "cells": [
  {
   "cell_type": "code",
   "execution_count": 242,
   "metadata": {},
   "outputs": [],
   "source": [
    "import pandas as pd"
   ]
  },
  {
   "cell_type": "code",
   "execution_count": 243,
   "metadata": {},
   "outputs": [],
   "source": [
    "pd.options.display.max_columns = None"
   ]
  },
  {
   "cell_type": "code",
   "execution_count": 244,
   "metadata": {},
   "outputs": [],
   "source": [
    "column_names = ['user_id', 'id', 'count_months', 'amount', 'month_payment',\n",
    "       'payed_this_month', 'to_pay', 'planned', 'created_at', 'date']\n",
    "train = pd.DataFrame(columns=column_names)"
   ]
  },
  {
   "cell_type": "code",
   "execution_count": 245,
   "metadata": {},
   "outputs": [
    {
     "data": {
      "text/html": [
       "<div>\n",
       "<style scoped>\n",
       "    .dataframe tbody tr th:only-of-type {\n",
       "        vertical-align: middle;\n",
       "    }\n",
       "\n",
       "    .dataframe tbody tr th {\n",
       "        vertical-align: top;\n",
       "    }\n",
       "\n",
       "    .dataframe thead th {\n",
       "        text-align: right;\n",
       "    }\n",
       "</style>\n",
       "<table border=\"1\" class=\"dataframe\">\n",
       "  <thead>\n",
       "    <tr style=\"text-align: right;\">\n",
       "      <th></th>\n",
       "      <th>user_id</th>\n",
       "      <th>id</th>\n",
       "      <th>count_months</th>\n",
       "      <th>amount</th>\n",
       "      <th>month_payment</th>\n",
       "      <th>payed_this_month</th>\n",
       "      <th>to_pay</th>\n",
       "      <th>planned</th>\n",
       "      <th>created_at</th>\n",
       "      <th>date</th>\n",
       "    </tr>\n",
       "  </thead>\n",
       "  <tbody>\n",
       "  </tbody>\n",
       "</table>\n",
       "</div>"
      ],
      "text/plain": [
       "Empty DataFrame\n",
       "Columns: [user_id, id, count_months, amount, month_payment, payed_this_month, to_pay, planned, created_at, date]\n",
       "Index: []"
      ]
     },
     "execution_count": 245,
     "metadata": {},
     "output_type": "execute_result"
    }
   ],
   "source": [
    "train.head()"
   ]
  },
  {
   "cell_type": "code",
   "execution_count": 246,
   "metadata": {
    "scrolled": true
   },
   "outputs": [],
   "source": [
    "import mysql.connector\n",
    "conn = mysql.connector.connect(host='localhost', \n",
    "                port=3306, user='root', passwd='dalekini', \n",
    "                db='digiu')\n",
    "jan = pd.read_sql_query(\"SELECT distinct cr.user_id as user_id, cr.id as id, cr.count_months as count_months, cr.amount as amount, cr.month_payment as month_payment,inv.amount as payed_this_month, cps.left_amount as to_pay, cps.amount as planned, cr.created_at as created_at, cps.date as date FROM credit cr join credit_payment_schedule cps on cr.id = cps.credit_id left join (select credit_id, sum(amount)as amount from invoice where created_at > '2020-01-01' AND created_at < '2020-02-01' group by credit_id) inv on cr.id=inv.credit_id WHERE (cr.created_at > '2019-12-01' AND cr.created_at < '2020-01-01') and (cps.date > '2020-01-01' AND cps.date < '2020-02-01') and cr.status in (2) and (cr.user_id > 19) and cr.user_id not in (23,24,26,28,33)\", conn)\n",
    "train = train.append(jan)"
   ]
  },
  {
   "cell_type": "code",
   "execution_count": 247,
   "metadata": {
    "scrolled": true
   },
   "outputs": [
    {
     "data": {
      "text/html": [
       "<div>\n",
       "<style scoped>\n",
       "    .dataframe tbody tr th:only-of-type {\n",
       "        vertical-align: middle;\n",
       "    }\n",
       "\n",
       "    .dataframe tbody tr th {\n",
       "        vertical-align: top;\n",
       "    }\n",
       "\n",
       "    .dataframe thead th {\n",
       "        text-align: right;\n",
       "    }\n",
       "</style>\n",
       "<table border=\"1\" class=\"dataframe\">\n",
       "  <thead>\n",
       "    <tr style=\"text-align: right;\">\n",
       "      <th></th>\n",
       "      <th>user_id</th>\n",
       "      <th>id</th>\n",
       "      <th>count_months</th>\n",
       "      <th>amount</th>\n",
       "      <th>month_payment</th>\n",
       "      <th>payed_this_month</th>\n",
       "      <th>to_pay</th>\n",
       "      <th>planned</th>\n",
       "      <th>created_at</th>\n",
       "      <th>date</th>\n",
       "    </tr>\n",
       "  </thead>\n",
       "  <tbody>\n",
       "    <tr>\n",
       "      <th>0</th>\n",
       "      <td>196</td>\n",
       "      <td>6</td>\n",
       "      <td>6</td>\n",
       "      <td>1000.0</td>\n",
       "      <td>100.0</td>\n",
       "      <td>100.0</td>\n",
       "      <td>0.0</td>\n",
       "      <td>100.0</td>\n",
       "      <td>2019-12-18 23:55:33</td>\n",
       "      <td>2020-01-18</td>\n",
       "    </tr>\n",
       "    <tr>\n",
       "      <th>1</th>\n",
       "      <td>227</td>\n",
       "      <td>20</td>\n",
       "      <td>7</td>\n",
       "      <td>500.0</td>\n",
       "      <td>50.0</td>\n",
       "      <td>50.0</td>\n",
       "      <td>0.0</td>\n",
       "      <td>50.0</td>\n",
       "      <td>2019-12-20 05:40:39</td>\n",
       "      <td>2020-01-19</td>\n",
       "    </tr>\n",
       "    <tr>\n",
       "      <th>2</th>\n",
       "      <td>238</td>\n",
       "      <td>22</td>\n",
       "      <td>7</td>\n",
       "      <td>500.0</td>\n",
       "      <td>50.0</td>\n",
       "      <td>50.0</td>\n",
       "      <td>0.0</td>\n",
       "      <td>50.0</td>\n",
       "      <td>2019-12-20 10:45:33</td>\n",
       "      <td>2020-01-20</td>\n",
       "    </tr>\n",
       "    <tr>\n",
       "      <th>3</th>\n",
       "      <td>45</td>\n",
       "      <td>24</td>\n",
       "      <td>26</td>\n",
       "      <td>5000.0</td>\n",
       "      <td>167.0</td>\n",
       "      <td>167.0</td>\n",
       "      <td>0.0</td>\n",
       "      <td>167.0</td>\n",
       "      <td>2019-12-20 14:59:29</td>\n",
       "      <td>2020-01-20</td>\n",
       "    </tr>\n",
       "    <tr>\n",
       "      <th>4</th>\n",
       "      <td>123</td>\n",
       "      <td>26</td>\n",
       "      <td>28</td>\n",
       "      <td>5000.0</td>\n",
       "      <td>167.0</td>\n",
       "      <td>167.0</td>\n",
       "      <td>0.0</td>\n",
       "      <td>167.0</td>\n",
       "      <td>2019-12-20 16:56:37</td>\n",
       "      <td>2020-01-20</td>\n",
       "    </tr>\n",
       "  </tbody>\n",
       "</table>\n",
       "</div>"
      ],
      "text/plain": [
       "  user_id  id count_months  amount  month_payment  payed_this_month  to_pay  \\\n",
       "0     196   6            6  1000.0          100.0             100.0     0.0   \n",
       "1     227  20            7   500.0           50.0              50.0     0.0   \n",
       "2     238  22            7   500.0           50.0              50.0     0.0   \n",
       "3      45  24           26  5000.0          167.0             167.0     0.0   \n",
       "4     123  26           28  5000.0          167.0             167.0     0.0   \n",
       "\n",
       "   planned          created_at        date  \n",
       "0    100.0 2019-12-18 23:55:33  2020-01-18  \n",
       "1     50.0 2019-12-20 05:40:39  2020-01-19  \n",
       "2     50.0 2019-12-20 10:45:33  2020-01-20  \n",
       "3    167.0 2019-12-20 14:59:29  2020-01-20  \n",
       "4    167.0 2019-12-20 16:56:37  2020-01-20  "
      ]
     },
     "execution_count": 247,
     "metadata": {},
     "output_type": "execute_result"
    }
   ],
   "source": [
    "train.head()"
   ]
  },
  {
   "cell_type": "code",
   "execution_count": 248,
   "metadata": {
    "scrolled": true
   },
   "outputs": [
    {
     "data": {
      "text/plain": [
       "(147, 10)"
      ]
     },
     "execution_count": 248,
     "metadata": {},
     "output_type": "execute_result"
    }
   ],
   "source": [
    "train.shape"
   ]
  },
  {
   "cell_type": "code",
   "execution_count": 249,
   "metadata": {},
   "outputs": [],
   "source": [
    "feb = pd.read_sql_query(\"SELECT distinct cr.user_id as user_id, cr.id as id, cr.count_months as count_months, cr.amount as amount, cr.month_payment as month_payment,inv.amount as payed_this_month, cps.left_amount as to_pay, cps.amount as planned, cr.created_at as created_at, cps.date as date FROM credit cr join credit_payment_schedule cps on cr.id = cps.credit_id left join (select credit_id, sum(amount)as amount from invoice where created_at > '2020-02-01' AND created_at < '2020-03-01' group by credit_id) inv on cr.id=inv.credit_id WHERE (cr.created_at > '2019-12-01' AND cr.created_at < '2020-02-01') and (cps.date > '2020-02-01' AND cps.date < '2020-03-01') and cr.status in (2) and (cr.user_id > 19) and cr.user_id not in (23,24,26,28,33)\", conn)\n",
    "train = train.append(feb)"
   ]
  },
  {
   "cell_type": "code",
   "execution_count": 250,
   "metadata": {},
   "outputs": [
    {
     "data": {
      "text/plain": [
       "(366, 10)"
      ]
     },
     "execution_count": 250,
     "metadata": {},
     "output_type": "execute_result"
    }
   ],
   "source": [
    "train.shape"
   ]
  },
  {
   "cell_type": "code",
   "execution_count": 251,
   "metadata": {},
   "outputs": [],
   "source": [
    "mar = pd.read_sql_query(\"SELECT distinct cr.user_id as user_id, cr.id as id, cr.count_months as count_months, cr.amount as amount, cr.month_payment as month_payment,inv.amount as payed_this_month, cps.left_amount as to_pay, cps.amount as planned, cr.created_at as created_at, cps.date as date FROM credit cr join credit_payment_schedule cps on cr.id = cps.credit_id left join (select credit_id, sum(amount)as amount from invoice where created_at > '2020-03-01' AND created_at < '2020-04-01' group by credit_id) inv on cr.id=inv.credit_id WHERE (cr.created_at > '2019-12-01' AND cr.created_at < '2020-03-01') and (cps.date > '2020-03-01' AND cps.date < '2020-04-01') and cr.status in (2) and (cr.user_id > 19) and cr.user_id not in (23,24,26,28,33)\", conn)\n",
    "train = train.append(mar)"
   ]
  },
  {
   "cell_type": "code",
   "execution_count": 252,
   "metadata": {},
   "outputs": [
    {
     "data": {
      "text/plain": [
       "(1087, 10)"
      ]
     },
     "execution_count": 252,
     "metadata": {},
     "output_type": "execute_result"
    }
   ],
   "source": [
    "train.shape"
   ]
  },
  {
   "cell_type": "code",
   "execution_count": 253,
   "metadata": {},
   "outputs": [],
   "source": [
    "train = train.fillna(0)"
   ]
  },
  {
   "cell_type": "code",
   "execution_count": 254,
   "metadata": {},
   "outputs": [],
   "source": [
    "test = pd.read_sql_query(\"SELECT distinct cr.user_id as user_id, cr.id as id, cr.count_months as count_months, cr.amount as amount, cr.month_payment as month_payment,inv.amount as payed_this_month, cps.left_amount as to_pay, cps.amount as planned, cr.created_at as created_at, cps.date as date FROM credit cr join credit_payment_schedule cps on cr.id = cps.credit_id left join (select credit_id, sum(amount)as amount from invoice where created_at > '2020-04-01' AND created_at < '2020-05-01' group by credit_id) inv on cr.id=inv.credit_id WHERE (cr.created_at > '2019-12-01' AND cr.created_at < '2020-04-01') and (cps.date > '2020-04-01' AND cps.date < '2020-05-01') and cr.status in (2) and (cr.user_id > 19) and cr.user_id not in (23,24,26,28,33)\", conn)"
   ]
  },
  {
   "cell_type": "code",
   "execution_count": 255,
   "metadata": {},
   "outputs": [
    {
     "data": {
      "text/plain": [
       "(1038, 10)"
      ]
     },
     "execution_count": 255,
     "metadata": {},
     "output_type": "execute_result"
    }
   ],
   "source": [
    "test.shape"
   ]
  },
  {
   "cell_type": "code",
   "execution_count": 256,
   "metadata": {},
   "outputs": [],
   "source": [
    "test = test.fillna(0)"
   ]
  },
  {
   "cell_type": "code",
   "execution_count": 257,
   "metadata": {},
   "outputs": [
    {
     "name": "stdout",
     "output_type": "stream",
     "text": [
      "17092.63\n"
     ]
    }
   ],
   "source": [
    "left_train = sum((train.to_pay))\n",
    "print(left_train)"
   ]
  },
  {
   "cell_type": "code",
   "execution_count": 258,
   "metadata": {
    "scrolled": true
   },
   "outputs": [
    {
     "name": "stdout",
     "output_type": "stream",
     "text": [
      "39889.34\n"
     ]
    }
   ],
   "source": [
    "Actually_payed_train = sum(train.payed_this_month)\n",
    "print(Actually_payed_train)"
   ]
  },
  {
   "cell_type": "code",
   "execution_count": 259,
   "metadata": {},
   "outputs": [
    {
     "name": "stdout",
     "output_type": "stream",
     "text": [
      "57482.0\n"
     ]
    }
   ],
   "source": [
    "Planned_train = sum(train.planned)\n",
    "print(Planned_train)"
   ]
  },
  {
   "cell_type": "code",
   "execution_count": 260,
   "metadata": {},
   "outputs": [
    {
     "name": "stdout",
     "output_type": "stream",
     "text": [
      "500.03\n"
     ]
    }
   ],
   "source": [
    "Delta_train = Planned_train - left_train - Actually_payed_train\n",
    "print(Delta_train)"
   ]
  },
  {
   "cell_type": "code",
   "execution_count": 261,
   "metadata": {
    "scrolled": false
   },
   "outputs": [
    {
     "name": "stdout",
     "output_type": "stream",
     "text": [
      "46885.0\n"
     ]
    }
   ],
   "source": [
    "Planned_in_april = sum(test.planned)\n",
    "print(Planned_in_april)"
   ]
  },
  {
   "cell_type": "code",
   "execution_count": 262,
   "metadata": {},
   "outputs": [
    {
     "name": "stdout",
     "output_type": "stream",
     "text": [
      "1010.29\n"
     ]
    }
   ],
   "source": [
    "Actually_payed_april = sum(test.payed_this_month)\n",
    "print(Actually_payed_april)"
   ]
  },
  {
   "cell_type": "code",
   "execution_count": 263,
   "metadata": {},
   "outputs": [
    {
     "name": "stdout",
     "output_type": "stream",
     "text": [
      "36538.5\n"
     ]
    }
   ],
   "source": [
    "left_april = sum((test.to_pay).astype(float))\n",
    "print(left_april)"
   ]
  },
  {
   "cell_type": "code",
   "execution_count": 264,
   "metadata": {},
   "outputs": [
    {
     "name": "stdout",
     "output_type": "stream",
     "text": [
      "9336.21\n"
     ]
    }
   ],
   "source": [
    "Delta_test = Planned_in_april - left_april - Actually_payed_april\n",
    "print(Delta_test)"
   ]
  },
  {
   "cell_type": "code",
   "execution_count": 265,
   "metadata": {},
   "outputs": [
    {
     "name": "stdout",
     "output_type": "stream",
     "text": [
      "0:\tlearn: 51.3830717\ttotal: 1.48ms\tremaining: 294ms\n",
      "1:\tlearn: 49.3532694\ttotal: 2.6ms\tremaining: 257ms\n",
      "2:\tlearn: 47.7854996\ttotal: 3.42ms\tremaining: 225ms\n",
      "3:\tlearn: 46.4469117\ttotal: 4.37ms\tremaining: 214ms\n",
      "4:\tlearn: 45.3125990\ttotal: 5.39ms\tremaining: 210ms\n",
      "5:\tlearn: 44.4158603\ttotal: 6.8ms\tremaining: 220ms\n",
      "6:\tlearn: 43.3820388\ttotal: 9.12ms\tremaining: 251ms\n",
      "7:\tlearn: 42.6447569\ttotal: 10.1ms\tremaining: 243ms\n",
      "8:\tlearn: 41.8177251\ttotal: 11.2ms\tremaining: 237ms\n",
      "9:\tlearn: 41.2408823\ttotal: 11.9ms\tremaining: 226ms\n",
      "10:\tlearn: 40.7606379\ttotal: 13ms\tremaining: 223ms\n",
      "11:\tlearn: 40.5427621\ttotal: 13.9ms\tremaining: 217ms\n",
      "12:\tlearn: 40.0972578\ttotal: 14.3ms\tremaining: 206ms\n",
      "13:\tlearn: 39.6575337\ttotal: 14.8ms\tremaining: 196ms\n",
      "14:\tlearn: 39.1736538\ttotal: 15.2ms\tremaining: 187ms\n",
      "15:\tlearn: 38.8526381\ttotal: 15.6ms\tremaining: 180ms\n",
      "16:\tlearn: 38.5382312\ttotal: 16.1ms\tremaining: 173ms\n",
      "17:\tlearn: 38.2242509\ttotal: 16.9ms\tremaining: 171ms\n",
      "18:\tlearn: 37.8898887\ttotal: 18.9ms\tremaining: 180ms\n",
      "19:\tlearn: 37.6909949\ttotal: 19.5ms\tremaining: 175ms\n",
      "20:\tlearn: 37.4357190\ttotal: 19.9ms\tremaining: 170ms\n",
      "21:\tlearn: 37.2470737\ttotal: 20.4ms\tremaining: 165ms\n",
      "22:\tlearn: 37.0768104\ttotal: 20.8ms\tremaining: 160ms\n",
      "23:\tlearn: 36.8594456\ttotal: 21.2ms\tremaining: 156ms\n",
      "24:\tlearn: 36.7404814\ttotal: 21.6ms\tremaining: 152ms\n",
      "25:\tlearn: 36.6436365\ttotal: 22.1ms\tremaining: 148ms\n",
      "26:\tlearn: 36.5440657\ttotal: 22.6ms\tremaining: 144ms\n",
      "27:\tlearn: 36.3975809\ttotal: 23ms\tremaining: 141ms\n",
      "28:\tlearn: 36.2266159\ttotal: 23.4ms\tremaining: 138ms\n",
      "29:\tlearn: 36.1001955\ttotal: 23.9ms\tremaining: 135ms\n",
      "30:\tlearn: 35.9743195\ttotal: 24.7ms\tremaining: 135ms\n",
      "31:\tlearn: 35.8713202\ttotal: 25.5ms\tremaining: 134ms\n",
      "32:\tlearn: 35.7969267\ttotal: 26.4ms\tremaining: 134ms\n",
      "33:\tlearn: 35.7189240\ttotal: 27.4ms\tremaining: 134ms\n",
      "34:\tlearn: 35.5858480\ttotal: 27.9ms\tremaining: 131ms\n",
      "35:\tlearn: 35.4596142\ttotal: 28.3ms\tremaining: 129ms\n",
      "36:\tlearn: 35.3874848\ttotal: 28.8ms\tremaining: 127ms\n",
      "37:\tlearn: 35.3378485\ttotal: 29.2ms\tremaining: 125ms\n",
      "38:\tlearn: 35.2864219\ttotal: 29.7ms\tremaining: 122ms\n",
      "39:\tlearn: 35.2333717\ttotal: 30.5ms\tremaining: 122ms\n",
      "40:\tlearn: 35.2145340\ttotal: 31.4ms\tremaining: 122ms\n",
      "41:\tlearn: 35.1578654\ttotal: 33ms\tremaining: 124ms\n",
      "42:\tlearn: 35.1178364\ttotal: 33.5ms\tremaining: 122ms\n",
      "43:\tlearn: 35.0783264\ttotal: 34ms\tremaining: 121ms\n",
      "44:\tlearn: 35.0418193\ttotal: 34.4ms\tremaining: 119ms\n",
      "45:\tlearn: 35.0369454\ttotal: 34.8ms\tremaining: 116ms\n",
      "46:\tlearn: 34.9792267\ttotal: 35.2ms\tremaining: 115ms\n",
      "47:\tlearn: 34.9145012\ttotal: 36.3ms\tremaining: 115ms\n",
      "48:\tlearn: 34.8827916\ttotal: 37ms\tremaining: 114ms\n",
      "49:\tlearn: 34.8553932\ttotal: 37.4ms\tremaining: 112ms\n",
      "50:\tlearn: 34.7728060\ttotal: 38.3ms\tremaining: 112ms\n",
      "51:\tlearn: 34.7195970\ttotal: 39.3ms\tremaining: 112ms\n",
      "52:\tlearn: 34.6712488\ttotal: 40.6ms\tremaining: 113ms\n",
      "53:\tlearn: 34.6541247\ttotal: 41.4ms\tremaining: 112ms\n",
      "54:\tlearn: 34.5814663\ttotal: 41.8ms\tremaining: 110ms\n",
      "55:\tlearn: 34.5634072\ttotal: 42.3ms\tremaining: 109ms\n",
      "56:\tlearn: 34.5202299\ttotal: 42.8ms\tremaining: 107ms\n",
      "57:\tlearn: 34.4871330\ttotal: 43.2ms\tremaining: 106ms\n",
      "58:\tlearn: 34.4607575\ttotal: 44ms\tremaining: 105ms\n",
      "59:\tlearn: 34.4343548\ttotal: 44.8ms\tremaining: 105ms\n",
      "60:\tlearn: 34.4144644\ttotal: 45.2ms\tremaining: 103ms\n",
      "61:\tlearn: 34.3554315\ttotal: 45.7ms\tremaining: 102ms\n",
      "62:\tlearn: 34.3330917\ttotal: 46.1ms\tremaining: 100ms\n",
      "63:\tlearn: 34.3194928\ttotal: 46.6ms\tremaining: 99.1ms\n",
      "64:\tlearn: 34.3030695\ttotal: 47.1ms\tremaining: 97.9ms\n",
      "65:\tlearn: 34.2570382\ttotal: 47.6ms\tremaining: 96.7ms\n",
      "66:\tlearn: 34.2445255\ttotal: 48.1ms\tremaining: 95.4ms\n",
      "67:\tlearn: 34.2336224\ttotal: 48.5ms\tremaining: 94.1ms\n",
      "68:\tlearn: 34.1850111\ttotal: 48.9ms\tremaining: 92.9ms\n",
      "69:\tlearn: 34.1664952\ttotal: 49.4ms\tremaining: 91.7ms\n",
      "70:\tlearn: 34.1467727\ttotal: 49.8ms\tremaining: 90.5ms\n",
      "71:\tlearn: 34.1150601\ttotal: 50.2ms\tremaining: 89.3ms\n",
      "72:\tlearn: 34.0969723\ttotal: 50.7ms\tremaining: 88.3ms\n",
      "73:\tlearn: 34.0819308\ttotal: 51.7ms\tremaining: 88ms\n",
      "74:\tlearn: 34.0729272\ttotal: 52.5ms\tremaining: 87.4ms\n",
      "75:\tlearn: 34.0258648\ttotal: 53.8ms\tremaining: 87.7ms\n",
      "76:\tlearn: 34.0054427\ttotal: 54.6ms\tremaining: 87.2ms\n",
      "77:\tlearn: 33.9857501\ttotal: 55ms\tremaining: 86.1ms\n",
      "78:\tlearn: 33.9457973\ttotal: 55.5ms\tremaining: 85ms\n",
      "79:\tlearn: 33.9403664\ttotal: 55.9ms\tremaining: 83.8ms\n",
      "80:\tlearn: 33.9071766\ttotal: 56.3ms\tremaining: 82.7ms\n",
      "81:\tlearn: 33.9019963\ttotal: 56.7ms\tremaining: 81.5ms\n",
      "82:\tlearn: 33.8885152\ttotal: 57.1ms\tremaining: 80.5ms\n",
      "83:\tlearn: 33.8767455\ttotal: 57.9ms\tremaining: 80ms\n",
      "84:\tlearn: 33.8655969\ttotal: 58.8ms\tremaining: 79.5ms\n",
      "85:\tlearn: 33.8428740\ttotal: 59.3ms\tremaining: 78.5ms\n",
      "86:\tlearn: 33.8388368\ttotal: 59.6ms\tremaining: 77.5ms\n",
      "87:\tlearn: 33.8286273\ttotal: 60.1ms\tremaining: 76.5ms\n",
      "88:\tlearn: 33.8237824\ttotal: 60.5ms\tremaining: 75.5ms\n",
      "89:\tlearn: 33.8067727\ttotal: 61ms\tremaining: 74.5ms\n",
      "90:\tlearn: 33.7790159\ttotal: 61.4ms\tremaining: 73.5ms\n",
      "91:\tlearn: 33.7680323\ttotal: 61.9ms\tremaining: 72.7ms\n",
      "92:\tlearn: 33.7593143\ttotal: 62.4ms\tremaining: 71.8ms\n",
      "93:\tlearn: 33.7509233\ttotal: 62.8ms\tremaining: 70.8ms\n",
      "94:\tlearn: 33.7430426\ttotal: 63.3ms\tremaining: 70ms\n",
      "95:\tlearn: 33.7124426\ttotal: 63.8ms\tremaining: 69.1ms\n",
      "96:\tlearn: 33.7049549\ttotal: 64.2ms\tremaining: 68.2ms\n",
      "97:\tlearn: 33.6985669\ttotal: 64.7ms\tremaining: 67.3ms\n",
      "98:\tlearn: 33.6742633\ttotal: 65.7ms\tremaining: 67.1ms\n",
      "99:\tlearn: 33.6697466\ttotal: 66.3ms\tremaining: 66.3ms\n",
      "100:\tlearn: 33.6400880\ttotal: 67.5ms\tremaining: 66.1ms\n",
      "101:\tlearn: 33.6335517\ttotal: 68.3ms\tremaining: 65.6ms\n",
      "102:\tlearn: 33.6139680\ttotal: 68.8ms\tremaining: 64.8ms\n",
      "103:\tlearn: 33.5960554\ttotal: 69.2ms\tremaining: 63.9ms\n",
      "104:\tlearn: 33.5898875\ttotal: 69.6ms\tremaining: 63ms\n",
      "105:\tlearn: 33.5645859\ttotal: 70.1ms\tremaining: 62.1ms\n",
      "106:\tlearn: 33.5607751\ttotal: 70.4ms\tremaining: 61.2ms\n",
      "107:\tlearn: 33.5550877\ttotal: 71.2ms\tremaining: 60.6ms\n",
      "108:\tlearn: 33.5496913\ttotal: 72ms\tremaining: 60.1ms\n",
      "109:\tlearn: 33.5360336\ttotal: 72.5ms\tremaining: 59.3ms\n",
      "110:\tlearn: 33.5214894\ttotal: 72.9ms\tremaining: 58.5ms\n",
      "111:\tlearn: 33.5182253\ttotal: 73.3ms\tremaining: 57.6ms\n",
      "112:\tlearn: 33.5133887\ttotal: 73.7ms\tremaining: 56.8ms\n",
      "113:\tlearn: 33.5087185\ttotal: 74.2ms\tremaining: 56ms\n",
      "114:\tlearn: 33.4866408\ttotal: 74.6ms\tremaining: 55.1ms\n",
      "115:\tlearn: 33.4809757\ttotal: 75ms\tremaining: 54.3ms\n",
      "116:\tlearn: 33.4700298\ttotal: 75.5ms\tremaining: 53.6ms\n",
      "117:\tlearn: 33.4493053\ttotal: 75.9ms\tremaining: 52.8ms\n",
      "118:\tlearn: 33.4452031\ttotal: 76.4ms\tremaining: 52ms\n",
      "119:\tlearn: 33.4412943\ttotal: 76.8ms\tremaining: 51.2ms\n",
      "120:\tlearn: 33.4375886\ttotal: 77.3ms\tremaining: 50.5ms\n",
      "121:\tlearn: 33.4191172\ttotal: 77.7ms\tremaining: 49.7ms\n",
      "122:\tlearn: 33.4029682\ttotal: 78.7ms\tremaining: 49.3ms\n",
      "123:\tlearn: 33.3994294\ttotal: 79.6ms\tremaining: 48.8ms\n",
      "124:\tlearn: 33.3893281\ttotal: 80.8ms\tremaining: 48.5ms\n",
      "125:\tlearn: 33.3743534\ttotal: 81.4ms\tremaining: 47.8ms\n",
      "126:\tlearn: 33.3661828\ttotal: 81.9ms\tremaining: 47.1ms\n",
      "127:\tlearn: 33.3561173\ttotal: 82.3ms\tremaining: 46.3ms\n",
      "128:\tlearn: 33.3520854\ttotal: 82.8ms\tremaining: 45.6ms\n",
      "129:\tlearn: 33.3489794\ttotal: 83.2ms\tremaining: 44.8ms\n",
      "130:\tlearn: 33.3389095\ttotal: 83.7ms\tremaining: 44.1ms\n",
      "131:\tlearn: 33.3368880\ttotal: 84.3ms\tremaining: 43.5ms\n",
      "132:\tlearn: 33.3340380\ttotal: 85.4ms\tremaining: 43ms\n",
      "133:\tlearn: 33.3313301\ttotal: 85.8ms\tremaining: 42.3ms\n",
      "134:\tlearn: 33.3280719\ttotal: 86.3ms\tremaining: 41.6ms\n",
      "135:\tlearn: 33.3197999\ttotal: 86.7ms\tremaining: 40.8ms\n",
      "136:\tlearn: 33.3173553\ttotal: 87.2ms\tremaining: 40.1ms\n",
      "137:\tlearn: 33.3157883\ttotal: 87.6ms\tremaining: 39.3ms\n",
      "138:\tlearn: 33.3142986\ttotal: 88ms\tremaining: 38.6ms\n",
      "139:\tlearn: 33.3015386\ttotal: 88.4ms\tremaining: 37.9ms\n",
      "140:\tlearn: 33.2946178\ttotal: 88.9ms\tremaining: 37.2ms\n",
      "141:\tlearn: 33.2924362\ttotal: 89.4ms\tremaining: 36.5ms\n",
      "142:\tlearn: 33.2863585\ttotal: 89.8ms\tremaining: 35.8ms\n",
      "143:\tlearn: 33.2850604\ttotal: 90.2ms\tremaining: 35.1ms\n",
      "144:\tlearn: 33.2825914\ttotal: 90.8ms\tremaining: 34.4ms\n",
      "145:\tlearn: 33.2717794\ttotal: 92ms\tremaining: 34ms\n",
      "146:\tlearn: 33.2699281\ttotal: 94ms\tremaining: 33.9ms\n",
      "147:\tlearn: 33.2681692\ttotal: 94.8ms\tremaining: 33.3ms\n",
      "148:\tlearn: 33.2616952\ttotal: 95.3ms\tremaining: 32.6ms\n",
      "149:\tlearn: 33.2517609\ttotal: 95.7ms\tremaining: 31.9ms\n",
      "150:\tlearn: 33.2474411\ttotal: 96.2ms\tremaining: 31.2ms\n",
      "151:\tlearn: 33.2456714\ttotal: 96.6ms\tremaining: 30.5ms\n",
      "152:\tlearn: 33.2392269\ttotal: 97.2ms\tremaining: 29.9ms\n",
      "153:\tlearn: 33.2376402\ttotal: 97.7ms\tremaining: 29.2ms\n",
      "154:\tlearn: 33.2309906\ttotal: 98.4ms\tremaining: 28.6ms\n",
      "155:\tlearn: 33.2231764\ttotal: 99.3ms\tremaining: 28ms\n",
      "156:\tlearn: 33.2221969\ttotal: 99.7ms\tremaining: 27.3ms\n",
      "157:\tlearn: 33.2146939\ttotal: 100ms\tremaining: 26.6ms\n",
      "158:\tlearn: 33.2132390\ttotal: 101ms\tremaining: 26ms\n",
      "159:\tlearn: 33.2086440\ttotal: 101ms\tremaining: 25.3ms\n",
      "160:\tlearn: 33.2073080\ttotal: 102ms\tremaining: 24.6ms\n",
      "161:\tlearn: 33.2060399\ttotal: 102ms\tremaining: 23.9ms\n",
      "162:\tlearn: 33.2021813\ttotal: 102ms\tremaining: 23.3ms\n",
      "163:\tlearn: 33.1960446\ttotal: 103ms\tremaining: 22.6ms\n",
      "164:\tlearn: 33.1926943\ttotal: 103ms\tremaining: 21.9ms\n",
      "165:\tlearn: 33.1915267\ttotal: 104ms\tremaining: 21.3ms\n",
      "166:\tlearn: 33.1907876\ttotal: 104ms\tremaining: 20.6ms\n",
      "167:\tlearn: 33.1872662\ttotal: 105ms\tremaining: 19.9ms\n",
      "168:\tlearn: 33.1861959\ttotal: 105ms\tremaining: 19.3ms\n",
      "169:\tlearn: 33.1851807\ttotal: 106ms\tremaining: 18.7ms\n",
      "170:\tlearn: 33.1838119\ttotal: 107ms\tremaining: 18.1ms\n",
      "171:\tlearn: 33.1777110\ttotal: 107ms\tremaining: 17.5ms\n",
      "172:\tlearn: 33.1767765\ttotal: 108ms\tremaining: 16.9ms\n",
      "173:\tlearn: 33.1732477\ttotal: 109ms\tremaining: 16.3ms\n",
      "174:\tlearn: 33.1684432\ttotal: 109ms\tremaining: 15.6ms\n",
      "175:\tlearn: 33.1657495\ttotal: 110ms\tremaining: 15ms\n",
      "176:\tlearn: 33.1611192\ttotal: 110ms\tremaining: 14.3ms\n",
      "177:\tlearn: 33.1572023\ttotal: 111ms\tremaining: 13.7ms\n",
      "178:\tlearn: 33.1563061\ttotal: 111ms\tremaining: 13ms\n",
      "179:\tlearn: 33.1533529\ttotal: 112ms\tremaining: 12.5ms\n",
      "180:\tlearn: 33.1482683\ttotal: 114ms\tremaining: 11.9ms\n",
      "181:\tlearn: 33.1477033\ttotal: 115ms\tremaining: 11.3ms\n",
      "182:\tlearn: 33.1441682\ttotal: 115ms\tremaining: 10.7ms\n",
      "183:\tlearn: 33.1399106\ttotal: 116ms\tremaining: 10.1ms\n",
      "184:\tlearn: 33.1376624\ttotal: 116ms\tremaining: 9.41ms\n",
      "185:\tlearn: 33.1371163\ttotal: 116ms\tremaining: 8.77ms\n",
      "186:\tlearn: 33.1363028\ttotal: 117ms\tremaining: 8.13ms\n",
      "187:\tlearn: 33.1337197\ttotal: 117ms\tremaining: 7.5ms\n",
      "188:\tlearn: 33.1330424\ttotal: 118ms\tremaining: 6.86ms\n",
      "189:\tlearn: 33.1325748\ttotal: 118ms\tremaining: 6.24ms\n",
      "190:\tlearn: 33.1305489\ttotal: 119ms\tremaining: 5.62ms\n",
      "191:\tlearn: 33.1301277\ttotal: 120ms\tremaining: 5ms\n",
      "192:\tlearn: 33.1292032\ttotal: 121ms\tremaining: 4.4ms\n",
      "193:\tlearn: 33.1265623\ttotal: 122ms\tremaining: 3.77ms\n",
      "194:\tlearn: 33.1259175\ttotal: 122ms\tremaining: 3.14ms\n",
      "195:\tlearn: 33.1241333\ttotal: 123ms\tremaining: 2.5ms\n",
      "196:\tlearn: 33.1224438\ttotal: 123ms\tremaining: 1.88ms\n",
      "197:\tlearn: 33.1199231\ttotal: 124ms\tremaining: 1.25ms\n",
      "198:\tlearn: 33.1161827\ttotal: 124ms\tremaining: 623us\n",
      "199:\tlearn: 33.1140499\ttotal: 125ms\tremaining: 0us\n",
      "25281.245554120473\n"
     ]
    }
   ],
   "source": [
    "from sklearn.metrics import classification_report, confusion_matrix, accuracy_score, r2_score\n",
    "from catboost import CatBoostRegressor\n",
    "import seaborn as sns\n",
    "import matplotlib.pyplot as plt\n",
    "features = ['count_months', 'amount', 'month_payment']\n",
    "\n",
    "X_train = train[features]\n",
    "X_val = test[features]\n",
    "y_train = train.payed_this_month.astype('int64').copy()\n",
    "y_val = test.payed_this_month.astype('int64').copy()\n",
    "\n",
    "model=CatBoostRegressor(iterations=200, depth=5, learning_rate=0.1, loss_function='RMSE')\n",
    "model.fit(X_train, y_train)\n",
    "preds = model.predict(X_val)\n",
    "print(sum(preds))\n",
    "pred_catboost = sum(preds)"
   ]
  },
  {
   "cell_type": "code",
   "execution_count": 266,
   "metadata": {
    "scrolled": false
   },
   "outputs": [
    {
     "name": "stdout",
     "output_type": "stream",
     "text": [
      "24406\n"
     ]
    }
   ],
   "source": [
    "clf = ensemble.RandomForestClassifier(n_estimators=1000)\n",
    "clf.fit(X_train, y_train)\n",
    "y_pred = clf.predict(X_val)\n",
    "\n",
    "print(sum(y_pred))\n",
    "pred_randforest = sum(y_pred)"
   ]
  },
  {
   "cell_type": "code",
   "execution_count": 267,
   "metadata": {},
   "outputs": [],
   "source": [
    "#Предскажем деревом решений"
   ]
  },
  {
   "cell_type": "code",
   "execution_count": 268,
   "metadata": {},
   "outputs": [
    {
     "name": "stdout",
     "output_type": "stream",
     "text": [
      "23444\n"
     ]
    }
   ],
   "source": [
    "from sklearn.tree import DecisionTreeClassifier\n",
    "\n",
    "model = DecisionTreeClassifier()\n",
    "model.fit(x,y)\n",
    "proba = model.predict(x_val)\n",
    "\n",
    "print( sum(proba))\n",
    "pred_destree = sum(proba)"
   ]
  },
  {
   "cell_type": "code",
   "execution_count": 269,
   "metadata": {},
   "outputs": [
    {
     "name": "stdout",
     "output_type": "stream",
     "text": [
      "24377.08185137349\n"
     ]
    }
   ],
   "source": [
    "prediction = (pred_catboost+pred_destree+pred_randforest)/3\n",
    "print(prediction)"
   ]
  }
 ],
 "metadata": {
  "kernelspec": {
   "display_name": "Python 2",
   "language": "python",
   "name": "python2"
  },
  "language_info": {
   "codemirror_mode": {
    "name": "ipython",
    "version": 2
   },
   "file_extension": ".py",
   "mimetype": "text/x-python",
   "name": "python",
   "nbconvert_exporter": "python",
   "pygments_lexer": "ipython2",
   "version": "2.7.10"
  }
 },
 "nbformat": 4,
 "nbformat_minor": 4
}
