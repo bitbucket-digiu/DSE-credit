{
 "cells": [
  {
   "cell_type": "code",
   "execution_count": 90,
   "metadata": {},
   "outputs": [
    {
     "name": "stdout",
     "output_type": "stream",
     "text": [
      "\u001b[33mDEPRECATION: Python 2.7 reached the end of its life on January 1st, 2020. Please upgrade your Python as Python 2.7 is no longer maintained. A future version of pip will drop support for Python 2.7. More details about Python 2 support in pip, can be found at https://pip.pypa.io/en/latest/development/release-process/#python-2-support\u001b[0m\n",
      "Defaulting to user installation because normal site-packages is not writeable\n",
      "Collecting sklearn\n",
      "  Downloading sklearn-0.0.tar.gz (1.1 kB)\n",
      "Collecting scikit-learn\n",
      "  Downloading scikit_learn-0.20.4-cp27-cp27m-macosx_10_6_intel.macosx_10_9_intel.macosx_10_9_x86_64.macosx_10_10_intel.macosx_10_10_x86_64.whl (8.3 MB)\n",
      "\u001b[K     |████████████████████████████████| 8.3 MB 3.5 MB/s eta 0:00:01\n",
      "\u001b[?25hRequirement already satisfied: numpy>=1.8.2 in /Users/artemutkin/Library/Python/2.7/lib/python/site-packages (from scikit-learn->sklearn) (1.16.6)\n",
      "Requirement already satisfied: scipy>=0.13.3 in /Users/artemutkin/Library/Python/2.7/lib/python/site-packages (from scikit-learn->sklearn) (1.2.3)\n",
      "Installing collected packages: scikit-learn, sklearn\n",
      "    Running setup.py install for sklearn ... \u001b[?25ldone\n",
      "\u001b[?25hSuccessfully installed scikit-learn-0.20.4 sklearn-0.0\n"
     ]
    }
   ],
   "source": [
    "!pip install sklearn"
   ]
  },
  {
   "cell_type": "code",
   "execution_count": 92,
   "metadata": {},
   "outputs": [
    {
     "name": "stdout",
     "output_type": "stream",
     "text": [
      "\u001b[33mDEPRECATION: Python 2.7 reached the end of its life on January 1st, 2020. Please upgrade your Python as Python 2.7 is no longer maintained. A future version of pip will drop support for Python 2.7. More details about Python 2 support in pip, can be found at https://pip.pypa.io/en/latest/development/release-process/#python-2-support\u001b[0m\n",
      "Defaulting to user installation because normal site-packages is not writeable\n",
      "Collecting catboost\n",
      "  Downloading catboost-0.22-cp27-none-macosx_10_6_intel.macosx_10_9_intel.macosx_10_9_x86_64.macosx_10_10_intel.macosx_10_10_x86_64.whl (10.6 MB)\n",
      "\u001b[K     |████████████████████████████████| 10.6 MB 2.1 MB/s eta 0:00:01\n",
      "\u001b[?25hCollecting plotly\n",
      "  Downloading plotly-4.5.4-py2.py3-none-any.whl (7.1 MB)\n",
      "\u001b[K     |████████████████████████████████| 7.1 MB 939 kB/s eta 0:00:01\n",
      "\u001b[?25hRequirement already satisfied: six in /Users/artemutkin/Library/Python/2.7/lib/python/site-packages (from catboost) (1.14.0)\n",
      "Requirement already satisfied: numpy>=1.16.0 in /Users/artemutkin/Library/Python/2.7/lib/python/site-packages (from catboost) (1.16.6)\n",
      "Requirement already satisfied: scipy in /Users/artemutkin/Library/Python/2.7/lib/python/site-packages (from catboost) (1.2.3)\n",
      "Collecting graphviz\n",
      "  Downloading graphviz-0.13.2-py2.py3-none-any.whl (17 kB)\n",
      "Requirement already satisfied: pandas>=0.24.0 in /Users/artemutkin/Library/Python/2.7/lib/python/site-packages (from catboost) (0.24.2)\n",
      "Requirement already satisfied: matplotlib in /Users/artemutkin/Library/Python/2.7/lib/python/site-packages (from catboost) (2.2.5)\n",
      "Requirement already satisfied: enum34; python_version < \"3.4\" in /Users/artemutkin/Library/Python/2.7/lib/python/site-packages (from catboost) (1.1.10)\n",
      "Collecting retrying>=1.3.3\n",
      "  Downloading retrying-1.3.3.tar.gz (10 kB)\n",
      "Requirement already satisfied: python-dateutil>=2.5.0 in /Users/artemutkin/Library/Python/2.7/lib/python/site-packages (from pandas>=0.24.0->catboost) (2.8.1)\n",
      "Requirement already satisfied: pytz>=2011k in /System/Library/Frameworks/Python.framework/Versions/2.7/Extras/lib/python (from pandas>=0.24.0->catboost) (2013.7)\n",
      "Requirement already satisfied: pyparsing!=2.0.4,!=2.1.2,!=2.1.6,>=2.0.1 in /System/Library/Frameworks/Python.framework/Versions/2.7/Extras/lib/python (from matplotlib->catboost) (2.0.1)\n",
      "Requirement already satisfied: backports.functools-lru-cache in /Users/artemutkin/Library/Python/2.7/lib/python/site-packages (from matplotlib->catboost) (1.6.1)\n",
      "Requirement already satisfied: cycler>=0.10 in /Users/artemutkin/Library/Python/2.7/lib/python/site-packages (from matplotlib->catboost) (0.10.0)\n",
      "Requirement already satisfied: kiwisolver>=1.0.1 in /Users/artemutkin/Library/Python/2.7/lib/python/site-packages (from matplotlib->catboost) (1.1.0)\n",
      "Requirement already satisfied: subprocess32 in /Users/artemutkin/Library/Python/2.7/lib/python/site-packages (from matplotlib->catboost) (3.5.4)\n",
      "Requirement already satisfied: setuptools in /System/Library/Frameworks/Python.framework/Versions/2.7/Extras/lib/python (from kiwisolver>=1.0.1->matplotlib->catboost) (18.5)\n",
      "Installing collected packages: retrying, plotly, graphviz, catboost\n",
      "    Running setup.py install for retrying ... \u001b[?25ldone\n",
      "\u001b[?25hSuccessfully installed catboost-0.22 graphviz-0.13.2 plotly-4.5.4 retrying-1.3.3\n"
     ]
    }
   ],
   "source": [
    "!pip install catboost"
   ]
  },
  {
   "cell_type": "code",
   "execution_count": 1,
   "metadata": {},
   "outputs": [],
   "source": [
    "import pandas as pd"
   ]
  },
  {
   "cell_type": "code",
   "execution_count": 2,
   "metadata": {},
   "outputs": [],
   "source": [
    "pd.options.display.max_columns = None"
   ]
  },
  {
   "cell_type": "code",
   "execution_count": 3,
   "metadata": {},
   "outputs": [],
   "source": [
    "train = pd.read_csv('train-dec-mar.csv', sep=';', decimal=',')"
   ]
  },
  {
   "cell_type": "code",
   "execution_count": 4,
   "metadata": {
    "scrolled": true
   },
   "outputs": [
    {
     "data": {
      "text/html": [
       "<div>\n",
       "<style scoped>\n",
       "    .dataframe tbody tr th:only-of-type {\n",
       "        vertical-align: middle;\n",
       "    }\n",
       "\n",
       "    .dataframe tbody tr th {\n",
       "        vertical-align: top;\n",
       "    }\n",
       "\n",
       "    .dataframe thead th {\n",
       "        text-align: right;\n",
       "    }\n",
       "</style>\n",
       "<table border=\"1\" class=\"dataframe\">\n",
       "  <thead>\n",
       "    <tr style=\"text-align: right;\">\n",
       "      <th></th>\n",
       "      <th>User_id</th>\n",
       "      <th>Credit_id</th>\n",
       "      <th>Count_months</th>\n",
       "      <th>Amount</th>\n",
       "      <th>Month_payment</th>\n",
       "      <th>Payed</th>\n",
       "      <th>Left</th>\n",
       "      <th>Planned</th>\n",
       "      <th>Credit_taken</th>\n",
       "      <th>Pay_date</th>\n",
       "    </tr>\n",
       "  </thead>\n",
       "  <tbody>\n",
       "    <tr>\n",
       "      <th>0</th>\n",
       "      <td>196</td>\n",
       "      <td>6</td>\n",
       "      <td>7</td>\n",
       "      <td>1000</td>\n",
       "      <td>100</td>\n",
       "      <td>100.0</td>\n",
       "      <td>0.0</td>\n",
       "      <td>100</td>\n",
       "      <td>18.12.2019 23:55</td>\n",
       "      <td>18.02.2020</td>\n",
       "    </tr>\n",
       "    <tr>\n",
       "      <th>1</th>\n",
       "      <td>227</td>\n",
       "      <td>20</td>\n",
       "      <td>7</td>\n",
       "      <td>500</td>\n",
       "      <td>50</td>\n",
       "      <td>50.0</td>\n",
       "      <td>0.0</td>\n",
       "      <td>50</td>\n",
       "      <td>20.12.2019 5:40</td>\n",
       "      <td>20.02.2020</td>\n",
       "    </tr>\n",
       "    <tr>\n",
       "      <th>2</th>\n",
       "      <td>238</td>\n",
       "      <td>22</td>\n",
       "      <td>7</td>\n",
       "      <td>500</td>\n",
       "      <td>50</td>\n",
       "      <td>50.0</td>\n",
       "      <td>0.0</td>\n",
       "      <td>50</td>\n",
       "      <td>20.12.2019 10:45</td>\n",
       "      <td>20.02.2020</td>\n",
       "    </tr>\n",
       "    <tr>\n",
       "      <th>3</th>\n",
       "      <td>45</td>\n",
       "      <td>24</td>\n",
       "      <td>26</td>\n",
       "      <td>5000</td>\n",
       "      <td>167</td>\n",
       "      <td>334.0</td>\n",
       "      <td>0.0</td>\n",
       "      <td>167</td>\n",
       "      <td>20.12.2019 14:59</td>\n",
       "      <td>20.02.2020</td>\n",
       "    </tr>\n",
       "    <tr>\n",
       "      <th>4</th>\n",
       "      <td>123</td>\n",
       "      <td>26</td>\n",
       "      <td>28</td>\n",
       "      <td>5000</td>\n",
       "      <td>167</td>\n",
       "      <td>0.0</td>\n",
       "      <td>167.0</td>\n",
       "      <td>167</td>\n",
       "      <td>20.12.2019 16:56</td>\n",
       "      <td>20.02.2020</td>\n",
       "    </tr>\n",
       "  </tbody>\n",
       "</table>\n",
       "</div>"
      ],
      "text/plain": [
       "   User_id  Credit_id  Count_months  Amount  Month_payment  Payed   Left  \\\n",
       "0      196          6             7    1000            100  100.0    0.0   \n",
       "1      227         20             7     500             50   50.0    0.0   \n",
       "2      238         22             7     500             50   50.0    0.0   \n",
       "3       45         24            26    5000            167  334.0    0.0   \n",
       "4      123         26            28    5000            167    0.0  167.0   \n",
       "\n",
       "   Planned      Credit_taken    Pay_date  \n",
       "0      100  18.12.2019 23:55  18.02.2020  \n",
       "1       50   20.12.2019 5:40  20.02.2020  \n",
       "2       50  20.12.2019 10:45  20.02.2020  \n",
       "3      167  20.12.2019 14:59  20.02.2020  \n",
       "4      167  20.12.2019 16:56  20.02.2020  "
      ]
     },
     "execution_count": 4,
     "metadata": {},
     "output_type": "execute_result"
    }
   ],
   "source": [
    "train.head()"
   ]
  },
  {
   "cell_type": "code",
   "execution_count": 127,
   "metadata": {
    "scrolled": true
   },
   "outputs": [],
   "source": [
    "#train.Payed.hist(bins=10, range = (0,1000));"
   ]
  },
  {
   "cell_type": "code",
   "execution_count": 5,
   "metadata": {},
   "outputs": [
    {
     "name": "stdout",
     "output_type": "stream",
     "text": [
      "17734.06\n"
     ]
    }
   ],
   "source": [
    "left_train = sum((train.Left))\n",
    "print(left_train)"
   ]
  },
  {
   "cell_type": "code",
   "execution_count": 6,
   "metadata": {
    "scrolled": true
   },
   "outputs": [
    {
     "name": "stdout",
     "output_type": "stream",
     "text": [
      "42329.66\n"
     ]
    }
   ],
   "source": [
    "Actually_payed_train = sum(train.Payed)\n",
    "print(Actually_payed_train)"
   ]
  },
  {
   "cell_type": "code",
   "execution_count": 7,
   "metadata": {},
   "outputs": [
    {
     "name": "stdout",
     "output_type": "stream",
     "text": [
      "60233\n"
     ]
    }
   ],
   "source": [
    "Planned_train = sum(train.Planned)\n",
    "print(Planned_train)"
   ]
  },
  {
   "cell_type": "code",
   "execution_count": 8,
   "metadata": {},
   "outputs": [
    {
     "name": "stdout",
     "output_type": "stream",
     "text": [
      "169.28\n"
     ]
    }
   ],
   "source": [
    "Delta_train = Planned_train - left_train - Actually_payed_train\n",
    "print(Delta_train)"
   ]
  },
  {
   "cell_type": "code",
   "execution_count": 40,
   "metadata": {},
   "outputs": [],
   "source": [
    "test = pd.read_csv('test-april.csv', sep=';', decimal=',')"
   ]
  },
  {
   "cell_type": "code",
   "execution_count": 41,
   "metadata": {},
   "outputs": [
    {
     "data": {
      "text/html": [
       "<div>\n",
       "<style scoped>\n",
       "    .dataframe tbody tr th:only-of-type {\n",
       "        vertical-align: middle;\n",
       "    }\n",
       "\n",
       "    .dataframe tbody tr th {\n",
       "        vertical-align: top;\n",
       "    }\n",
       "\n",
       "    .dataframe thead th {\n",
       "        text-align: right;\n",
       "    }\n",
       "</style>\n",
       "<table border=\"1\" class=\"dataframe\">\n",
       "  <thead>\n",
       "    <tr style=\"text-align: right;\">\n",
       "      <th></th>\n",
       "      <th>User_id</th>\n",
       "      <th>Credit_id</th>\n",
       "      <th>Count_months</th>\n",
       "      <th>Amount</th>\n",
       "      <th>Month_payment</th>\n",
       "      <th>Payed</th>\n",
       "      <th>Left</th>\n",
       "      <th>Planned</th>\n",
       "      <th>Credit_taken</th>\n",
       "      <th>Pay_date</th>\n",
       "    </tr>\n",
       "  </thead>\n",
       "  <tbody>\n",
       "    <tr>\n",
       "      <th>0</th>\n",
       "      <td>196</td>\n",
       "      <td>6</td>\n",
       "      <td>6</td>\n",
       "      <td>1000</td>\n",
       "      <td>100</td>\n",
       "      <td>0.0</td>\n",
       "      <td>100.0</td>\n",
       "      <td>100</td>\n",
       "      <td>18.12.2019 23:55</td>\n",
       "      <td>18.04.2020</td>\n",
       "    </tr>\n",
       "    <tr>\n",
       "      <th>1</th>\n",
       "      <td>227</td>\n",
       "      <td>20</td>\n",
       "      <td>7</td>\n",
       "      <td>500</td>\n",
       "      <td>50</td>\n",
       "      <td>0.0</td>\n",
       "      <td>50.0</td>\n",
       "      <td>50</td>\n",
       "      <td>20.12.2019 5:40</td>\n",
       "      <td>19.04.2020</td>\n",
       "    </tr>\n",
       "    <tr>\n",
       "      <th>2</th>\n",
       "      <td>238</td>\n",
       "      <td>22</td>\n",
       "      <td>7</td>\n",
       "      <td>500</td>\n",
       "      <td>50</td>\n",
       "      <td>0.0</td>\n",
       "      <td>50.0</td>\n",
       "      <td>50</td>\n",
       "      <td>20.12.2019 10:45</td>\n",
       "      <td>20.04.2020</td>\n",
       "    </tr>\n",
       "    <tr>\n",
       "      <th>3</th>\n",
       "      <td>45</td>\n",
       "      <td>24</td>\n",
       "      <td>26</td>\n",
       "      <td>5000</td>\n",
       "      <td>167</td>\n",
       "      <td>0.0</td>\n",
       "      <td>167.0</td>\n",
       "      <td>167</td>\n",
       "      <td>20.12.2019 14:59</td>\n",
       "      <td>20.04.2020</td>\n",
       "    </tr>\n",
       "    <tr>\n",
       "      <th>4</th>\n",
       "      <td>123</td>\n",
       "      <td>26</td>\n",
       "      <td>28</td>\n",
       "      <td>5000</td>\n",
       "      <td>167</td>\n",
       "      <td>0.0</td>\n",
       "      <td>167.0</td>\n",
       "      <td>167</td>\n",
       "      <td>20.12.2019 16:56</td>\n",
       "      <td>20.04.2020</td>\n",
       "    </tr>\n",
       "  </tbody>\n",
       "</table>\n",
       "</div>"
      ],
      "text/plain": [
       "   User_id  Credit_id  Count_months  Amount  Month_payment  Payed   Left  \\\n",
       "0      196          6             6    1000            100    0.0  100.0   \n",
       "1      227         20             7     500             50    0.0   50.0   \n",
       "2      238         22             7     500             50    0.0   50.0   \n",
       "3       45         24            26    5000            167    0.0  167.0   \n",
       "4      123         26            28    5000            167    0.0  167.0   \n",
       "\n",
       "   Planned      Credit_taken    Pay_date  \n",
       "0      100  18.12.2019 23:55  18.04.2020  \n",
       "1       50   20.12.2019 5:40  19.04.2020  \n",
       "2       50  20.12.2019 10:45  20.04.2020  \n",
       "3      167  20.12.2019 14:59  20.04.2020  \n",
       "4      167  20.12.2019 16:56  20.04.2020  "
      ]
     },
     "execution_count": 41,
     "metadata": {},
     "output_type": "execute_result"
    }
   ],
   "source": [
    "test.head()"
   ]
  },
  {
   "cell_type": "code",
   "execution_count": 42,
   "metadata": {},
   "outputs": [
    {
     "data": {
      "text/plain": [
       "(1038, 10)"
      ]
     },
     "execution_count": 42,
     "metadata": {},
     "output_type": "execute_result"
    }
   ],
   "source": [
    "test.shape"
   ]
  },
  {
   "cell_type": "code",
   "execution_count": 43,
   "metadata": {},
   "outputs": [
    {
     "data": {
      "text/plain": [
       "(1120, 10)"
      ]
     },
     "execution_count": 43,
     "metadata": {},
     "output_type": "execute_result"
    }
   ],
   "source": [
    "train.shape"
   ]
  },
  {
   "cell_type": "code",
   "execution_count": 44,
   "metadata": {
    "scrolled": false
   },
   "outputs": [
    {
     "name": "stdout",
     "output_type": "stream",
     "text": [
      "46885\n"
     ]
    }
   ],
   "source": [
    "Planned_in_april = sum(test.Planned)\n",
    "print(Planned_in_april)"
   ]
  },
  {
   "cell_type": "code",
   "execution_count": 45,
   "metadata": {},
   "outputs": [
    {
     "name": "stdout",
     "output_type": "stream",
     "text": [
      "1010.29\n"
     ]
    }
   ],
   "source": [
    "Actually_payed_april = sum(test.Payed)\n",
    "print(Actually_payed_april)"
   ]
  },
  {
   "cell_type": "code",
   "execution_count": 46,
   "metadata": {},
   "outputs": [
    {
     "name": "stdout",
     "output_type": "stream",
     "text": [
      "36538.5\n"
     ]
    }
   ],
   "source": [
    "left_april = sum((test.Left).astype(float))\n",
    "print(left_april)"
   ]
  },
  {
   "cell_type": "code",
   "execution_count": 36,
   "metadata": {},
   "outputs": [
    {
     "name": "stdout",
     "output_type": "stream",
     "text": [
      "9336.21\n"
     ]
    }
   ],
   "source": [
    "Delta_test = Planned_in_april - left_april - Actually_payed_april\n",
    "print(Delta_test)"
   ]
  },
  {
   "cell_type": "code",
   "execution_count": 18,
   "metadata": {
    "scrolled": true
   },
   "outputs": [
    {
     "data": {
      "text/plain": [
       "Index([u'User_id', u'Credit_id', u'Count_months', u'Amount', u'Month_payment',\n",
       "       u'Payed', u'Left', u'Planned', u'Credit_taken', u'Pay_date'],\n",
       "      dtype='object')"
      ]
     },
     "execution_count": 18,
     "metadata": {},
     "output_type": "execute_result"
    }
   ],
   "source": [
    "train.columns"
   ]
  },
  {
   "cell_type": "code",
   "execution_count": 19,
   "metadata": {},
   "outputs": [],
   "source": [
    "# предскажем катбустом"
   ]
  },
  {
   "cell_type": "code",
   "execution_count": 34,
   "metadata": {},
   "outputs": [
    {
     "name": "stdout",
     "output_type": "stream",
     "text": [
      "0:\tlearn: 54.7957628\ttotal: 1.65ms\tremaining: 329ms\n",
      "1:\tlearn: 52.7349705\ttotal: 2.71ms\tremaining: 268ms\n",
      "2:\tlearn: 51.1654531\ttotal: 3.75ms\tremaining: 246ms\n",
      "3:\tlearn: 49.6502789\ttotal: 4.65ms\tremaining: 228ms\n",
      "4:\tlearn: 48.3129351\ttotal: 7.48ms\tremaining: 292ms\n",
      "5:\tlearn: 47.0502339\ttotal: 8.45ms\tremaining: 273ms\n",
      "6:\tlearn: 46.0241347\ttotal: 9.02ms\tremaining: 249ms\n",
      "7:\tlearn: 45.1291869\ttotal: 9.6ms\tremaining: 230ms\n",
      "8:\tlearn: 44.3809951\ttotal: 10.1ms\tremaining: 215ms\n",
      "9:\tlearn: 43.6541218\ttotal: 10.7ms\tremaining: 204ms\n",
      "10:\tlearn: 42.9066195\ttotal: 11.2ms\tremaining: 193ms\n",
      "11:\tlearn: 42.2575961\ttotal: 11.7ms\tremaining: 184ms\n",
      "12:\tlearn: 41.8971133\ttotal: 12.3ms\tremaining: 177ms\n",
      "13:\tlearn: 41.4585442\ttotal: 12.9ms\tremaining: 171ms\n",
      "14:\tlearn: 41.0169538\ttotal: 13.4ms\tremaining: 166ms\n",
      "15:\tlearn: 40.5568383\ttotal: 14ms\tremaining: 161ms\n",
      "16:\tlearn: 40.1535371\ttotal: 14.5ms\tremaining: 156ms\n",
      "17:\tlearn: 39.8798531\ttotal: 15.2ms\tremaining: 154ms\n",
      "18:\tlearn: 39.6155806\ttotal: 15.7ms\tremaining: 150ms\n",
      "19:\tlearn: 39.5119218\ttotal: 16.2ms\tremaining: 146ms\n",
      "20:\tlearn: 39.2225224\ttotal: 16.7ms\tremaining: 142ms\n",
      "21:\tlearn: 38.9331793\ttotal: 17.1ms\tremaining: 139ms\n",
      "22:\tlearn: 38.6720831\ttotal: 17.6ms\tremaining: 135ms\n",
      "23:\tlearn: 38.4745274\ttotal: 18.1ms\tremaining: 132ms\n",
      "24:\tlearn: 38.2620614\ttotal: 18.5ms\tremaining: 130ms\n",
      "25:\tlearn: 38.1343789\ttotal: 19ms\tremaining: 127ms\n",
      "26:\tlearn: 37.9508003\ttotal: 19.4ms\tremaining: 125ms\n",
      "27:\tlearn: 37.7454328\ttotal: 19.9ms\tremaining: 122ms\n",
      "28:\tlearn: 37.5621638\ttotal: 20.4ms\tremaining: 120ms\n",
      "29:\tlearn: 37.4874839\ttotal: 20.9ms\tremaining: 118ms\n",
      "30:\tlearn: 37.2839079\ttotal: 21.3ms\tremaining: 116ms\n",
      "31:\tlearn: 37.1822430\ttotal: 22.2ms\tremaining: 116ms\n",
      "32:\tlearn: 37.0957776\ttotal: 24.1ms\tremaining: 122ms\n",
      "33:\tlearn: 36.9925046\ttotal: 25.1ms\tremaining: 123ms\n",
      "34:\tlearn: 36.9099179\ttotal: 25.6ms\tremaining: 121ms\n",
      "35:\tlearn: 36.7573926\ttotal: 26.2ms\tremaining: 119ms\n",
      "36:\tlearn: 36.6074949\ttotal: 26.6ms\tremaining: 117ms\n",
      "37:\tlearn: 36.4790409\ttotal: 27.1ms\tremaining: 116ms\n",
      "38:\tlearn: 36.4327375\ttotal: 27.5ms\tremaining: 114ms\n",
      "39:\tlearn: 36.4055182\ttotal: 27.9ms\tremaining: 112ms\n",
      "40:\tlearn: 36.3549754\ttotal: 28.4ms\tremaining: 110ms\n",
      "41:\tlearn: 36.2155629\ttotal: 28.8ms\tremaining: 109ms\n",
      "42:\tlearn: 36.1645826\ttotal: 29.4ms\tremaining: 107ms\n",
      "43:\tlearn: 36.0739033\ttotal: 29.9ms\tremaining: 106ms\n",
      "44:\tlearn: 36.0207880\ttotal: 30.4ms\tremaining: 105ms\n",
      "45:\tlearn: 35.9812829\ttotal: 30.9ms\tremaining: 103ms\n",
      "46:\tlearn: 35.9443924\ttotal: 31.4ms\tremaining: 102ms\n",
      "47:\tlearn: 35.8259866\ttotal: 31.9ms\tremaining: 101ms\n",
      "48:\tlearn: 35.7182343\ttotal: 32.3ms\tremaining: 99.6ms\n",
      "49:\tlearn: 35.6711254\ttotal: 32.8ms\tremaining: 98.4ms\n",
      "50:\tlearn: 35.6384969\ttotal: 33.3ms\tremaining: 97.4ms\n",
      "51:\tlearn: 35.5397331\ttotal: 33.8ms\tremaining: 96.1ms\n",
      "52:\tlearn: 35.5038277\ttotal: 34.2ms\tremaining: 95ms\n",
      "53:\tlearn: 35.4785970\ttotal: 34.7ms\tremaining: 93.9ms\n",
      "54:\tlearn: 35.4481913\ttotal: 35.2ms\tremaining: 92.8ms\n",
      "55:\tlearn: 35.3883585\ttotal: 35.7ms\tremaining: 91.8ms\n",
      "56:\tlearn: 35.3069330\ttotal: 36.2ms\tremaining: 90.8ms\n",
      "57:\tlearn: 35.1885110\ttotal: 36.6ms\tremaining: 89.7ms\n",
      "58:\tlearn: 35.1620505\ttotal: 37.1ms\tremaining: 88.7ms\n",
      "59:\tlearn: 35.1142321\ttotal: 37.6ms\tremaining: 87.7ms\n",
      "60:\tlearn: 35.0522902\ttotal: 38.1ms\tremaining: 86.7ms\n",
      "61:\tlearn: 35.0021922\ttotal: 39ms\tremaining: 86.8ms\n",
      "62:\tlearn: 34.9817499\ttotal: 39.4ms\tremaining: 85.8ms\n",
      "63:\tlearn: 34.9623412\ttotal: 39.9ms\tremaining: 84.9ms\n",
      "64:\tlearn: 34.9426885\ttotal: 40.4ms\tremaining: 83.9ms\n",
      "65:\tlearn: 34.9182831\ttotal: 40.9ms\tremaining: 83ms\n",
      "66:\tlearn: 34.8855506\ttotal: 41.4ms\tremaining: 82.2ms\n",
      "67:\tlearn: 34.8386986\ttotal: 41.9ms\tremaining: 81.3ms\n",
      "68:\tlearn: 34.8046135\ttotal: 42.4ms\tremaining: 80.4ms\n",
      "69:\tlearn: 34.7634454\ttotal: 42.8ms\tremaining: 79.6ms\n",
      "70:\tlearn: 34.7335898\ttotal: 43.4ms\tremaining: 78.8ms\n",
      "71:\tlearn: 34.6967794\ttotal: 43.9ms\tremaining: 78ms\n",
      "72:\tlearn: 34.6773003\ttotal: 44.4ms\tremaining: 77.2ms\n",
      "73:\tlearn: 34.5857511\ttotal: 44.9ms\tremaining: 76.4ms\n",
      "74:\tlearn: 34.5168297\ttotal: 45.3ms\tremaining: 75.5ms\n",
      "75:\tlearn: 34.4569349\ttotal: 45.8ms\tremaining: 74.7ms\n",
      "76:\tlearn: 34.4354649\ttotal: 46.3ms\tremaining: 74ms\n",
      "77:\tlearn: 34.4056206\ttotal: 46.8ms\tremaining: 73.2ms\n",
      "78:\tlearn: 34.3838423\ttotal: 47.3ms\tremaining: 72.4ms\n",
      "79:\tlearn: 34.3671637\ttotal: 47.8ms\tremaining: 71.7ms\n",
      "80:\tlearn: 34.3538332\ttotal: 48.2ms\tremaining: 70.8ms\n",
      "81:\tlearn: 34.3425915\ttotal: 48.6ms\tremaining: 69.9ms\n",
      "82:\tlearn: 34.3187991\ttotal: 49.1ms\tremaining: 69.1ms\n",
      "83:\tlearn: 34.2996026\ttotal: 49.5ms\tremaining: 68.4ms\n",
      "84:\tlearn: 34.2880417\ttotal: 50ms\tremaining: 67.6ms\n",
      "85:\tlearn: 34.2111762\ttotal: 50.5ms\tremaining: 67ms\n",
      "86:\tlearn: 34.1962323\ttotal: 51ms\tremaining: 66.2ms\n",
      "87:\tlearn: 34.1625426\ttotal: 51.5ms\tremaining: 65.5ms\n",
      "88:\tlearn: 34.0939660\ttotal: 51.9ms\tremaining: 64.8ms\n",
      "89:\tlearn: 34.0838596\ttotal: 52.4ms\tremaining: 64ms\n",
      "90:\tlearn: 34.0235970\ttotal: 52.9ms\tremaining: 63.4ms\n",
      "91:\tlearn: 33.9988089\ttotal: 53.5ms\tremaining: 62.8ms\n",
      "92:\tlearn: 33.9893081\ttotal: 54ms\tremaining: 62.1ms\n",
      "93:\tlearn: 33.9802883\ttotal: 54.4ms\tremaining: 61.4ms\n",
      "94:\tlearn: 33.9717614\ttotal: 54.9ms\tremaining: 60.7ms\n",
      "95:\tlearn: 33.9187742\ttotal: 55.4ms\tremaining: 60ms\n",
      "96:\tlearn: 33.9080696\ttotal: 55.9ms\tremaining: 59.3ms\n",
      "97:\tlearn: 33.9002992\ttotal: 56.3ms\tremaining: 58.6ms\n",
      "98:\tlearn: 33.8894027\ttotal: 56.8ms\tremaining: 58ms\n",
      "99:\tlearn: 33.8791102\ttotal: 57.3ms\tremaining: 57.3ms\n",
      "100:\tlearn: 33.8502012\ttotal: 57.8ms\tremaining: 56.6ms\n",
      "101:\tlearn: 33.8026255\ttotal: 58.3ms\tremaining: 56ms\n",
      "102:\tlearn: 33.7813202\ttotal: 58.8ms\tremaining: 55.3ms\n",
      "103:\tlearn: 33.7749337\ttotal: 59.2ms\tremaining: 54.7ms\n",
      "104:\tlearn: 33.7565000\ttotal: 59.7ms\tremaining: 54ms\n",
      "105:\tlearn: 33.7141681\ttotal: 60.1ms\tremaining: 53.3ms\n",
      "106:\tlearn: 33.6755954\ttotal: 61ms\tremaining: 53ms\n",
      "107:\tlearn: 33.6343328\ttotal: 61.5ms\tremaining: 52.4ms\n",
      "108:\tlearn: 33.5966902\ttotal: 61.9ms\tremaining: 51.7ms\n",
      "109:\tlearn: 33.5913936\ttotal: 62.3ms\tremaining: 51ms\n",
      "110:\tlearn: 33.5792945\ttotal: 62.8ms\tremaining: 50.4ms\n",
      "111:\tlearn: 33.5596274\ttotal: 63.3ms\tremaining: 49.7ms\n",
      "112:\tlearn: 33.5533992\ttotal: 63.7ms\tremaining: 49.1ms\n",
      "113:\tlearn: 33.5488088\ttotal: 64.2ms\tremaining: 48.4ms\n",
      "114:\tlearn: 33.5148901\ttotal: 64.7ms\tremaining: 47.8ms\n",
      "115:\tlearn: 33.5044635\ttotal: 65.2ms\tremaining: 47.2ms\n",
      "116:\tlearn: 33.4872749\ttotal: 65.6ms\tremaining: 46.6ms\n",
      "117:\tlearn: 33.4570163\ttotal: 66.1ms\tremaining: 46ms\n",
      "118:\tlearn: 33.4298068\ttotal: 66.6ms\tremaining: 45.3ms\n",
      "119:\tlearn: 33.4155603\ttotal: 67.1ms\tremaining: 44.7ms\n",
      "120:\tlearn: 33.4115720\ttotal: 67.5ms\tremaining: 44.1ms\n",
      "121:\tlearn: 33.4034232\ttotal: 68ms\tremaining: 43.5ms\n",
      "122:\tlearn: 33.3998268\ttotal: 68.4ms\tremaining: 42.8ms\n",
      "123:\tlearn: 33.3752855\ttotal: 68.9ms\tremaining: 42.2ms\n",
      "124:\tlearn: 33.3717134\ttotal: 69.4ms\tremaining: 41.6ms\n",
      "125:\tlearn: 33.3511929\ttotal: 70ms\tremaining: 41.1ms\n",
      "126:\tlearn: 33.3389596\ttotal: 70.7ms\tremaining: 40.6ms\n",
      "127:\tlearn: 33.3358423\ttotal: 71.2ms\tremaining: 40ms\n",
      "128:\tlearn: 33.3232495\ttotal: 71.6ms\tremaining: 39.4ms\n",
      "129:\tlearn: 33.3204391\ttotal: 72.1ms\tremaining: 38.8ms\n",
      "130:\tlearn: 33.3125474\ttotal: 72.6ms\tremaining: 38.2ms\n",
      "131:\tlearn: 33.2951031\ttotal: 73ms\tremaining: 37.6ms\n",
      "132:\tlearn: 33.2785528\ttotal: 73.6ms\tremaining: 37.1ms\n",
      "133:\tlearn: 33.2723280\ttotal: 74.1ms\tremaining: 36.5ms\n",
      "134:\tlearn: 33.2652223\ttotal: 74.5ms\tremaining: 35.9ms\n",
      "135:\tlearn: 33.2621977\ttotal: 75ms\tremaining: 35.3ms\n",
      "136:\tlearn: 33.2562089\ttotal: 75.5ms\tremaining: 34.7ms\n",
      "137:\tlearn: 33.2498723\ttotal: 76.2ms\tremaining: 34.2ms\n",
      "138:\tlearn: 33.2370513\ttotal: 76.7ms\tremaining: 33.7ms\n",
      "139:\tlearn: 33.2181036\ttotal: 77.2ms\tremaining: 33.1ms\n",
      "140:\tlearn: 33.2087423\ttotal: 77.7ms\tremaining: 32.5ms\n",
      "141:\tlearn: 33.1956326\ttotal: 78.3ms\tremaining: 32ms\n",
      "142:\tlearn: 33.1787158\ttotal: 78.8ms\tremaining: 31.4ms\n",
      "143:\tlearn: 33.1731534\ttotal: 79.3ms\tremaining: 30.9ms\n",
      "144:\tlearn: 33.1710968\ttotal: 80ms\tremaining: 30.3ms\n",
      "145:\tlearn: 33.1562003\ttotal: 80.5ms\tremaining: 29.8ms\n",
      "146:\tlearn: 33.1449374\ttotal: 81ms\tremaining: 29.2ms\n",
      "147:\tlearn: 33.1395422\ttotal: 82.4ms\tremaining: 29ms\n",
      "148:\tlearn: 33.1295688\ttotal: 83.9ms\tremaining: 28.7ms\n",
      "149:\tlearn: 33.1248571\ttotal: 85.4ms\tremaining: 28.5ms\n",
      "150:\tlearn: 33.1204263\ttotal: 86.5ms\tremaining: 28.1ms\n",
      "151:\tlearn: 33.1157288\ttotal: 87.5ms\tremaining: 27.6ms\n",
      "152:\tlearn: 33.1117256\ttotal: 89ms\tremaining: 27.4ms\n",
      "153:\tlearn: 33.1049980\ttotal: 89.9ms\tremaining: 26.8ms\n",
      "154:\tlearn: 33.0964806\ttotal: 90.8ms\tremaining: 26.3ms\n",
      "155:\tlearn: 33.0899882\ttotal: 91.3ms\tremaining: 25.7ms\n",
      "156:\tlearn: 33.0858818\ttotal: 91.8ms\tremaining: 25.1ms\n",
      "157:\tlearn: 33.0819286\ttotal: 92.3ms\tremaining: 24.5ms\n",
      "158:\tlearn: 33.0801514\ttotal: 92.8ms\tremaining: 23.9ms\n",
      "159:\tlearn: 33.0697464\ttotal: 93.3ms\tremaining: 23.3ms\n",
      "160:\tlearn: 33.0633027\ttotal: 93.9ms\tremaining: 22.7ms\n",
      "161:\tlearn: 33.0597949\ttotal: 94.4ms\tremaining: 22.2ms\n",
      "162:\tlearn: 33.0473449\ttotal: 95.1ms\tremaining: 21.6ms\n",
      "163:\tlearn: 33.0444097\ttotal: 95.7ms\tremaining: 21ms\n",
      "164:\tlearn: 33.0326820\ttotal: 96.2ms\tremaining: 20.4ms\n",
      "165:\tlearn: 33.0264621\ttotal: 97.9ms\tremaining: 20.1ms\n",
      "166:\tlearn: 33.0213915\ttotal: 99.5ms\tremaining: 19.7ms\n",
      "167:\tlearn: 33.0200120\ttotal: 100ms\tremaining: 19ms\n",
      "168:\tlearn: 33.0160244\ttotal: 101ms\tremaining: 18.4ms\n",
      "169:\tlearn: 33.0130022\ttotal: 101ms\tremaining: 17.8ms\n",
      "170:\tlearn: 33.0077968\ttotal: 102ms\tremaining: 17.2ms\n",
      "171:\tlearn: 33.0042547\ttotal: 102ms\tremaining: 16.6ms\n",
      "172:\tlearn: 32.9957206\ttotal: 103ms\tremaining: 16ms\n",
      "173:\tlearn: 32.9857746\ttotal: 104ms\tremaining: 15.5ms\n",
      "174:\tlearn: 32.9781119\ttotal: 104ms\tremaining: 14.9ms\n",
      "175:\tlearn: 32.9768184\ttotal: 105ms\tremaining: 14.3ms\n",
      "176:\tlearn: 32.9721216\ttotal: 105ms\tremaining: 13.7ms\n",
      "177:\tlearn: 32.9709042\ttotal: 106ms\tremaining: 13.1ms\n",
      "178:\tlearn: 32.9622474\ttotal: 106ms\tremaining: 12.5ms\n",
      "179:\tlearn: 32.9584008\ttotal: 107ms\tremaining: 11.9ms\n",
      "180:\tlearn: 32.9547446\ttotal: 107ms\tremaining: 11.3ms\n",
      "181:\tlearn: 32.9506168\ttotal: 108ms\tremaining: 10.7ms\n",
      "182:\tlearn: 32.9450640\ttotal: 108ms\tremaining: 10.1ms\n",
      "183:\tlearn: 32.9440435\ttotal: 109ms\tremaining: 9.46ms\n",
      "184:\tlearn: 32.9408395\ttotal: 109ms\tremaining: 8.86ms\n",
      "185:\tlearn: 32.9379664\ttotal: 110ms\tremaining: 8.26ms\n",
      "186:\tlearn: 32.9309011\ttotal: 110ms\tremaining: 7.66ms\n",
      "187:\tlearn: 32.9280089\ttotal: 111ms\tremaining: 7.07ms\n",
      "188:\tlearn: 32.9219027\ttotal: 111ms\tremaining: 6.47ms\n",
      "189:\tlearn: 32.9208971\ttotal: 112ms\tremaining: 5.88ms\n",
      "190:\tlearn: 32.9199461\ttotal: 112ms\tremaining: 5.29ms\n",
      "191:\tlearn: 32.9169901\ttotal: 113ms\tremaining: 4.69ms\n",
      "192:\tlearn: 32.9161335\ttotal: 113ms\tremaining: 4.1ms\n",
      "193:\tlearn: 32.9135754\ttotal: 114ms\tremaining: 3.51ms\n",
      "194:\tlearn: 32.9074122\ttotal: 114ms\tremaining: 2.93ms\n",
      "195:\tlearn: 32.9066358\ttotal: 115ms\tremaining: 2.34ms\n",
      "196:\tlearn: 32.9012545\ttotal: 115ms\tremaining: 1.75ms\n",
      "197:\tlearn: 32.8989928\ttotal: 116ms\tremaining: 1.17ms\n",
      "198:\tlearn: 32.8928122\ttotal: 116ms\tremaining: 583us\n",
      "199:\tlearn: 32.8877463\ttotal: 117ms\tremaining: 0us\n"
     ]
    },
    {
     "data": {
      "image/png": "[encoded data removed]",
      "text/plain": [
       "<Figure size 432x288 with 1 Axes>"
      ]
     },
     "metadata": {
      "needs_background": "light"
     },
     "output_type": "display_data"
    },
    {
     "name": "stdout",
     "output_type": "stream",
     "text": [
      "('\\xd0\\xbf\\xd1\\x80\\xd0\\xb5\\xd0\\xb4\\xd0\\xbf\\xd0\\xbe\\xd0\\xbb\\xd0\\xbe\\xd0\\xb6\\xd0\\xb8\\xd1\\x82\\xd0\\xb5\\xd0\\xbb\\xd1\\x8c\\xd0\\xbd\\xd0\\xbe \\xd0\\xb2\\xd1\\x81\\xd0\\xb5\\xd0\\xb3\\xd0\\xbe \\xd0\\xb2\\xd1\\x8b\\xd0\\xbf\\xd0\\xbb\\xd0\\xb0\\xd1\\x82\\xd1\\x8f\\xd1\\x82 \\xd0\\xb7\\xd0\\xb0 \\xd0\\xb0\\xd0\\xbf\\xd1\\x80\\xd0\\xb5\\xd0\\xbb\\xd1\\x8c: ', 27242.568146676822)\n"
     ]
    }
   ],
   "source": [
    "from sklearn.metrics import classification_report, confusion_matrix, accuracy_score, r2_score\n",
    "from catboost import CatBoostRegressor\n",
    "import seaborn as sns\n",
    "import matplotlib.pyplot as plt\n",
    "# initialize data\n",
    "features = ['Count_months', 'Amount', 'Month_payment']\n",
    "\n",
    "#lab_enc = preprocessing.LabelEncoder()\n",
    "#df_target = df_investors.TotalPays.copy()\n",
    "#encoded = lab_enc.fit_transform(df_target)\n",
    "\n",
    "#X_train, X_val, y_train, y_val = train_test_split(df_investors[features], encoded, test_size=0.3)\n",
    "\n",
    "X_train = train[features]\n",
    "X_val = test[features]\n",
    "y_train = train.Payed.copy()\n",
    "y_val = test.Payed.copy()\n",
    "\n",
    "model=CatBoostRegressor(iterations=200, depth=5, learning_rate=0.1, loss_function='RMSE')\n",
    "model.fit(X_train, y_train)\n",
    "preds = model.predict(X_val)\n",
    "feature_imp = pd.Series(model.feature_importances_,index=features).sort_values(ascending=False)\n",
    "sns.barplot(x=feature_imp, y=feature_imp.index)\n",
    "# Add labels to your graph\n",
    "plt.xlabel('Feature Importance Score')\n",
    "plt.ylabel('Features')\n",
    "plt.title(\"Visualizing Important Features\")\n",
    "plt.legend()\n",
    "plt.show()\n",
    "\n",
    "#plt.plot(y_val, label = 'actual')\n",
    "# Plot the predicted values\n",
    "#plt.plot(preds, label = 'prediction')\n",
    "#plt.xticks(rotation = '60'); \n",
    "#plt.legend()\n",
    " \n",
    "#print(\"предположительно всего выплатят за март: \", preds, '\\n')\n",
    "print(\"предположительно всего выплатят за апрель: \", sum(preds))\n"
   ]
  },
  {
   "cell_type": "code",
   "execution_count": 95,
   "metadata": {},
   "outputs": [],
   "source": [
    "# пробуем предсказать случайным лесом"
   ]
  },
  {
   "cell_type": "code",
   "execution_count": 33,
   "metadata": {
    "scrolled": false
   },
   "outputs": [
    {
     "name": "stdout",
     "output_type": "stream",
     "text": [
      "('\\xd0\\xbf\\xd1\\x80\\xd0\\xb5\\xd0\\xb4\\xd0\\xbf\\xd0\\xbe\\xd0\\xbb\\xd0\\xbe\\xd0\\xb6\\xd0\\xb8\\xd1\\x82\\xd0\\xb5\\xd0\\xbb\\xd1\\x8c\\xd0\\xbd\\xd0\\xbe \\xd0\\xb2\\xd1\\x81\\xd0\\xb5\\xd0\\xb3\\xd0\\xbe \\xd0\\xb2\\xd1\\x8b\\xd0\\xbf\\xd0\\xbb\\xd0\\xb0\\xd1\\x82\\xd1\\x8f\\xd1\\x82 \\xd0\\xb7\\xd0\\xb0 \\xd0\\xb0\\xd0\\xbf\\xd1\\x80\\xd0\\xb5\\xd0\\xbb\\xd1\\x8c: ', 29535)\n"
     ]
    },
    {
     "data": {
      "image/png": "[encoded data removed]",
      "text/plain": [
       "<Figure size 432x288 with 1 Axes>"
      ]
     },
     "metadata": {
      "needs_background": "light"
     },
     "output_type": "display_data"
    }
   ],
   "source": [
    "from sklearn.model_selection import train_test_split\n",
    "from sklearn import ensemble\n",
    "from sklearn.metrics import classification_report, confusion_matrix, accuracy_score\n",
    "features = ['Count_months', 'Amount', 'Month_payment']\n",
    "\n",
    "X_train = train[features]\n",
    "X_val = test[features]\n",
    "y_train = train.Payed.astype('int64').copy()\n",
    "y_val = test.Payed.astype('int64').copy()\n",
    "\n",
    "clf = ensemble.RandomForestClassifier(n_estimators=1000)\n",
    "clf.fit(X_train, y_train)\n",
    "y_pred = clf.predict(X_val)\n",
    "\n",
    "#print(\"предположительно всего выплатят за март: \", y_pred, '\\n')\n",
    "print(\"предположительно всего выплатят за апрель: \", sum(y_pred))\n",
    "\n",
    "feature_imp = pd.Series(clf.feature_importances_,index=features).sort_values(ascending=False)\n",
    "sns.barplot(x=feature_imp, y=feature_imp.index)\n",
    "# Add labels to your graph\n",
    "plt.xlabel('Feature Importance Score')\n",
    "plt.ylabel('Features')\n",
    "plt.title(\"Visualizing Important Features\")\n",
    "plt.legend()\n",
    "plt.show()"
   ]
  },
  {
   "cell_type": "code",
   "execution_count": 98,
   "metadata": {},
   "outputs": [],
   "source": [
    "#Предскажем деревом решений"
   ]
  },
  {
   "cell_type": "code",
   "execution_count": 32,
   "metadata": {},
   "outputs": [
    {
     "name": "stdout",
     "output_type": "stream",
     "text": [
      "('\\xd0\\xbf\\xd1\\x80\\xd0\\xb5\\xd0\\xb4\\xd0\\xbf\\xd0\\xbe\\xd0\\xbb\\xd0\\xbe\\xd0\\xb6\\xd0\\xb8\\xd1\\x82\\xd0\\xb5\\xd0\\xbb\\xd1\\x8c\\xd0\\xbd\\xd0\\xbe \\xd0\\xb2\\xd1\\x81\\xd0\\xb5\\xd0\\xb3\\xd0\\xbe \\xd0\\xb2\\xd1\\x8b\\xd0\\xbf\\xd0\\xbb\\xd0\\xb0\\xd1\\x82\\xd1\\x8f\\xd1\\x82 \\xd0\\xb7\\xd0\\xb0 \\xd0\\xb0\\xd0\\xbf\\xd1\\x80\\xd0\\xb5\\xd0\\xbb\\xd1\\x8c: ', 28855)\n"
     ]
    }
   ],
   "source": [
    "from sklearn.tree import DecisionTreeClassifier\n",
    "\n",
    "y = train.Payed.astype('int64').copy()\n",
    "x = train[features]\n",
    "x_val = test[features]\n",
    "y_val = test.Payed.astype('int64').copy()\n",
    "\n",
    "model = DecisionTreeClassifier()\n",
    "model.fit(x,y)\n",
    "proba = model.predict(x_val)\n",
    "\n",
    "print(\"предположительно всего выплатят за апрель: \", sum(proba))"
   ]
  },
  {
   "cell_type": "code",
   "execution_count": null,
   "metadata": {},
   "outputs": [],
   "source": []
  }
 ],
 "metadata": {
  "kernelspec": {
   "display_name": "Python 2",
   "language": "python",
   "name": "python2"
  },
  "language_info": {
   "codemirror_mode": {
    "name": "ipython",
    "version": 2
   },
   "file_extension": ".py",
   "mimetype": "text/x-python",
   "name": "python",
   "nbconvert_exporter": "python",
   "pygments_lexer": "ipython2",
   "version": "2.7.10"
  }
 },
 "nbformat": 4,
 "nbformat_minor": 4
}
