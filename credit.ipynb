{
 "cells": [
  {
   "cell_type": "code",
   "execution_count": 90,
   "metadata": {},
   "outputs": [
    {
     "name": "stdout",
     "output_type": "stream",
     "text": [
      "\u001b[33mDEPRECATION: Python 2.7 reached the end of its life on January 1st, 2020. Please upgrade your Python as Python 2.7 is no longer maintained. A future version of pip will drop support for Python 2.7. More details about Python 2 support in pip, can be found at https://pip.pypa.io/en/latest/development/release-process/#python-2-support\u001b[0m\n",
      "Defaulting to user installation because normal site-packages is not writeable\n",
      "Collecting sklearn\n",
      "  Downloading sklearn-0.0.tar.gz (1.1 kB)\n",
      "Collecting scikit-learn\n",
      "  Downloading scikit_learn-0.20.4-cp27-cp27m-macosx_10_6_intel.macosx_10_9_intel.macosx_10_9_x86_64.macosx_10_10_intel.macosx_10_10_x86_64.whl (8.3 MB)\n",
      "\u001b[K     |████████████████████████████████| 8.3 MB 3.5 MB/s eta 0:00:01\n",
      "\u001b[?25hRequirement already satisfied: numpy>=1.8.2 in /Users/artemutkin/Library/Python/2.7/lib/python/site-packages (from scikit-learn->sklearn) (1.16.6)\n",
      "Requirement already satisfied: scipy>=0.13.3 in /Users/artemutkin/Library/Python/2.7/lib/python/site-packages (from scikit-learn->sklearn) (1.2.3)\n",
      "Installing collected packages: scikit-learn, sklearn\n",
      "    Running setup.py install for sklearn ... \u001b[?25ldone\n",
      "\u001b[?25hSuccessfully installed scikit-learn-0.20.4 sklearn-0.0\n"
     ]
    }
   ],
   "source": [
    "!pip install sklearn"
   ]
  },
  {
   "cell_type": "code",
   "execution_count": 92,
   "metadata": {},
   "outputs": [
    {
     "name": "stdout",
     "output_type": "stream",
     "text": [
      "\u001b[33mDEPRECATION: Python 2.7 reached the end of its life on January 1st, 2020. Please upgrade your Python as Python 2.7 is no longer maintained. A future version of pip will drop support for Python 2.7. More details about Python 2 support in pip, can be found at https://pip.pypa.io/en/latest/development/release-process/#python-2-support\u001b[0m\n",
      "Defaulting to user installation because normal site-packages is not writeable\n",
      "Collecting catboost\n",
      "  Downloading catboost-0.22-cp27-none-macosx_10_6_intel.macosx_10_9_intel.macosx_10_9_x86_64.macosx_10_10_intel.macosx_10_10_x86_64.whl (10.6 MB)\n",
      "\u001b[K     |████████████████████████████████| 10.6 MB 2.1 MB/s eta 0:00:01\n",
      "\u001b[?25hCollecting plotly\n",
      "  Downloading plotly-4.5.4-py2.py3-none-any.whl (7.1 MB)\n",
      "\u001b[K     |████████████████████████████████| 7.1 MB 939 kB/s eta 0:00:01\n",
      "\u001b[?25hRequirement already satisfied: six in /Users/artemutkin/Library/Python/2.7/lib/python/site-packages (from catboost) (1.14.0)\n",
      "Requirement already satisfied: numpy>=1.16.0 in /Users/artemutkin/Library/Python/2.7/lib/python/site-packages (from catboost) (1.16.6)\n",
      "Requirement already satisfied: scipy in /Users/artemutkin/Library/Python/2.7/lib/python/site-packages (from catboost) (1.2.3)\n",
      "Collecting graphviz\n",
      "  Downloading graphviz-0.13.2-py2.py3-none-any.whl (17 kB)\n",
      "Requirement already satisfied: pandas>=0.24.0 in /Users/artemutkin/Library/Python/2.7/lib/python/site-packages (from catboost) (0.24.2)\n",
      "Requirement already satisfied: matplotlib in /Users/artemutkin/Library/Python/2.7/lib/python/site-packages (from catboost) (2.2.5)\n",
      "Requirement already satisfied: enum34; python_version < \"3.4\" in /Users/artemutkin/Library/Python/2.7/lib/python/site-packages (from catboost) (1.1.10)\n",
      "Collecting retrying>=1.3.3\n",
      "  Downloading retrying-1.3.3.tar.gz (10 kB)\n",
      "Requirement already satisfied: python-dateutil>=2.5.0 in /Users/artemutkin/Library/Python/2.7/lib/python/site-packages (from pandas>=0.24.0->catboost) (2.8.1)\n",
      "Requirement already satisfied: pytz>=2011k in /System/Library/Frameworks/Python.framework/Versions/2.7/Extras/lib/python (from pandas>=0.24.0->catboost) (2013.7)\n",
      "Requirement already satisfied: pyparsing!=2.0.4,!=2.1.2,!=2.1.6,>=2.0.1 in /System/Library/Frameworks/Python.framework/Versions/2.7/Extras/lib/python (from matplotlib->catboost) (2.0.1)\n",
      "Requirement already satisfied: backports.functools-lru-cache in /Users/artemutkin/Library/Python/2.7/lib/python/site-packages (from matplotlib->catboost) (1.6.1)\n",
      "Requirement already satisfied: cycler>=0.10 in /Users/artemutkin/Library/Python/2.7/lib/python/site-packages (from matplotlib->catboost) (0.10.0)\n",
      "Requirement already satisfied: kiwisolver>=1.0.1 in /Users/artemutkin/Library/Python/2.7/lib/python/site-packages (from matplotlib->catboost) (1.1.0)\n",
      "Requirement already satisfied: subprocess32 in /Users/artemutkin/Library/Python/2.7/lib/python/site-packages (from matplotlib->catboost) (3.5.4)\n",
      "Requirement already satisfied: setuptools in /System/Library/Frameworks/Python.framework/Versions/2.7/Extras/lib/python (from kiwisolver>=1.0.1->matplotlib->catboost) (18.5)\n",
      "Installing collected packages: retrying, plotly, graphviz, catboost\n",
      "    Running setup.py install for retrying ... \u001b[?25ldone\n",
      "\u001b[?25hSuccessfully installed catboost-0.22 graphviz-0.13.2 plotly-4.5.4 retrying-1.3.3\n"
     ]
    }
   ],
   "source": [
    "!pip install catboost"
   ]
  },
  {
   "cell_type": "code",
   "execution_count": 1,
   "metadata": {},
   "outputs": [],
   "source": [
    "import pandas as pd"
   ]
  },
  {
   "cell_type": "code",
   "execution_count": 2,
   "metadata": {},
   "outputs": [],
   "source": [
    "pd.options.display.max_columns = None"
   ]
  },
  {
   "cell_type": "code",
   "execution_count": 125,
   "metadata": {},
   "outputs": [],
   "source": [
    "train = pd.read_csv('train-dec-mar.csv', sep=';', decimal=',')"
   ]
  },
  {
   "cell_type": "code",
   "execution_count": 126,
   "metadata": {
    "scrolled": true
   },
   "outputs": [
    {
     "data": {
      "text/html": [
       "<div>\n",
       "<style scoped>\n",
       "    .dataframe tbody tr th:only-of-type {\n",
       "        vertical-align: middle;\n",
       "    }\n",
       "\n",
       "    .dataframe tbody tr th {\n",
       "        vertical-align: top;\n",
       "    }\n",
       "\n",
       "    .dataframe thead th {\n",
       "        text-align: right;\n",
       "    }\n",
       "</style>\n",
       "<table border=\"1\" class=\"dataframe\">\n",
       "  <thead>\n",
       "    <tr style=\"text-align: right;\">\n",
       "      <th></th>\n",
       "      <th>User_id</th>\n",
       "      <th>Credit_id</th>\n",
       "      <th>Count_months</th>\n",
       "      <th>Amount</th>\n",
       "      <th>Month_payment</th>\n",
       "      <th>Payed</th>\n",
       "      <th>Left</th>\n",
       "      <th>Planned</th>\n",
       "      <th>Credit_taken</th>\n",
       "      <th>Pay_date</th>\n",
       "    </tr>\n",
       "  </thead>\n",
       "  <tbody>\n",
       "    <tr>\n",
       "      <th>0</th>\n",
       "      <td>196</td>\n",
       "      <td>6</td>\n",
       "      <td>7</td>\n",
       "      <td>1000</td>\n",
       "      <td>100</td>\n",
       "      <td>100.0</td>\n",
       "      <td>0.0</td>\n",
       "      <td>100</td>\n",
       "      <td>18.12.2019 23:55</td>\n",
       "      <td>18.02.2020</td>\n",
       "    </tr>\n",
       "    <tr>\n",
       "      <th>1</th>\n",
       "      <td>227</td>\n",
       "      <td>20</td>\n",
       "      <td>7</td>\n",
       "      <td>500</td>\n",
       "      <td>50</td>\n",
       "      <td>50.0</td>\n",
       "      <td>0.0</td>\n",
       "      <td>50</td>\n",
       "      <td>20.12.2019 5:40</td>\n",
       "      <td>20.02.2020</td>\n",
       "    </tr>\n",
       "    <tr>\n",
       "      <th>2</th>\n",
       "      <td>238</td>\n",
       "      <td>22</td>\n",
       "      <td>7</td>\n",
       "      <td>500</td>\n",
       "      <td>50</td>\n",
       "      <td>50.0</td>\n",
       "      <td>0.0</td>\n",
       "      <td>50</td>\n",
       "      <td>20.12.2019 10:45</td>\n",
       "      <td>20.02.2020</td>\n",
       "    </tr>\n",
       "    <tr>\n",
       "      <th>3</th>\n",
       "      <td>45</td>\n",
       "      <td>24</td>\n",
       "      <td>26</td>\n",
       "      <td>5000</td>\n",
       "      <td>167</td>\n",
       "      <td>334.0</td>\n",
       "      <td>0.0</td>\n",
       "      <td>167</td>\n",
       "      <td>20.12.2019 14:59</td>\n",
       "      <td>20.02.2020</td>\n",
       "    </tr>\n",
       "    <tr>\n",
       "      <th>4</th>\n",
       "      <td>123</td>\n",
       "      <td>26</td>\n",
       "      <td>28</td>\n",
       "      <td>5000</td>\n",
       "      <td>167</td>\n",
       "      <td>0.0</td>\n",
       "      <td>167.0</td>\n",
       "      <td>167</td>\n",
       "      <td>20.12.2019 16:56</td>\n",
       "      <td>20.02.2020</td>\n",
       "    </tr>\n",
       "  </tbody>\n",
       "</table>\n",
       "</div>"
      ],
      "text/plain": [
       "   User_id  Credit_id  Count_months  Amount  Month_payment  Payed   Left  \\\n",
       "0      196          6             7    1000            100  100.0    0.0   \n",
       "1      227         20             7     500             50   50.0    0.0   \n",
       "2      238         22             7     500             50   50.0    0.0   \n",
       "3       45         24            26    5000            167  334.0    0.0   \n",
       "4      123         26            28    5000            167    0.0  167.0   \n",
       "\n",
       "   Planned      Credit_taken    Pay_date  \n",
       "0      100  18.12.2019 23:55  18.02.2020  \n",
       "1       50   20.12.2019 5:40  20.02.2020  \n",
       "2       50  20.12.2019 10:45  20.02.2020  \n",
       "3      167  20.12.2019 14:59  20.02.2020  \n",
       "4      167  20.12.2019 16:56  20.02.2020  "
      ]
     },
     "execution_count": 126,
     "metadata": {},
     "output_type": "execute_result"
    }
   ],
   "source": [
    "train.head()"
   ]
  },
  {
   "cell_type": "code",
   "execution_count": 127,
   "metadata": {
    "scrolled": true
   },
   "outputs": [],
   "source": [
    "#train.Payed.hist(bins=10, range = (0,1000));"
   ]
  },
  {
   "cell_type": "code",
   "execution_count": 128,
   "metadata": {},
   "outputs": [
    {
     "name": "stdout",
     "output_type": "stream",
     "text": [
      "17734.9\n"
     ]
    }
   ],
   "source": [
    "left_train = sum((train.Left))\n",
    "print(left_train)"
   ]
  },
  {
   "cell_type": "code",
   "execution_count": 129,
   "metadata": {
    "scrolled": true
   },
   "outputs": [
    {
     "name": "stdout",
     "output_type": "stream",
     "text": [
      "24883.31\n"
     ]
    }
   ],
   "source": [
    "Actually_payed_train = sum(train.Payed)\n",
    "print(Actually_payed_train)"
   ]
  },
  {
   "cell_type": "code",
   "execution_count": 130,
   "metadata": {},
   "outputs": [
    {
     "name": "stdout",
     "output_type": "stream",
     "text": [
      "43365\n"
     ]
    }
   ],
   "source": [
    "Planned_train = sum(train.Planned)\n",
    "print(Planned_train)"
   ]
  },
  {
   "cell_type": "code",
   "execution_count": 131,
   "metadata": {},
   "outputs": [
    {
     "name": "stdout",
     "output_type": "stream",
     "text": [
      "746.79\n"
     ]
    }
   ],
   "source": [
    "Delta_train = Planned_train - left_train - Actually_payed_train\n",
    "print(Delta_train)"
   ]
  },
  {
   "cell_type": "code",
   "execution_count": 132,
   "metadata": {},
   "outputs": [],
   "source": [
    "test = pd.read_csv('test-april.csv', sep=';', decimal=',')"
   ]
  },
  {
   "cell_type": "code",
   "execution_count": 133,
   "metadata": {},
   "outputs": [
    {
     "data": {
      "text/html": [
       "<div>\n",
       "<style scoped>\n",
       "    .dataframe tbody tr th:only-of-type {\n",
       "        vertical-align: middle;\n",
       "    }\n",
       "\n",
       "    .dataframe tbody tr th {\n",
       "        vertical-align: top;\n",
       "    }\n",
       "\n",
       "    .dataframe thead th {\n",
       "        text-align: right;\n",
       "    }\n",
       "</style>\n",
       "<table border=\"1\" class=\"dataframe\">\n",
       "  <thead>\n",
       "    <tr style=\"text-align: right;\">\n",
       "      <th></th>\n",
       "      <th>User_id</th>\n",
       "      <th>Credit_id</th>\n",
       "      <th>Count_months</th>\n",
       "      <th>Amount</th>\n",
       "      <th>Month_payment</th>\n",
       "      <th>Payed</th>\n",
       "      <th>Left</th>\n",
       "      <th>Planned</th>\n",
       "      <th>Credit_taken</th>\n",
       "      <th>Pay_date</th>\n",
       "    </tr>\n",
       "  </thead>\n",
       "  <tbody>\n",
       "    <tr>\n",
       "      <th>0</th>\n",
       "      <td>196</td>\n",
       "      <td>6</td>\n",
       "      <td>6</td>\n",
       "      <td>1000</td>\n",
       "      <td>100</td>\n",
       "      <td>0.0</td>\n",
       "      <td>100.0</td>\n",
       "      <td>100.0</td>\n",
       "      <td>18.12.2019 23:55</td>\n",
       "      <td>18.04.2020</td>\n",
       "    </tr>\n",
       "    <tr>\n",
       "      <th>1</th>\n",
       "      <td>227</td>\n",
       "      <td>20</td>\n",
       "      <td>7</td>\n",
       "      <td>500</td>\n",
       "      <td>50</td>\n",
       "      <td>0.0</td>\n",
       "      <td>50.0</td>\n",
       "      <td>50.0</td>\n",
       "      <td>20.12.2019 5:40</td>\n",
       "      <td>19.04.2020</td>\n",
       "    </tr>\n",
       "    <tr>\n",
       "      <th>2</th>\n",
       "      <td>238</td>\n",
       "      <td>22</td>\n",
       "      <td>7</td>\n",
       "      <td>500</td>\n",
       "      <td>50</td>\n",
       "      <td>0.0</td>\n",
       "      <td>50.0</td>\n",
       "      <td>50.0</td>\n",
       "      <td>20.12.2019 10:45</td>\n",
       "      <td>20.04.2020</td>\n",
       "    </tr>\n",
       "    <tr>\n",
       "      <th>3</th>\n",
       "      <td>45</td>\n",
       "      <td>24</td>\n",
       "      <td>26</td>\n",
       "      <td>5000</td>\n",
       "      <td>167</td>\n",
       "      <td>0.0</td>\n",
       "      <td>167.0</td>\n",
       "      <td>167.0</td>\n",
       "      <td>20.12.2019 14:59</td>\n",
       "      <td>20.04.2020</td>\n",
       "    </tr>\n",
       "    <tr>\n",
       "      <th>4</th>\n",
       "      <td>123</td>\n",
       "      <td>26</td>\n",
       "      <td>28</td>\n",
       "      <td>5000</td>\n",
       "      <td>167</td>\n",
       "      <td>0.0</td>\n",
       "      <td>167.0</td>\n",
       "      <td>167.0</td>\n",
       "      <td>20.12.2019 16:56</td>\n",
       "      <td>20.04.2020</td>\n",
       "    </tr>\n",
       "  </tbody>\n",
       "</table>\n",
       "</div>"
      ],
      "text/plain": [
       "   User_id  Credit_id  Count_months  Amount  Month_payment  Payed   Left  \\\n",
       "0      196          6             6    1000            100    0.0  100.0   \n",
       "1      227         20             7     500             50    0.0   50.0   \n",
       "2      238         22             7     500             50    0.0   50.0   \n",
       "3       45         24            26    5000            167    0.0  167.0   \n",
       "4      123         26            28    5000            167    0.0  167.0   \n",
       "\n",
       "   Planned      Credit_taken    Pay_date  \n",
       "0    100.0  18.12.2019 23:55  18.04.2020  \n",
       "1     50.0   20.12.2019 5:40  19.04.2020  \n",
       "2     50.0  20.12.2019 10:45  20.04.2020  \n",
       "3    167.0  20.12.2019 14:59  20.04.2020  \n",
       "4    167.0  20.12.2019 16:56  20.04.2020  "
      ]
     },
     "execution_count": 133,
     "metadata": {},
     "output_type": "execute_result"
    }
   ],
   "source": [
    "test.head()"
   ]
  },
  {
   "cell_type": "code",
   "execution_count": 151,
   "metadata": {},
   "outputs": [
    {
     "data": {
      "text/plain": [
       "(906, 10)"
      ]
     },
     "execution_count": 151,
     "metadata": {},
     "output_type": "execute_result"
    }
   ],
   "source": [
    "test.shape"
   ]
  },
  {
   "cell_type": "code",
   "execution_count": 152,
   "metadata": {},
   "outputs": [
    {
     "data": {
      "text/plain": [
       "(667, 10)"
      ]
     },
     "execution_count": 152,
     "metadata": {},
     "output_type": "execute_result"
    }
   ],
   "source": [
    "train.shape"
   ]
  },
  {
   "cell_type": "raw",
   "metadata": {},
   "source": []
  },
  {
   "cell_type": "code",
   "execution_count": 134,
   "metadata": {
    "scrolled": false
   },
   "outputs": [
    {
     "name": "stdout",
     "output_type": "stream",
     "text": [
      "37978.0\n"
     ]
    }
   ],
   "source": [
    "Planned_in_april = sum(test.Planned)\n",
    "print(Planned_in_april)"
   ]
  },
  {
   "cell_type": "code",
   "execution_count": 135,
   "metadata": {},
   "outputs": [
    {
     "name": "stdout",
     "output_type": "stream",
     "text": [
      "810.29\n"
     ]
    }
   ],
   "source": [
    "Actually_payed_april = sum(test.Payed)\n",
    "print(Actually_payed_april)"
   ]
  },
  {
   "cell_type": "code",
   "execution_count": 136,
   "metadata": {},
   "outputs": [
    {
     "name": "stdout",
     "output_type": "stream",
     "text": [
      "36538.5\n"
     ]
    }
   ],
   "source": [
    "left_april = sum((test.Left).astype(float))\n",
    "print(left_april)"
   ]
  },
  {
   "cell_type": "code",
   "execution_count": 137,
   "metadata": {},
   "outputs": [
    {
     "name": "stdout",
     "output_type": "stream",
     "text": [
      "629.21\n"
     ]
    }
   ],
   "source": [
    "Delta_test = Planned_in_april - left_april - Actually_payed_april\n",
    "print(Delta_test)"
   ]
  },
  {
   "cell_type": "code",
   "execution_count": 138,
   "metadata": {
    "scrolled": true
   },
   "outputs": [
    {
     "data": {
      "text/plain": [
       "Index([u'User_id', u'Credit_id', u'Count_months', u'Amount', u'Month_payment',\n",
       "       u'Payed', u'Left', u'Planned', u'Credit_taken', u'Pay_date'],\n",
       "      dtype='object')"
      ]
     },
     "execution_count": 138,
     "metadata": {},
     "output_type": "execute_result"
    }
   ],
   "source": [
    "train.columns"
   ]
  },
  {
   "cell_type": "code",
   "execution_count": 139,
   "metadata": {},
   "outputs": [],
   "source": [
    "# предскажем катбустом"
   ]
  },
  {
   "cell_type": "code",
   "execution_count": 148,
   "metadata": {},
   "outputs": [
    {
     "name": "stdout",
     "output_type": "stream",
     "text": [
      "0:\tlearn: 59.0086185\ttotal: 708us\tremaining: 141ms\n",
      "1:\tlearn: 56.8519016\ttotal: 1.86ms\tremaining: 184ms\n",
      "2:\tlearn: 54.9209792\ttotal: 3.49ms\tremaining: 229ms\n",
      "3:\tlearn: 53.3915022\ttotal: 4.52ms\tremaining: 222ms\n",
      "4:\tlearn: 52.4230983\ttotal: 5.57ms\tremaining: 217ms\n",
      "5:\tlearn: 51.0594580\ttotal: 6.37ms\tremaining: 206ms\n",
      "6:\tlearn: 50.2354292\ttotal: 7.02ms\tremaining: 194ms\n",
      "7:\tlearn: 49.0482659\ttotal: 7.68ms\tremaining: 184ms\n",
      "8:\tlearn: 48.0115697\ttotal: 8.61ms\tremaining: 183ms\n",
      "9:\tlearn: 47.7544640\ttotal: 9.22ms\tremaining: 175ms\n",
      "10:\tlearn: 46.8853591\ttotal: 10.9ms\tremaining: 187ms\n",
      "11:\tlearn: 46.2298260\ttotal: 12ms\tremaining: 188ms\n",
      "12:\tlearn: 45.6804680\ttotal: 12.8ms\tremaining: 184ms\n",
      "13:\tlearn: 45.4568128\ttotal: 13.6ms\tremaining: 180ms\n",
      "14:\tlearn: 44.7766154\ttotal: 14.5ms\tremaining: 178ms\n",
      "15:\tlearn: 44.1777315\ttotal: 14.9ms\tremaining: 171ms\n",
      "16:\tlearn: 43.6340180\ttotal: 15.3ms\tremaining: 164ms\n",
      "17:\tlearn: 43.4496639\ttotal: 15.6ms\tremaining: 158ms\n",
      "18:\tlearn: 43.2704960\ttotal: 16ms\tremaining: 152ms\n",
      "19:\tlearn: 42.8253608\ttotal: 16.4ms\tremaining: 147ms\n",
      "20:\tlearn: 42.3361536\ttotal: 16.8ms\tremaining: 143ms\n",
      "21:\tlearn: 41.9895383\ttotal: 17.1ms\tremaining: 138ms\n",
      "22:\tlearn: 41.5427366\ttotal: 17.4ms\tremaining: 134ms\n",
      "23:\tlearn: 41.1127333\ttotal: 17.8ms\tremaining: 130ms\n",
      "24:\tlearn: 40.9554385\ttotal: 18.1ms\tremaining: 127ms\n",
      "25:\tlearn: 40.5582314\ttotal: 18.5ms\tremaining: 124ms\n",
      "26:\tlearn: 40.1979924\ttotal: 18.8ms\tremaining: 121ms\n",
      "27:\tlearn: 39.8293413\ttotal: 19.2ms\tremaining: 118ms\n",
      "28:\tlearn: 39.5863686\ttotal: 19.5ms\tremaining: 115ms\n",
      "29:\tlearn: 39.3326971\ttotal: 19.9ms\tremaining: 113ms\n",
      "30:\tlearn: 39.0010185\ttotal: 20.3ms\tremaining: 111ms\n",
      "31:\tlearn: 38.6613705\ttotal: 20.7ms\tremaining: 109ms\n",
      "32:\tlearn: 38.5183595\ttotal: 21.1ms\tremaining: 107ms\n",
      "33:\tlearn: 38.3457363\ttotal: 21.5ms\tremaining: 105ms\n",
      "34:\tlearn: 38.2439327\ttotal: 21.8ms\tremaining: 103ms\n",
      "35:\tlearn: 37.9504873\ttotal: 22.2ms\tremaining: 101ms\n",
      "36:\tlearn: 37.7940705\ttotal: 22.6ms\tremaining: 99.7ms\n",
      "37:\tlearn: 37.6983987\ttotal: 23.2ms\tremaining: 99ms\n",
      "38:\tlearn: 37.4614371\ttotal: 23.6ms\tremaining: 97.5ms\n",
      "39:\tlearn: 37.2286387\ttotal: 24ms\tremaining: 96.1ms\n",
      "40:\tlearn: 36.9818174\ttotal: 24.4ms\tremaining: 94.7ms\n",
      "41:\tlearn: 36.8990051\ttotal: 24.8ms\tremaining: 93.3ms\n",
      "42:\tlearn: 36.8192399\ttotal: 25.2ms\tremaining: 92ms\n",
      "43:\tlearn: 36.4720413\ttotal: 25.6ms\tremaining: 90.7ms\n",
      "44:\tlearn: 36.3998407\ttotal: 26ms\tremaining: 89.5ms\n",
      "45:\tlearn: 36.3358957\ttotal: 26.3ms\tremaining: 88ms\n",
      "46:\tlearn: 36.2695040\ttotal: 26.7ms\tremaining: 86.9ms\n",
      "47:\tlearn: 36.1270704\ttotal: 27.1ms\tremaining: 85.8ms\n",
      "48:\tlearn: 36.0635726\ttotal: 27.5ms\tremaining: 84.7ms\n",
      "49:\tlearn: 35.9302747\ttotal: 27.9ms\tremaining: 83.6ms\n",
      "50:\tlearn: 35.8757445\ttotal: 28.2ms\tremaining: 82.5ms\n",
      "51:\tlearn: 35.8215779\ttotal: 28.6ms\tremaining: 81.5ms\n",
      "52:\tlearn: 35.7676722\ttotal: 29ms\tremaining: 80.5ms\n",
      "53:\tlearn: 35.7189928\ttotal: 29.4ms\tremaining: 79.5ms\n",
      "54:\tlearn: 35.6748009\ttotal: 29.7ms\tremaining: 78.4ms\n",
      "55:\tlearn: 35.6338689\ttotal: 30ms\tremaining: 77.2ms\n",
      "56:\tlearn: 35.5735521\ttotal: 30.4ms\tremaining: 76.3ms\n",
      "57:\tlearn: 35.3531512\ttotal: 30.8ms\tremaining: 75.5ms\n",
      "58:\tlearn: 35.3155118\ttotal: 31.3ms\tremaining: 74.8ms\n",
      "59:\tlearn: 35.1228352\ttotal: 31.7ms\tremaining: 73.9ms\n",
      "60:\tlearn: 34.9075771\ttotal: 32ms\tremaining: 72.9ms\n",
      "61:\tlearn: 34.8556806\ttotal: 32.5ms\tremaining: 72.4ms\n",
      "62:\tlearn: 34.8218158\ttotal: 33ms\tremaining: 71.7ms\n",
      "63:\tlearn: 34.7901579\ttotal: 33.4ms\tremaining: 70.9ms\n",
      "64:\tlearn: 34.7577115\ttotal: 33.7ms\tremaining: 70.1ms\n",
      "65:\tlearn: 34.6693507\ttotal: 34.1ms\tremaining: 69.3ms\n",
      "66:\tlearn: 34.4903116\ttotal: 34.5ms\tremaining: 68.4ms\n",
      "67:\tlearn: 34.4631527\ttotal: 34.8ms\tremaining: 67.6ms\n",
      "68:\tlearn: 34.3417783\ttotal: 35.2ms\tremaining: 66.8ms\n",
      "69:\tlearn: 34.3126159\ttotal: 35.6ms\tremaining: 66ms\n",
      "70:\tlearn: 34.2879701\ttotal: 35.9ms\tremaining: 65.2ms\n",
      "71:\tlearn: 34.2572248\ttotal: 36.3ms\tremaining: 64.5ms\n",
      "72:\tlearn: 34.1057048\ttotal: 36.7ms\tremaining: 63.9ms\n",
      "73:\tlearn: 34.0829729\ttotal: 37.1ms\tremaining: 63.1ms\n",
      "74:\tlearn: 34.0612386\ttotal: 37.5ms\tremaining: 62.5ms\n",
      "75:\tlearn: 34.0401287\ttotal: 37.9ms\tremaining: 61.8ms\n",
      "76:\tlearn: 34.0207585\ttotal: 38.2ms\tremaining: 61ms\n",
      "77:\tlearn: 34.0023506\ttotal: 38.5ms\tremaining: 60.2ms\n",
      "78:\tlearn: 33.9847429\ttotal: 38.8ms\tremaining: 59.5ms\n",
      "79:\tlearn: 33.9680355\ttotal: 39.1ms\tremaining: 58.7ms\n",
      "80:\tlearn: 33.9521013\ttotal: 39.5ms\tremaining: 58ms\n",
      "81:\tlearn: 33.8139558\ttotal: 39.8ms\tremaining: 57.3ms\n",
      "82:\tlearn: 33.6710255\ttotal: 40.2ms\tremaining: 56.7ms\n",
      "83:\tlearn: 33.6458084\ttotal: 40.6ms\tremaining: 56.1ms\n",
      "84:\tlearn: 33.5185671\ttotal: 41ms\tremaining: 55.5ms\n",
      "85:\tlearn: 33.5047386\ttotal: 41.3ms\tremaining: 54.8ms\n",
      "86:\tlearn: 33.4885890\ttotal: 41.7ms\tremaining: 54.2ms\n",
      "87:\tlearn: 33.4756255\ttotal: 42.1ms\tremaining: 53.6ms\n",
      "88:\tlearn: 33.4609259\ttotal: 42.5ms\tremaining: 53ms\n",
      "89:\tlearn: 33.4461706\ttotal: 43ms\tremaining: 52.6ms\n",
      "90:\tlearn: 33.3733619\ttotal: 43.4ms\tremaining: 52ms\n",
      "91:\tlearn: 33.3235904\ttotal: 43.8ms\tremaining: 51.4ms\n",
      "92:\tlearn: 33.2390595\ttotal: 44.2ms\tremaining: 50.8ms\n",
      "93:\tlearn: 33.1284465\ttotal: 44.5ms\tremaining: 50.2ms\n",
      "94:\tlearn: 33.1162023\ttotal: 44.9ms\tremaining: 49.6ms\n",
      "95:\tlearn: 33.0300314\ttotal: 45.3ms\tremaining: 49ms\n",
      "96:\tlearn: 33.0190848\ttotal: 45.7ms\tremaining: 48.5ms\n",
      "97:\tlearn: 33.0082695\ttotal: 46.1ms\tremaining: 48ms\n",
      "98:\tlearn: 32.9286556\ttotal: 46.5ms\tremaining: 47.4ms\n",
      "99:\tlearn: 32.8794368\ttotal: 46.8ms\tremaining: 46.8ms\n",
      "100:\tlearn: 32.8079968\ttotal: 47.2ms\tremaining: 46.3ms\n",
      "101:\tlearn: 32.8005605\ttotal: 47.5ms\tremaining: 45.6ms\n",
      "102:\tlearn: 32.7161668\ttotal: 47.9ms\tremaining: 45.1ms\n",
      "103:\tlearn: 32.6835756\ttotal: 48.3ms\tremaining: 44.6ms\n",
      "104:\tlearn: 32.6232520\ttotal: 48.6ms\tremaining: 44ms\n",
      "105:\tlearn: 32.6147044\ttotal: 49ms\tremaining: 43.5ms\n",
      "106:\tlearn: 32.6070263\ttotal: 49.4ms\tremaining: 43ms\n",
      "107:\tlearn: 32.5346277\ttotal: 49.8ms\tremaining: 42.4ms\n",
      "108:\tlearn: 32.5286475\ttotal: 50.2ms\tremaining: 41.9ms\n",
      "109:\tlearn: 32.4868109\ttotal: 50.5ms\tremaining: 41.3ms\n",
      "110:\tlearn: 32.4348874\ttotal: 51ms\tremaining: 40.9ms\n",
      "111:\tlearn: 32.4296507\ttotal: 51.3ms\tremaining: 40.3ms\n",
      "112:\tlearn: 32.4246742\ttotal: 51.6ms\tremaining: 39.7ms\n",
      "113:\tlearn: 32.3609719\ttotal: 52ms\tremaining: 39.2ms\n",
      "114:\tlearn: 32.3070045\ttotal: 52.3ms\tremaining: 38.7ms\n",
      "115:\tlearn: 32.3002604\ttotal: 52.8ms\tremaining: 38.2ms\n",
      "116:\tlearn: 32.2942789\ttotal: 53.1ms\tremaining: 37.7ms\n",
      "117:\tlearn: 32.2531714\ttotal: 53.5ms\tremaining: 37.2ms\n",
      "118:\tlearn: 32.2005469\ttotal: 53.9ms\tremaining: 36.7ms\n",
      "119:\tlearn: 32.1683375\ttotal: 54.3ms\tremaining: 36.2ms\n",
      "120:\tlearn: 32.1629860\ttotal: 54.8ms\tremaining: 35.8ms\n",
      "121:\tlearn: 32.1575707\ttotal: 55.2ms\tremaining: 35.3ms\n",
      "122:\tlearn: 32.1225724\ttotal: 55.6ms\tremaining: 34.8ms\n",
      "123:\tlearn: 32.1176607\ttotal: 56ms\tremaining: 34.3ms\n",
      "124:\tlearn: 32.0778798\ttotal: 56.3ms\tremaining: 33.8ms\n",
      "125:\tlearn: 32.0479674\ttotal: 56.8ms\tremaining: 33.3ms\n",
      "126:\tlearn: 32.0434820\ttotal: 57.2ms\tremaining: 32.9ms\n",
      "127:\tlearn: 32.0395274\ttotal: 57.5ms\tremaining: 32.4ms\n",
      "128:\tlearn: 32.0278006\ttotal: 58ms\tremaining: 31.9ms\n",
      "129:\tlearn: 32.0249559\ttotal: 58.3ms\tremaining: 31.4ms\n",
      "130:\tlearn: 31.9980882\ttotal: 58.7ms\tremaining: 30.9ms\n",
      "131:\tlearn: 31.9594497\ttotal: 59.1ms\tremaining: 30.4ms\n",
      "132:\tlearn: 31.9246003\ttotal: 59.4ms\tremaining: 29.9ms\n",
      "133:\tlearn: 31.8990768\ttotal: 59.8ms\tremaining: 29.5ms\n",
      "134:\tlearn: 31.8965210\ttotal: 60.2ms\tremaining: 29ms\n",
      "135:\tlearn: 31.8847774\ttotal: 60.5ms\tremaining: 28.5ms\n",
      "136:\tlearn: 31.8770521\ttotal: 60.9ms\tremaining: 28ms\n",
      "137:\tlearn: 31.8738650\ttotal: 61.4ms\tremaining: 27.6ms\n",
      "138:\tlearn: 31.8443562\ttotal: 61.8ms\tremaining: 27.1ms\n",
      "139:\tlearn: 31.8413193\ttotal: 62.2ms\tremaining: 26.7ms\n",
      "140:\tlearn: 31.8219060\ttotal: 62.6ms\tremaining: 26.2ms\n",
      "141:\tlearn: 31.8157986\ttotal: 63ms\tremaining: 25.7ms\n",
      "142:\tlearn: 31.7860504\ttotal: 63.4ms\tremaining: 25.3ms\n",
      "143:\tlearn: 31.7694067\ttotal: 63.8ms\tremaining: 24.8ms\n",
      "144:\tlearn: 31.7580267\ttotal: 64.2ms\tremaining: 24.4ms\n",
      "145:\tlearn: 31.7385879\ttotal: 64.6ms\tremaining: 23.9ms\n",
      "146:\tlearn: 31.7133471\ttotal: 65ms\tremaining: 23.4ms\n",
      "147:\tlearn: 31.7108214\ttotal: 65.4ms\tremaining: 23ms\n",
      "148:\tlearn: 31.7084450\ttotal: 65.8ms\tremaining: 22.5ms\n",
      "149:\tlearn: 31.7062897\ttotal: 66.1ms\tremaining: 22ms\n",
      "150:\tlearn: 31.7024490\ttotal: 66.5ms\tremaining: 21.6ms\n",
      "151:\tlearn: 31.6792918\ttotal: 66.9ms\tremaining: 21.1ms\n",
      "152:\tlearn: 31.6772703\ttotal: 67.3ms\tremaining: 20.7ms\n",
      "153:\tlearn: 31.6573463\ttotal: 67.7ms\tremaining: 20.2ms\n",
      "154:\tlearn: 31.6554270\ttotal: 68ms\tremaining: 19.7ms\n",
      "155:\tlearn: 31.6523044\ttotal: 68.4ms\tremaining: 19.3ms\n",
      "156:\tlearn: 31.6376081\ttotal: 68.8ms\tremaining: 18.8ms\n",
      "157:\tlearn: 31.6227290\ttotal: 69.2ms\tremaining: 18.4ms\n",
      "158:\tlearn: 31.6060115\ttotal: 69.6ms\tremaining: 18ms\n",
      "159:\tlearn: 31.6043594\ttotal: 70ms\tremaining: 17.5ms\n",
      "160:\tlearn: 31.5889828\ttotal: 70.4ms\tremaining: 17ms\n",
      "161:\tlearn: 31.5874147\ttotal: 70.7ms\tremaining: 16.6ms\n",
      "162:\tlearn: 31.5769617\ttotal: 71.1ms\tremaining: 16.1ms\n",
      "163:\tlearn: 31.5716627\ttotal: 71.5ms\tremaining: 15.7ms\n",
      "164:\tlearn: 31.5681738\ttotal: 71.9ms\tremaining: 15.3ms\n",
      "165:\tlearn: 31.5667625\ttotal: 72.3ms\tremaining: 14.8ms\n",
      "166:\tlearn: 31.5567915\ttotal: 72.7ms\tremaining: 14.4ms\n",
      "167:\tlearn: 31.5402315\ttotal: 73.1ms\tremaining: 13.9ms\n",
      "168:\tlearn: 31.5314037\ttotal: 73.5ms\tremaining: 13.5ms\n",
      "169:\tlearn: 31.5292229\ttotal: 73.9ms\tremaining: 13ms\n",
      "170:\tlearn: 31.5280140\ttotal: 74.3ms\tremaining: 12.6ms\n",
      "171:\tlearn: 31.5207065\ttotal: 74.9ms\tremaining: 12.2ms\n",
      "172:\tlearn: 31.5196094\ttotal: 75.3ms\tremaining: 11.8ms\n",
      "173:\tlearn: 31.5129548\ttotal: 75.7ms\tremaining: 11.3ms\n",
      "174:\tlearn: 31.5016006\ttotal: 76.1ms\tremaining: 10.9ms\n",
      "175:\tlearn: 31.4927217\ttotal: 76.4ms\tremaining: 10.4ms\n",
      "176:\tlearn: 31.4870347\ttotal: 76.8ms\tremaining: 9.98ms\n",
      "177:\tlearn: 31.4814652\ttotal: 77.2ms\tremaining: 9.54ms\n",
      "178:\tlearn: 31.4762456\ttotal: 77.6ms\tremaining: 9.1ms\n",
      "179:\tlearn: 31.4704457\ttotal: 77.9ms\tremaining: 8.66ms\n",
      "180:\tlearn: 31.4642039\ttotal: 78.4ms\tremaining: 8.23ms\n",
      "181:\tlearn: 31.4561467\ttotal: 78.8ms\tremaining: 7.79ms\n",
      "182:\tlearn: 31.4552492\ttotal: 79.2ms\tremaining: 7.36ms\n",
      "183:\tlearn: 31.4544051\ttotal: 79.6ms\tremaining: 6.92ms\n",
      "184:\tlearn: 31.4536110\ttotal: 80ms\tremaining: 6.49ms\n",
      "185:\tlearn: 31.4528636\ttotal: 80.4ms\tremaining: 6.05ms\n",
      "186:\tlearn: 31.4480207\ttotal: 80.8ms\tremaining: 5.62ms\n",
      "187:\tlearn: 31.4473422\ttotal: 81.2ms\tremaining: 5.18ms\n",
      "188:\tlearn: 31.4467035\ttotal: 81.6ms\tremaining: 4.75ms\n",
      "189:\tlearn: 31.4396494\ttotal: 82ms\tremaining: 4.31ms\n",
      "190:\tlearn: 31.4284558\ttotal: 82.4ms\tremaining: 3.88ms\n",
      "191:\tlearn: 31.4278514\ttotal: 82.8ms\tremaining: 3.45ms\n",
      "192:\tlearn: 31.4272822\ttotal: 83.2ms\tremaining: 3.02ms\n",
      "193:\tlearn: 31.4191204\ttotal: 83.5ms\tremaining: 2.58ms\n",
      "194:\tlearn: 31.4185849\ttotal: 83.9ms\tremaining: 2.15ms\n",
      "195:\tlearn: 31.4178058\ttotal: 84.3ms\tremaining: 1.72ms\n",
      "196:\tlearn: 31.4125344\ttotal: 84.7ms\tremaining: 1.29ms\n",
      "197:\tlearn: 31.4120745\ttotal: 85.1ms\tremaining: 859us\n",
      "198:\tlearn: 31.4080036\ttotal: 85.5ms\tremaining: 429us\n",
      "199:\tlearn: 31.4045114\ttotal: 85.9ms\tremaining: 0us\n"
     ]
    },
    {
     "data": {
      "image/png": "[encoded data removed]",
      "text/plain": [
       "<Figure size 432x288 with 1 Axes>"
      ]
     },
     "metadata": {
      "needs_background": "light"
     },
     "output_type": "display_data"
    },
    {
     "name": "stdout",
     "output_type": "stream",
     "text": [
      "('\\xd0\\xbf\\xd1\\x80\\xd0\\xb5\\xd0\\xb4\\xd0\\xbf\\xd0\\xbe\\xd0\\xbb\\xd0\\xbe\\xd0\\xb6\\xd0\\xb8\\xd1\\x82\\xd0\\xb5\\xd0\\xbb\\xd1\\x8c\\xd0\\xbd\\xd0\\xbe \\xd0\\xb2\\xd1\\x81\\xd0\\xb5\\xd0\\xb3\\xd0\\xbe \\xd0\\xb2\\xd1\\x8b\\xd0\\xbf\\xd0\\xbb\\xd0\\xb0\\xd1\\x82\\xd1\\x8f\\xd1\\x82 \\xd0\\xb7\\xd0\\xb0 \\xd0\\xb0\\xd0\\xbf\\xd1\\x80\\xd0\\xb5\\xd0\\xbb\\xd1\\x8c: ', 18193.407290020175)\n"
     ]
    }
   ],
   "source": [
    "from sklearn.metrics import classification_report, confusion_matrix, accuracy_score, r2_score\n",
    "from catboost import CatBoostRegressor\n",
    "import seaborn as sns\n",
    "import matplotlib.pyplot as plt\n",
    "# initialize data\n",
    "features = ['Count_months', 'Amount', 'Month_payment']\n",
    "\n",
    "#lab_enc = preprocessing.LabelEncoder()\n",
    "#df_target = df_investors.TotalPays.copy()\n",
    "#encoded = lab_enc.fit_transform(df_target)\n",
    "\n",
    "#X_train, X_val, y_train, y_val = train_test_split(df_investors[features], encoded, test_size=0.3)\n",
    "\n",
    "X_train = train[features]\n",
    "X_val = test[features]\n",
    "y_train = train.Payed.copy()\n",
    "y_val = test.Payed.copy()\n",
    "\n",
    "model=CatBoostRegressor(iterations=200, depth=5, learning_rate=0.1, loss_function='RMSE')\n",
    "model.fit(X_train, y_train)\n",
    "preds = model.predict(X_val)\n",
    "feature_imp = pd.Series(model.feature_importances_,index=features).sort_values(ascending=False)\n",
    "sns.barplot(x=feature_imp, y=feature_imp.index)\n",
    "# Add labels to your graph\n",
    "plt.xlabel('Feature Importance Score')\n",
    "plt.ylabel('Features')\n",
    "plt.title(\"Visualizing Important Features\")\n",
    "plt.legend()\n",
    "plt.show()\n",
    "\n",
    "#plt.plot(y_val, label = 'actual')\n",
    "# Plot the predicted values\n",
    "#plt.plot(preds, label = 'prediction')\n",
    "#plt.xticks(rotation = '60'); \n",
    "#plt.legend()\n",
    " \n",
    "#print(\"предположительно всего выплатят за март: \", preds, '\\n')\n",
    "print(\"предположительно всего выплатят за апрель: \", sum(preds))\n"
   ]
  },
  {
   "cell_type": "code",
   "execution_count": 95,
   "metadata": {},
   "outputs": [],
   "source": [
    "# пробуем предсказать случайным лесом"
   ]
  },
  {
   "cell_type": "code",
   "execution_count": 141,
   "metadata": {
    "scrolled": false
   },
   "outputs": [
    {
     "name": "stdout",
     "output_type": "stream",
     "text": [
      "('\\xd0\\xbf\\xd1\\x80\\xd0\\xb5\\xd0\\xb4\\xd0\\xbf\\xd0\\xbe\\xd0\\xbb\\xd0\\xbe\\xd0\\xb6\\xd0\\xb8\\xd1\\x82\\xd0\\xb5\\xd0\\xbb\\xd1\\x8c\\xd0\\xbd\\xd0\\xbe \\xd0\\xb2\\xd1\\x81\\xd0\\xb5\\xd0\\xb3\\xd0\\xbe \\xd0\\xb2\\xd1\\x8b\\xd0\\xbf\\xd0\\xbb\\xd0\\xb0\\xd1\\x82\\xd1\\x8f\\xd1\\x82 \\xd0\\xb7\\xd0\\xb0 \\xd0\\xb0\\xd0\\xbf\\xd1\\x80\\xd0\\xb5\\xd0\\xbb\\xd1\\x8c: ', 13594)\n"
     ]
    },
    {
     "data": {
      "image/png": "[encoded data removed]",
      "text/plain": [
       "<Figure size 432x288 with 1 Axes>"
      ]
     },
     "metadata": {
      "needs_background": "light"
     },
     "output_type": "display_data"
    }
   ],
   "source": [
    "from sklearn.model_selection import train_test_split\n",
    "from sklearn import ensemble\n",
    "from sklearn.metrics import classification_report, confusion_matrix, accuracy_score\n",
    "features = ['Count_months', 'Amount', 'Month_payment']\n",
    "\n",
    "X_train = train[features]\n",
    "X_val = test[features]\n",
    "y_train = train.Payed.astype('int64').copy()\n",
    "y_val = test.Payed.astype('int64').copy()\n",
    "\n",
    "clf = ensemble.RandomForestClassifier(n_estimators=1000)\n",
    "clf.fit(X_train, y_train)\n",
    "y_pred = clf.predict(X_val)\n",
    "\n",
    "#print(\"предположительно всего выплатят за март: \", y_pred, '\\n')\n",
    "print(\"предположительно всего выплатят за апрель: \", sum(y_pred))\n",
    "\n",
    "feature_imp = pd.Series(clf.feature_importances_,index=features).sort_values(ascending=False)\n",
    "sns.barplot(x=feature_imp, y=feature_imp.index)\n",
    "# Add labels to your graph\n",
    "plt.xlabel('Feature Importance Score')\n",
    "plt.ylabel('Features')\n",
    "plt.title(\"Visualizing Important Features\")\n",
    "plt.legend()\n",
    "plt.show()"
   ]
  },
  {
   "cell_type": "code",
   "execution_count": 79,
   "metadata": {},
   "outputs": [],
   "source": [
    "# предскажем логистической регрессией (НЕАДЕКВАТНЫЕ РЕЗУЛЬТАТЫ)"
   ]
  },
  {
   "cell_type": "code",
   "execution_count": 142,
   "metadata": {
    "scrolled": false
   },
   "outputs": [
    {
     "name": "stdout",
     "output_type": "stream",
     "text": [
      "('\\xd0\\xbf\\xd1\\x80\\xd0\\xb5\\xd0\\xb4\\xd0\\xbf\\xd0\\xbe\\xd0\\xbb\\xd0\\xbe\\xd0\\xb6\\xd0\\xb8\\xd1\\x82\\xd0\\xb5\\xd0\\xbb\\xd1\\x8c\\xd0\\xbd\\xd0\\xbe \\xd0\\xb2\\xd1\\x81\\xd0\\xb5\\xd0\\xb3\\xd0\\xbe \\xd0\\xb2\\xd1\\x8b\\xd0\\xbf\\xd0\\xbb\\xd0\\xb0\\xd1\\x82\\xd1\\x8f\\xd1\\x82 \\xd0\\xb7\\xd0\\xb0 \\xd0\\xbc\\xd0\\xb0\\xd1\\x80\\xd1\\x82: ', 14287)\n"
     ]
    }
   ],
   "source": [
    "from sklearn.linear_model import LogisticRegression\n",
    "features = ['Count_months', 'Amount', 'Month_payment']\n",
    "\n",
    "y = train.Payed.astype('int64').copy()\n",
    "x = train[features]\n",
    "x_val = test[features]\n",
    "y_val = test.Payed.astype('int64').copy()\n",
    "\n",
    "clf = LogisticRegression(random_state=0, C=2.0, penalty='l2').fit(x, y)\n",
    "\n",
    "print(\"предположительно всего выплатят за март: \", sum(clf.predict(x_val)))\n"
   ]
  },
  {
   "cell_type": "code",
   "execution_count": 98,
   "metadata": {},
   "outputs": [],
   "source": [
    "#Предскажем деревом решений"
   ]
  },
  {
   "cell_type": "code",
   "execution_count": 149,
   "metadata": {},
   "outputs": [
    {
     "name": "stdout",
     "output_type": "stream",
     "text": [
      "('\\xd0\\xbf\\xd1\\x80\\xd0\\xb5\\xd0\\xb4\\xd0\\xbf\\xd0\\xbe\\xd0\\xbb\\xd0\\xbe\\xd0\\xb6\\xd0\\xb8\\xd1\\x82\\xd0\\xb5\\xd0\\xbb\\xd1\\x8c\\xd0\\xbd\\xd0\\xbe \\xd0\\xb2\\xd1\\x81\\xd0\\xb5\\xd0\\xb3\\xd0\\xbe \\xd0\\xb2\\xd1\\x8b\\xd0\\xbf\\xd0\\xbb\\xd0\\xb0\\xd1\\x82\\xd1\\x8f\\xd1\\x82 \\xd0\\xb7\\xd0\\xb0 \\xd0\\xb0\\xd0\\xbf\\xd1\\x80\\xd0\\xb5\\xd0\\xbb\\xd1\\x8c: ', 25910)\n"
     ]
    }
   ],
   "source": [
    "from sklearn.tree import DecisionTreeClassifier\n",
    "\n",
    "y = train.Payed.astype('int64').copy()\n",
    "x = train[features]\n",
    "x_val = test[features]\n",
    "y_val = test.Payed.astype('int64').copy()\n",
    "\n",
    "model = DecisionTreeClassifier()\n",
    "model.fit(x,y)\n",
    "proba = model.predict(x_val)\n",
    "\n",
    "print(\"предположительно всего выплатят за апрель: \", sum(proba))"
   ]
  },
  {
   "cell_type": "code",
   "execution_count": 100,
   "metadata": {},
   "outputs": [],
   "source": [
    "# предскажем методом ближайших соседей"
   ]
  },
  {
   "cell_type": "code",
   "execution_count": 150,
   "metadata": {},
   "outputs": [
    {
     "name": "stdout",
     "output_type": "stream",
     "text": [
      "('\\xd0\\xbf\\xd1\\x80\\xd0\\xb5\\xd0\\xb4\\xd0\\xbf\\xd0\\xbe\\xd0\\xbb\\xd0\\xbe\\xd0\\xb6\\xd0\\xb8\\xd1\\x82\\xd0\\xb5\\xd0\\xbb\\xd1\\x8c\\xd0\\xbd\\xd0\\xbe \\xd0\\xb2\\xd1\\x81\\xd0\\xb5\\xd0\\xb3\\xd0\\xbe \\xd0\\xb2\\xd1\\x8b\\xd0\\xbf\\xd0\\xbb\\xd0\\xb0\\xd1\\x82\\xd1\\x8f\\xd1\\x82 \\xd0\\xb7\\xd0\\xb0 \\xd0\\xb0\\xd0\\xbf\\xd1\\x80\\xd0\\xb5\\xd0\\xbb\\xd1\\x8c: ', 10569)\n"
     ]
    }
   ],
   "source": [
    "from sklearn.neighbors import KNeighborsClassifier\n",
    "\n",
    "y = train.Payed.astype('int64').copy()\n",
    "x = train[features]\n",
    "x_val = test[features]\n",
    "y_val = test.Payed.astype('int64').copy()\n",
    "\n",
    "model_knc = KNeighborsClassifier(n_neighbors = 18)\n",
    "model_knc.fit(x,y)\n",
    "\n",
    "proba = model_knc.predict(x_val)\n",
    "print(\"предположительно всего выплатят за апрель: \", sum(proba))"
   ]
  },
  {
   "cell_type": "code",
   "execution_count": 114,
   "metadata": {},
   "outputs": [],
   "source": [
    "#метод опорных векторов"
   ]
  },
  {
   "cell_type": "code",
   "execution_count": 145,
   "metadata": {},
   "outputs": [
    {
     "name": "stdout",
     "output_type": "stream",
     "text": [
      "('\\xd0\\xbf\\xd1\\x80\\xd0\\xb5\\xd0\\xb4\\xd0\\xbf\\xd0\\xbe\\xd0\\xbb\\xd0\\xbe\\xd0\\xb6\\xd0\\xb8\\xd1\\x82\\xd0\\xb5\\xd0\\xbb\\xd1\\x8c\\xd0\\xbd\\xd0\\xbe \\xd0\\xb2\\xd1\\x81\\xd0\\xb5\\xd0\\xb3\\xd0\\xbe \\xd0\\xb2\\xd1\\x8b\\xd0\\xbf\\xd0\\xbb\\xd0\\xb0\\xd1\\x82\\xd1\\x8f\\xd1\\x82 \\xd0\\xb7\\xd0\\xb0 \\xd0\\xb0\\xd0\\xbf\\xd1\\x80\\xd0\\xb5\\xd0\\xbb\\xd1\\x8c: ', 10569)\n"
     ]
    }
   ],
   "source": [
    "from sklearn import svm\n",
    "\n",
    "model_svc = svm.SVC()\n",
    "y = train.Payed.astype('int64').copy()\n",
    "x = train[features]\n",
    "x_val = test[features]\n",
    "y_val = test.Payed.astype('int64').copy()\n",
    "\n",
    "model_svc.probability = True\n",
    "probas = model_svc.fit(x, y).predict_proba(x_val)\n",
    "\n",
    "print(\"предположительно всего выплатят за апрель: \", sum(proba))"
   ]
  },
  {
   "cell_type": "code",
   "execution_count": null,
   "metadata": {},
   "outputs": [],
   "source": []
  }
 ],
 "metadata": {
  "kernelspec": {
   "display_name": "Python 2",
   "language": "python",
   "name": "python2"
  },
  "language_info": {
   "codemirror_mode": {
    "name": "ipython",
    "version": 2
   },
   "file_extension": ".py",
   "mimetype": "text/x-python",
   "name": "python",
   "nbconvert_exporter": "python",
   "pygments_lexer": "ipython2",
   "version": "2.7.10"
  }
 },
 "nbformat": 4,
 "nbformat_minor": 4
}
