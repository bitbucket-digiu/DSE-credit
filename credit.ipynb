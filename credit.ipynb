{
 "cells": [
  {
   "cell_type": "code",
   "execution_count": 52,
   "metadata": {},
   "outputs": [],
   "source": [
    "import pandas as pd"
   ]
  },
  {
   "cell_type": "code",
   "execution_count": 59,
   "metadata": {},
   "outputs": [],
   "source": [
    "pd.options.display.max_columns = None"
   ]
  },
  {
   "cell_type": "code",
   "execution_count": 60,
   "metadata": {},
   "outputs": [],
   "source": [
    "train = pd.read_csv('train-dec-feb.csv', encoding='utf8', sep=',', decimal='.')"
   ]
  },
  {
   "cell_type": "code",
   "execution_count": 61,
   "metadata": {
    "scrolled": true
   },
   "outputs": [
    {
     "data": {
      "text/html": [
       "<div>\n",
       "<style scoped>\n",
       "    .dataframe tbody tr th:only-of-type {\n",
       "        vertical-align: middle;\n",
       "    }\n",
       "\n",
       "    .dataframe tbody tr th {\n",
       "        vertical-align: top;\n",
       "    }\n",
       "\n",
       "    .dataframe thead th {\n",
       "        text-align: right;\n",
       "    }\n",
       "</style>\n",
       "<table border=\"1\" class=\"dataframe\">\n",
       "  <thead>\n",
       "    <tr style=\"text-align: right;\">\n",
       "      <th></th>\n",
       "      <th>User_id</th>\n",
       "      <th>Credit_id</th>\n",
       "      <th>Count_months</th>\n",
       "      <th>Amount</th>\n",
       "      <th>Month_payment</th>\n",
       "      <th>Payed</th>\n",
       "      <th>Left</th>\n",
       "      <th>Planned</th>\n",
       "      <th>Credit_taken</th>\n",
       "      <th>Pay_date</th>\n",
       "    </tr>\n",
       "  </thead>\n",
       "  <tbody>\n",
       "    <tr>\n",
       "      <th>0</th>\n",
       "      <td>196</td>\n",
       "      <td>6</td>\n",
       "      <td>7</td>\n",
       "      <td>1000.0</td>\n",
       "      <td>100.0</td>\n",
       "      <td>100.0</td>\n",
       "      <td>0.0</td>\n",
       "      <td>100.0</td>\n",
       "      <td>2019-12-18 23:55:33</td>\n",
       "      <td>2020-02-18</td>\n",
       "    </tr>\n",
       "    <tr>\n",
       "      <th>1</th>\n",
       "      <td>227</td>\n",
       "      <td>20</td>\n",
       "      <td>7</td>\n",
       "      <td>500.0</td>\n",
       "      <td>50.0</td>\n",
       "      <td>50.0</td>\n",
       "      <td>0.0</td>\n",
       "      <td>50.0</td>\n",
       "      <td>2019-12-20 05:40:39</td>\n",
       "      <td>2020-02-20</td>\n",
       "    </tr>\n",
       "    <tr>\n",
       "      <th>2</th>\n",
       "      <td>238</td>\n",
       "      <td>22</td>\n",
       "      <td>7</td>\n",
       "      <td>500.0</td>\n",
       "      <td>50.0</td>\n",
       "      <td>50.0</td>\n",
       "      <td>0.0</td>\n",
       "      <td>50.0</td>\n",
       "      <td>2019-12-20 10:45:33</td>\n",
       "      <td>2020-02-20</td>\n",
       "    </tr>\n",
       "    <tr>\n",
       "      <th>3</th>\n",
       "      <td>45</td>\n",
       "      <td>24</td>\n",
       "      <td>26</td>\n",
       "      <td>5000.0</td>\n",
       "      <td>167.0</td>\n",
       "      <td>334.0</td>\n",
       "      <td>0.0</td>\n",
       "      <td>167.0</td>\n",
       "      <td>2019-12-20 14:59:29</td>\n",
       "      <td>2020-02-20</td>\n",
       "    </tr>\n",
       "    <tr>\n",
       "      <th>4</th>\n",
       "      <td>123</td>\n",
       "      <td>26</td>\n",
       "      <td>28</td>\n",
       "      <td>5000.0</td>\n",
       "      <td>167.0</td>\n",
       "      <td>0.0</td>\n",
       "      <td>167.0</td>\n",
       "      <td>167.0</td>\n",
       "      <td>2019-12-20 16:56:37</td>\n",
       "      <td>2020-02-20</td>\n",
       "    </tr>\n",
       "  </tbody>\n",
       "</table>\n",
       "</div>"
      ],
      "text/plain": [
       "   User_id  Credit_id  Count_months  Amount  Month_payment  Payed   Left  \\\n",
       "0      196          6             7  1000.0          100.0  100.0    0.0   \n",
       "1      227         20             7   500.0           50.0   50.0    0.0   \n",
       "2      238         22             7   500.0           50.0   50.0    0.0   \n",
       "3       45         24            26  5000.0          167.0  334.0    0.0   \n",
       "4      123         26            28  5000.0          167.0    0.0  167.0   \n",
       "\n",
       "   Planned         Credit_taken    Pay_date  \n",
       "0    100.0  2019-12-18 23:55:33  2020-02-18  \n",
       "1     50.0  2019-12-20 05:40:39  2020-02-20  \n",
       "2     50.0  2019-12-20 10:45:33  2020-02-20  \n",
       "3    167.0  2019-12-20 14:59:29  2020-02-20  \n",
       "4    167.0  2019-12-20 16:56:37  2020-02-20  "
      ]
     },
     "execution_count": 61,
     "metadata": {},
     "output_type": "execute_result"
    }
   ],
   "source": [
    "train.head()"
   ]
  },
  {
   "cell_type": "code",
   "execution_count": 62,
   "metadata": {
    "scrolled": true
   },
   "outputs": [
    {
     "data": {
      "image/png": "[encoded data removed]",
      "text/plain": [
       "<Figure size 432x288 with 1 Axes>"
      ]
     },
     "metadata": {
      "needs_background": "light"
     },
     "output_type": "display_data"
    }
   ],
   "source": [
    "train.Payed.hist(bins=10, range = (0,1000));"
   ]
  },
  {
   "cell_type": "code",
   "execution_count": 92,
   "metadata": {},
   "outputs": [
    {
     "name": "stdout",
     "output_type": "stream",
     "text": [
      "6986.160000000001\n"
     ]
    }
   ],
   "source": [
    "left_train = sum(train.Left)\n",
    "print(left_train)"
   ]
  },
  {
   "cell_type": "code",
   "execution_count": 93,
   "metadata": {
    "scrolled": true
   },
   "outputs": [
    {
     "name": "stdout",
     "output_type": "stream",
     "text": [
      "22600.87\n"
     ]
    }
   ],
   "source": [
    "Actually_payed_train = sum(train.Payed)\n",
    "print(Actually_payed_train)"
   ]
  },
  {
   "cell_type": "code",
   "execution_count": 94,
   "metadata": {},
   "outputs": [
    {
     "name": "stdout",
     "output_type": "stream",
     "text": [
      "32194.0\n"
     ]
    }
   ],
   "source": [
    "Planned_train = sum(train.Planned)\n",
    "print(Planned_train)"
   ]
  },
  {
   "cell_type": "code",
   "execution_count": 95,
   "metadata": {},
   "outputs": [
    {
     "name": "stdout",
     "output_type": "stream",
     "text": [
      "2606.970000000001\n"
     ]
    }
   ],
   "source": [
    "Delta_train = Planned_train - left_train - Actually_payed_train\n",
    "print(Delta_train)"
   ]
  },
  {
   "cell_type": "code",
   "execution_count": 66,
   "metadata": {},
   "outputs": [],
   "source": [
    "test = pd.read_csv('trainmarch.csv', encoding='utf8', sep=',', decimal='.')"
   ]
  },
  {
   "cell_type": "code",
   "execution_count": 67,
   "metadata": {},
   "outputs": [
    {
     "data": {
      "text/html": [
       "<div>\n",
       "<style scoped>\n",
       "    .dataframe tbody tr th:only-of-type {\n",
       "        vertical-align: middle;\n",
       "    }\n",
       "\n",
       "    .dataframe tbody tr th {\n",
       "        vertical-align: top;\n",
       "    }\n",
       "\n",
       "    .dataframe thead th {\n",
       "        text-align: right;\n",
       "    }\n",
       "</style>\n",
       "<table border=\"1\" class=\"dataframe\">\n",
       "  <thead>\n",
       "    <tr style=\"text-align: right;\">\n",
       "      <th></th>\n",
       "      <th>User_id</th>\n",
       "      <th>Credit_id</th>\n",
       "      <th>Count_months</th>\n",
       "      <th>Amount</th>\n",
       "      <th>Month_payment</th>\n",
       "      <th>Payed</th>\n",
       "      <th>Left</th>\n",
       "      <th>Planned</th>\n",
       "      <th>Credit_taken</th>\n",
       "      <th>Pay_date</th>\n",
       "    </tr>\n",
       "  </thead>\n",
       "  <tbody>\n",
       "    <tr>\n",
       "      <th>0</th>\n",
       "      <td>196</td>\n",
       "      <td>6</td>\n",
       "      <td>7</td>\n",
       "      <td>1000.0</td>\n",
       "      <td>100.0</td>\n",
       "      <td>0.0</td>\n",
       "      <td>100.0</td>\n",
       "      <td>100.0</td>\n",
       "      <td>2019-12-18 23:55:33</td>\n",
       "      <td>2020-03-18</td>\n",
       "    </tr>\n",
       "    <tr>\n",
       "      <th>1</th>\n",
       "      <td>227</td>\n",
       "      <td>20</td>\n",
       "      <td>7</td>\n",
       "      <td>500.0</td>\n",
       "      <td>50.0</td>\n",
       "      <td>0.0</td>\n",
       "      <td>50.0</td>\n",
       "      <td>50.0</td>\n",
       "      <td>2019-12-20 05:40:39</td>\n",
       "      <td>2020-03-20</td>\n",
       "    </tr>\n",
       "    <tr>\n",
       "      <th>2</th>\n",
       "      <td>238</td>\n",
       "      <td>22</td>\n",
       "      <td>7</td>\n",
       "      <td>500.0</td>\n",
       "      <td>50.0</td>\n",
       "      <td>0.0</td>\n",
       "      <td>50.0</td>\n",
       "      <td>50.0</td>\n",
       "      <td>2019-12-20 10:45:33</td>\n",
       "      <td>2020-03-20</td>\n",
       "    </tr>\n",
       "    <tr>\n",
       "      <th>3</th>\n",
       "      <td>45</td>\n",
       "      <td>24</td>\n",
       "      <td>26</td>\n",
       "      <td>5000.0</td>\n",
       "      <td>167.0</td>\n",
       "      <td>0.0</td>\n",
       "      <td>0.0</td>\n",
       "      <td>167.0</td>\n",
       "      <td>2019-12-20 14:59:29</td>\n",
       "      <td>2020-03-20</td>\n",
       "    </tr>\n",
       "    <tr>\n",
       "      <th>4</th>\n",
       "      <td>123</td>\n",
       "      <td>26</td>\n",
       "      <td>28</td>\n",
       "      <td>5000.0</td>\n",
       "      <td>167.0</td>\n",
       "      <td>0.0</td>\n",
       "      <td>167.0</td>\n",
       "      <td>167.0</td>\n",
       "      <td>2019-12-20 16:56:37</td>\n",
       "      <td>2020-03-20</td>\n",
       "    </tr>\n",
       "  </tbody>\n",
       "</table>\n",
       "</div>"
      ],
      "text/plain": [
       "   User_id  Credit_id  Count_months  Amount  Month_payment  Payed   Left  \\\n",
       "0      196          6             7  1000.0          100.0    0.0  100.0   \n",
       "1      227         20             7   500.0           50.0    0.0   50.0   \n",
       "2      238         22             7   500.0           50.0    0.0   50.0   \n",
       "3       45         24            26  5000.0          167.0    0.0    0.0   \n",
       "4      123         26            28  5000.0          167.0    0.0  167.0   \n",
       "\n",
       "   Planned         Credit_taken    Pay_date  \n",
       "0    100.0  2019-12-18 23:55:33  2020-03-18  \n",
       "1     50.0  2019-12-20 05:40:39  2020-03-20  \n",
       "2     50.0  2019-12-20 10:45:33  2020-03-20  \n",
       "3    167.0  2019-12-20 14:59:29  2020-03-20  \n",
       "4    167.0  2019-12-20 16:56:37  2020-03-20  "
      ]
     },
     "execution_count": 67,
     "metadata": {},
     "output_type": "execute_result"
    }
   ],
   "source": [
    "test.head()"
   ]
  },
  {
   "cell_type": "code",
   "execution_count": 97,
   "metadata": {
    "scrolled": false
   },
   "outputs": [
    {
     "name": "stdout",
     "output_type": "stream",
     "text": [
      "34513.0\n"
     ]
    }
   ],
   "source": [
    "Planned_in_march = sum(test.Planned)\n",
    "print(Planned_in_march)"
   ]
  },
  {
   "cell_type": "code",
   "execution_count": 98,
   "metadata": {},
   "outputs": [
    {
     "name": "stdout",
     "output_type": "stream",
     "text": [
      "12828.919999999998\n"
     ]
    }
   ],
   "source": [
    "Actually_payed_march = sum(test.Payed)\n",
    "print(Actually_payed_march)"
   ]
  },
  {
   "cell_type": "code",
   "execution_count": 99,
   "metadata": {},
   "outputs": [
    {
     "name": "stdout",
     "output_type": "stream",
     "text": [
      "23078.5\n"
     ]
    }
   ],
   "source": [
    "left_march = sum(test.Left)\n",
    "print(left_march)"
   ]
  },
  {
   "cell_type": "code",
   "execution_count": 100,
   "metadata": {},
   "outputs": [
    {
     "name": "stdout",
     "output_type": "stream",
     "text": [
      "-1394.4199999999983\n"
     ]
    }
   ],
   "source": [
    "Delta_test = Planned_in_march - left_march - Actually_payed_march\n",
    "print(Delta_test)"
   ]
  },
  {
   "cell_type": "code",
   "execution_count": 101,
   "metadata": {
    "scrolled": true
   },
   "outputs": [
    {
     "data": {
      "text/plain": [
       "Index(['User_id', 'Credit_id', 'Count_months', 'Amount', 'Month_payment',\n",
       "       'Payed', 'Left', 'Planned', 'Credit_taken', 'Pay_date'],\n",
       "      dtype='object')"
      ]
     },
     "execution_count": 101,
     "metadata": {},
     "output_type": "execute_result"
    }
   ],
   "source": [
    "train.columns"
   ]
  },
  {
   "cell_type": "code",
   "execution_count": 37,
   "metadata": {},
   "outputs": [],
   "source": [
    "# предскажем катбустом"
   ]
  },
  {
   "cell_type": "code",
   "execution_count": 103,
   "metadata": {},
   "outputs": [
    {
     "name": "stderr",
     "output_type": "stream",
     "text": [
      "No handles with labels found to put in legend.\n"
     ]
    },
    {
     "name": "stdout",
     "output_type": "stream",
     "text": [
      "0:\tlearn: 67.7223620\ttotal: 246us\tremaining: 49ms\n",
      "1:\tlearn: 66.4195794\ttotal: 1.69ms\tremaining: 167ms\n",
      "2:\tlearn: 65.0300080\ttotal: 2.51ms\tremaining: 165ms\n",
      "3:\tlearn: 63.4714308\ttotal: 2.83ms\tremaining: 139ms\n",
      "4:\tlearn: 63.1725755\ttotal: 3.33ms\tremaining: 130ms\n",
      "5:\tlearn: 61.8086573\ttotal: 3.58ms\tremaining: 116ms\n",
      "6:\tlearn: 61.5315325\ttotal: 4.05ms\tremaining: 112ms\n",
      "7:\tlearn: 60.0811225\ttotal: 4.43ms\tremaining: 106ms\n",
      "8:\tlearn: 59.0465170\ttotal: 4.79ms\tremaining: 102ms\n",
      "9:\tlearn: 58.7976614\ttotal: 5.13ms\tremaining: 97.5ms\n",
      "10:\tlearn: 58.5601165\ttotal: 5.29ms\tremaining: 90.9ms\n",
      "11:\tlearn: 57.6417134\ttotal: 5.98ms\tremaining: 93.6ms\n",
      "12:\tlearn: 56.6263832\ttotal: 6.34ms\tremaining: 91.3ms\n",
      "13:\tlearn: 56.4145430\ttotal: 6.51ms\tremaining: 86.4ms\n",
      "14:\tlearn: 55.3286069\ttotal: 7.34ms\tremaining: 90.6ms\n",
      "15:\tlearn: 54.3077849\ttotal: 7.74ms\tremaining: 89ms\n",
      "16:\tlearn: 53.5699003\ttotal: 8.25ms\tremaining: 88.9ms\n",
      "17:\tlearn: 52.6641110\ttotal: 8.78ms\tremaining: 88.8ms\n",
      "18:\tlearn: 52.4869951\ttotal: 9.23ms\tremaining: 87.9ms\n",
      "19:\tlearn: 51.6666211\ttotal: 9.44ms\tremaining: 84.9ms\n",
      "20:\tlearn: 51.0699615\ttotal: 9.75ms\tremaining: 83.1ms\n",
      "21:\tlearn: 50.4679493\ttotal: 10.5ms\tremaining: 85.2ms\n",
      "22:\tlearn: 50.3169046\ttotal: 10.9ms\tremaining: 84.1ms\n",
      "23:\tlearn: 49.9572252\ttotal: 11.5ms\tremaining: 84.1ms\n",
      "24:\tlearn: 49.3420853\ttotal: 12.3ms\tremaining: 86.1ms\n",
      "25:\tlearn: 48.6731171\ttotal: 13ms\tremaining: 87ms\n",
      "26:\tlearn: 48.1709859\ttotal: 13.4ms\tremaining: 85.7ms\n",
      "27:\tlearn: 47.7816434\ttotal: 13.6ms\tremaining: 83.3ms\n",
      "28:\tlearn: 47.6639512\ttotal: 13.7ms\tremaining: 80.8ms\n",
      "29:\tlearn: 47.0405573\ttotal: 14ms\tremaining: 79.2ms\n",
      "30:\tlearn: 46.9325122\ttotal: 14.1ms\tremaining: 77ms\n",
      "31:\tlearn: 46.4300514\ttotal: 14.3ms\tremaining: 75.2ms\n",
      "32:\tlearn: 46.3310799\ttotal: 14.5ms\tremaining: 73.2ms\n",
      "33:\tlearn: 46.2367904\ttotal: 14.6ms\tremaining: 71.4ms\n",
      "34:\tlearn: 45.7664827\ttotal: 14.8ms\tremaining: 69.9ms\n",
      "35:\tlearn: 45.6802516\ttotal: 15ms\tremaining: 68.2ms\n",
      "36:\tlearn: 45.3552843\ttotal: 15.6ms\tremaining: 68.7ms\n",
      "37:\tlearn: 44.8962629\ttotal: 16ms\tremaining: 68.4ms\n",
      "38:\tlearn: 44.6282842\ttotal: 16.5ms\tremaining: 68.2ms\n",
      "39:\tlearn: 44.5561519\ttotal: 16.8ms\tremaining: 67.3ms\n",
      "40:\tlearn: 44.2159877\ttotal: 17.5ms\tremaining: 67.7ms\n",
      "41:\tlearn: 43.9864304\ttotal: 17.9ms\tremaining: 67.2ms\n",
      "42:\tlearn: 43.6225122\ttotal: 18.2ms\tremaining: 66.4ms\n",
      "43:\tlearn: 43.3058938\ttotal: 18.7ms\tremaining: 66.2ms\n",
      "44:\tlearn: 42.9767863\ttotal: 19.3ms\tremaining: 66.4ms\n",
      "45:\tlearn: 42.7058396\ttotal: 19.7ms\tremaining: 66ms\n",
      "46:\tlearn: 42.4287041\ttotal: 20.2ms\tremaining: 65.7ms\n",
      "47:\tlearn: 42.3780683\ttotal: 20.4ms\tremaining: 64.7ms\n",
      "48:\tlearn: 42.1053480\ttotal: 21ms\tremaining: 64.8ms\n",
      "49:\tlearn: 41.7911240\ttotal: 21.5ms\tremaining: 64.5ms\n",
      "50:\tlearn: 41.7212604\ttotal: 22.1ms\tremaining: 64.5ms\n",
      "51:\tlearn: 41.6792400\ttotal: 22.4ms\tremaining: 63.8ms\n",
      "52:\tlearn: 41.4585683\ttotal: 23.1ms\tremaining: 64.1ms\n",
      "53:\tlearn: 41.0966527\ttotal: 23.7ms\tremaining: 64ms\n",
      "54:\tlearn: 40.9050717\ttotal: 24.6ms\tremaining: 64.9ms\n",
      "55:\tlearn: 40.7060915\ttotal: 24.9ms\tremaining: 64.2ms\n",
      "56:\tlearn: 40.6725573\ttotal: 25.5ms\tremaining: 63.9ms\n",
      "57:\tlearn: 40.5839800\ttotal: 26ms\tremaining: 63.7ms\n",
      "58:\tlearn: 40.5536361\ttotal: 26.5ms\tremaining: 63.3ms\n",
      "59:\tlearn: 40.3853033\ttotal: 27.1ms\tremaining: 63.3ms\n",
      "60:\tlearn: 40.2154146\ttotal: 27.6ms\tremaining: 63ms\n",
      "61:\tlearn: 40.1890805\ttotal: 28ms\tremaining: 62.3ms\n",
      "62:\tlearn: 40.0006011\ttotal: 28.7ms\tremaining: 62.5ms\n",
      "63:\tlearn: 39.8649186\ttotal: 29.1ms\tremaining: 61.9ms\n",
      "64:\tlearn: 39.8421139\ttotal: 29.5ms\tremaining: 61.2ms\n",
      "65:\tlearn: 39.8204363\ttotal: 29.9ms\tremaining: 60.8ms\n",
      "66:\tlearn: 39.6289362\ttotal: 30.6ms\tremaining: 60.7ms\n",
      "67:\tlearn: 39.6092392\ttotal: 30.9ms\tremaining: 60ms\n",
      "68:\tlearn: 39.4829021\ttotal: 31.1ms\tremaining: 59.1ms\n",
      "69:\tlearn: 39.2791715\ttotal: 31.5ms\tremaining: 58.6ms\n",
      "70:\tlearn: 39.1390033\ttotal: 32ms\tremaining: 58.1ms\n",
      "71:\tlearn: 39.0315086\ttotal: 32.8ms\tremaining: 58.3ms\n",
      "72:\tlearn: 38.9042417\ttotal: 33.3ms\tremaining: 58ms\n",
      "73:\tlearn: 38.7874063\ttotal: 33.5ms\tremaining: 57.1ms\n",
      "74:\tlearn: 38.7643226\ttotal: 33.7ms\tremaining: 56.2ms\n",
      "75:\tlearn: 38.6545176\ttotal: 33.9ms\tremaining: 55.3ms\n",
      "76:\tlearn: 38.5532574\ttotal: 34.1ms\tremaining: 54.4ms\n",
      "77:\tlearn: 38.4451902\ttotal: 34.3ms\tremaining: 53.6ms\n",
      "78:\tlearn: 38.3758462\ttotal: 34.4ms\tremaining: 52.8ms\n",
      "79:\tlearn: 38.2957630\ttotal: 34.6ms\tremaining: 51.9ms\n",
      "80:\tlearn: 38.2163287\ttotal: 34.8ms\tremaining: 51.1ms\n",
      "81:\tlearn: 38.2062686\ttotal: 35ms\tremaining: 50.3ms\n",
      "82:\tlearn: 38.1967091\ttotal: 35.1ms\tremaining: 49.5ms\n",
      "83:\tlearn: 38.1426509\ttotal: 35.4ms\tremaining: 48.9ms\n",
      "84:\tlearn: 38.0344662\ttotal: 35.7ms\tremaining: 48.3ms\n",
      "85:\tlearn: 37.9588028\ttotal: 35.9ms\tremaining: 47.6ms\n",
      "86:\tlearn: 37.9008012\ttotal: 36.1ms\tremaining: 46.9ms\n",
      "87:\tlearn: 37.8704610\ttotal: 36.3ms\tremaining: 46.2ms\n",
      "88:\tlearn: 37.8595461\ttotal: 36.4ms\tremaining: 45.4ms\n",
      "89:\tlearn: 37.7817127\ttotal: 37ms\tremaining: 45.2ms\n",
      "90:\tlearn: 37.7274781\ttotal: 37.2ms\tremaining: 44.6ms\n",
      "91:\tlearn: 37.7170679\ttotal: 37.4ms\tremaining: 43.9ms\n",
      "92:\tlearn: 37.6516512\ttotal: 37.6ms\tremaining: 43.3ms\n",
      "93:\tlearn: 37.6033492\ttotal: 37.8ms\tremaining: 42.6ms\n",
      "94:\tlearn: 37.5388165\ttotal: 38ms\tremaining: 42ms\n",
      "95:\tlearn: 37.4960535\ttotal: 38.2ms\tremaining: 41.3ms\n",
      "96:\tlearn: 37.4502193\ttotal: 38.4ms\tremaining: 40.7ms\n",
      "97:\tlearn: 37.4082638\ttotal: 38.5ms\tremaining: 40.1ms\n",
      "98:\tlearn: 37.3967542\ttotal: 38.7ms\tremaining: 39.5ms\n",
      "99:\tlearn: 37.3598301\ttotal: 38.9ms\tremaining: 38.9ms\n",
      "100:\tlearn: 37.3446716\ttotal: 39.1ms\tremaining: 38.4ms\n",
      "101:\tlearn: 37.3162200\ttotal: 39.4ms\tremaining: 37.9ms\n",
      "102:\tlearn: 37.3068093\ttotal: 40.7ms\tremaining: 38.3ms\n",
      "103:\tlearn: 37.2707878\ttotal: 41.2ms\tremaining: 38ms\n",
      "104:\tlearn: 37.2624762\ttotal: 41.4ms\tremaining: 37.5ms\n",
      "105:\tlearn: 37.2547805\ttotal: 41.7ms\tremaining: 36.9ms\n",
      "106:\tlearn: 37.2489972\ttotal: 41.8ms\tremaining: 36.4ms\n",
      "107:\tlearn: 37.2422348\ttotal: 42ms\tremaining: 35.8ms\n",
      "108:\tlearn: 37.2070302\ttotal: 42.2ms\tremaining: 35.3ms\n",
      "109:\tlearn: 37.1827188\ttotal: 42.4ms\tremaining: 34.7ms\n",
      "110:\tlearn: 37.1757009\ttotal: 42.6ms\tremaining: 34.2ms\n",
      "111:\tlearn: 37.1365364\ttotal: 42.8ms\tremaining: 33.6ms\n",
      "112:\tlearn: 37.1008776\ttotal: 43ms\tremaining: 33.1ms\n",
      "113:\tlearn: 37.0965348\ttotal: 43.2ms\tremaining: 32.6ms\n",
      "114:\tlearn: 37.0871457\ttotal: 43.4ms\tremaining: 32.1ms\n",
      "115:\tlearn: 37.0577646\ttotal: 43.6ms\tremaining: 31.6ms\n",
      "116:\tlearn: 37.0415991\ttotal: 43.8ms\tremaining: 31.1ms\n",
      "117:\tlearn: 37.0170265\ttotal: 44ms\tremaining: 30.6ms\n",
      "118:\tlearn: 37.0146241\ttotal: 44.2ms\tremaining: 30.1ms\n",
      "119:\tlearn: 36.9907417\ttotal: 44.3ms\tremaining: 29.6ms\n",
      "120:\tlearn: 36.9866298\ttotal: 44.5ms\tremaining: 29.1ms\n",
      "121:\tlearn: 36.9643845\ttotal: 44.7ms\tremaining: 28.6ms\n",
      "122:\tlearn: 36.9426014\ttotal: 44.9ms\tremaining: 28.1ms\n",
      "123:\tlearn: 36.9276248\ttotal: 45.1ms\tremaining: 27.6ms\n",
      "124:\tlearn: 36.9257466\ttotal: 45.3ms\tremaining: 27.2ms\n",
      "125:\tlearn: 36.9072937\ttotal: 45.5ms\tremaining: 26.7ms\n",
      "126:\tlearn: 36.8891677\ttotal: 45.7ms\tremaining: 26.3ms\n",
      "127:\tlearn: 36.8721399\ttotal: 45.9ms\tremaining: 25.8ms\n",
      "128:\tlearn: 36.8664828\ttotal: 46.1ms\tremaining: 25.4ms\n",
      "129:\tlearn: 36.8635396\ttotal: 46.3ms\tremaining: 24.9ms\n",
      "130:\tlearn: 36.8554891\ttotal: 46.5ms\tremaining: 24.5ms\n",
      "131:\tlearn: 36.8377872\ttotal: 46.7ms\tremaining: 24ms\n",
      "132:\tlearn: 36.8236387\ttotal: 46.9ms\tremaining: 23.6ms\n",
      "133:\tlearn: 36.8090602\ttotal: 47.1ms\tremaining: 23.2ms\n",
      "134:\tlearn: 36.8063831\ttotal: 47.3ms\tremaining: 22.8ms\n",
      "135:\tlearn: 36.7980513\ttotal: 47.5ms\tremaining: 22.3ms\n",
      "136:\tlearn: 36.7927600\ttotal: 47.7ms\tremaining: 21.9ms\n",
      "137:\tlearn: 36.7819151\ttotal: 47.9ms\tremaining: 21.5ms\n",
      "138:\tlearn: 36.7768292\ttotal: 48.1ms\tremaining: 21.1ms\n",
      "139:\tlearn: 36.7538486\ttotal: 48.2ms\tremaining: 20.7ms\n",
      "140:\tlearn: 36.7517070\ttotal: 48.4ms\tremaining: 20.3ms\n",
      "141:\tlearn: 36.7303032\ttotal: 48.6ms\tremaining: 19.9ms\n",
      "142:\tlearn: 36.7293661\ttotal: 48.8ms\tremaining: 19.5ms\n",
      "143:\tlearn: 36.7095045\ttotal: 49ms\tremaining: 19.1ms\n",
      "144:\tlearn: 36.7077394\ttotal: 49.2ms\tremaining: 18.7ms\n",
      "145:\tlearn: 36.6965495\ttotal: 49.4ms\tremaining: 18.3ms\n",
      "146:\tlearn: 36.6864364\ttotal: 49.6ms\tremaining: 17.9ms\n",
      "147:\tlearn: 36.6758718\ttotal: 49.8ms\tremaining: 17.5ms\n",
      "148:\tlearn: 36.6707510\ttotal: 50ms\tremaining: 17.1ms\n",
      "149:\tlearn: 36.6634016\ttotal: 50.3ms\tremaining: 16.8ms\n",
      "150:\tlearn: 36.6626963\ttotal: 50.5ms\tremaining: 16.4ms\n",
      "151:\tlearn: 36.6608520\ttotal: 50.7ms\tremaining: 16ms\n",
      "152:\tlearn: 36.6595233\ttotal: 50.9ms\tremaining: 15.6ms\n",
      "153:\tlearn: 36.6505629\ttotal: 51.1ms\tremaining: 15.3ms\n",
      "154:\tlearn: 36.6488496\ttotal: 51.3ms\tremaining: 14.9ms\n",
      "155:\tlearn: 36.6472976\ttotal: 51.4ms\tremaining: 14.5ms\n",
      "156:\tlearn: 36.6424856\ttotal: 51.6ms\tremaining: 14.1ms\n",
      "157:\tlearn: 36.6318871\ttotal: 51.9ms\tremaining: 13.8ms\n",
      "158:\tlearn: 36.6314477\ttotal: 52.1ms\tremaining: 13.4ms\n",
      "159:\tlearn: 36.6292750\ttotal: 52.2ms\tremaining: 13.1ms\n",
      "160:\tlearn: 36.6283165\ttotal: 52.4ms\tremaining: 12.7ms\n",
      "161:\tlearn: 36.6274277\ttotal: 52.6ms\tremaining: 12.3ms\n",
      "162:\tlearn: 36.6182339\ttotal: 52.8ms\tremaining: 12ms\n",
      "163:\tlearn: 36.6173821\ttotal: 53ms\tremaining: 11.6ms\n",
      "164:\tlearn: 36.6165823\ttotal: 53.2ms\tremaining: 11.3ms\n",
      "165:\tlearn: 36.6084239\ttotal: 53.4ms\tremaining: 10.9ms\n",
      "166:\tlearn: 36.6067685\ttotal: 53.6ms\tremaining: 10.6ms\n",
      "167:\tlearn: 36.6033025\ttotal: 53.8ms\tremaining: 10.2ms\n",
      "168:\tlearn: 36.5998196\ttotal: 54.1ms\tremaining: 9.92ms\n",
      "169:\tlearn: 36.5990363\ttotal: 54.3ms\tremaining: 9.58ms\n",
      "170:\tlearn: 36.5951816\ttotal: 54.5ms\tremaining: 9.23ms\n",
      "171:\tlearn: 36.5913889\ttotal: 54.7ms\tremaining: 8.9ms\n",
      "172:\tlearn: 36.5867877\ttotal: 54.8ms\tremaining: 8.56ms\n",
      "173:\tlearn: 36.5767914\ttotal: 55ms\tremaining: 8.22ms\n",
      "174:\tlearn: 36.5721448\ttotal: 55.2ms\tremaining: 7.89ms\n",
      "175:\tlearn: 36.5715916\ttotal: 55.4ms\tremaining: 7.56ms\n",
      "176:\tlearn: 36.5710664\ttotal: 55.6ms\tremaining: 7.23ms\n",
      "177:\tlearn: 36.5620189\ttotal: 55.8ms\tremaining: 6.9ms\n",
      "178:\tlearn: 36.5591974\ttotal: 56ms\tremaining: 6.57ms\n",
      "179:\tlearn: 36.5558604\ttotal: 56.2ms\tremaining: 6.25ms\n",
      "180:\tlearn: 36.5455895\ttotal: 56.4ms\tremaining: 5.92ms\n",
      "181:\tlearn: 36.5428396\ttotal: 56.6ms\tremaining: 5.6ms\n",
      "182:\tlearn: 36.5395050\ttotal: 56.8ms\tremaining: 5.28ms\n",
      "183:\tlearn: 36.5390811\ttotal: 57ms\tremaining: 4.95ms\n",
      "184:\tlearn: 36.5387348\ttotal: 57.2ms\tremaining: 4.63ms\n",
      "185:\tlearn: 36.5344250\ttotal: 57.4ms\tremaining: 4.32ms\n",
      "186:\tlearn: 36.5340426\ttotal: 57.5ms\tremaining: 4ms\n",
      "187:\tlearn: 36.5265609\ttotal: 57.7ms\tremaining: 3.68ms\n",
      "188:\tlearn: 36.5260234\ttotal: 57.9ms\tremaining: 3.37ms\n",
      "189:\tlearn: 36.5155480\ttotal: 58.1ms\tremaining: 3.06ms\n",
      "190:\tlearn: 36.5102706\ttotal: 58.3ms\tremaining: 2.75ms\n",
      "191:\tlearn: 36.5101382\ttotal: 58.5ms\tremaining: 2.44ms\n",
      "192:\tlearn: 36.5071980\ttotal: 58.7ms\tremaining: 2.13ms\n",
      "193:\tlearn: 36.5031834\ttotal: 58.8ms\tremaining: 1.82ms\n",
      "194:\tlearn: 36.5001009\ttotal: 59ms\tremaining: 1.51ms\n",
      "195:\tlearn: 36.4939702\ttotal: 59.2ms\tremaining: 1.21ms\n",
      "196:\tlearn: 36.4936642\ttotal: 59.4ms\tremaining: 904us\n",
      "197:\tlearn: 36.4886386\ttotal: 59.6ms\tremaining: 601us\n",
      "198:\tlearn: 36.4883434\ttotal: 59.8ms\tremaining: 300us\n",
      "199:\tlearn: 36.4872296\ttotal: 60ms\tremaining: 0us\n"
     ]
    },
    {
     "data": {
      "image/png": "[encoded data removed]",
      "text/plain": [
       "<Figure size 432x288 with 1 Axes>"
      ]
     },
     "metadata": {
      "needs_background": "light"
     },
     "output_type": "display_data"
    },
    {
     "name": "stdout",
     "output_type": "stream",
     "text": [
      "предположительно всего выплатят за март:  24535.21409328569\n"
     ]
    }
   ],
   "source": [
    "from sklearn.metrics import classification_report, confusion_matrix, accuracy_score, r2_score\n",
    "from catboost import CatBoostRegressor\n",
    "import seaborn as sns\n",
    "import matplotlib.pyplot as plt\n",
    "# initialize data\n",
    "features = ['Count_months', 'Amount', 'Month_payment']\n",
    "\n",
    "#lab_enc = preprocessing.LabelEncoder()\n",
    "#df_target = df_investors.TotalPays.copy()\n",
    "#encoded = lab_enc.fit_transform(df_target)\n",
    "\n",
    "#X_train, X_val, y_train, y_val = train_test_split(df_investors[features], encoded, test_size=0.3)\n",
    "\n",
    "X_train = train[features]\n",
    "X_val = test[features]\n",
    "y_train = train.Payed.copy()\n",
    "y_val = test.Payed.copy()\n",
    "\n",
    "model=CatBoostRegressor(iterations=200, depth=5, learning_rate=0.1, loss_function='RMSE')\n",
    "model.fit(X_train, y_train)\n",
    "preds = model.predict(X_val)\n",
    "feature_imp = pd.Series(model.feature_importances_,index=features).sort_values(ascending=False)\n",
    "sns.barplot(x=feature_imp, y=feature_imp.index)\n",
    "# Add labels to your graph\n",
    "plt.xlabel('Feature Importance Score')\n",
    "plt.ylabel('Features')\n",
    "plt.title(\"Visualizing Important Features\")\n",
    "plt.legend()\n",
    "plt.show()\n",
    "\n",
    "#plt.plot(y_val, label = 'actual')\n",
    "# Plot the predicted values\n",
    "#plt.plot(preds, label = 'prediction')\n",
    "#plt.xticks(rotation = '60'); \n",
    "#plt.legend()\n",
    " \n",
    "#print(\"предположительно всего выплатят за март: \", preds, '\\n')\n",
    "print(\"предположительно всего выплатят за март: \", sum(preds))\n"
   ]
  },
  {
   "cell_type": "code",
   "execution_count": 39,
   "metadata": {},
   "outputs": [],
   "source": [
    "# пробуем предсказать случайным лесом"
   ]
  },
  {
   "cell_type": "code",
   "execution_count": 104,
   "metadata": {
    "scrolled": false
   },
   "outputs": [
    {
     "name": "stderr",
     "output_type": "stream",
     "text": [
      "No handles with labels found to put in legend.\n"
     ]
    },
    {
     "name": "stdout",
     "output_type": "stream",
     "text": [
      "предположительно всего выплатят за март:  30229\n"
     ]
    },
    {
     "data": {
      "image/png": "[encoded data removed]",
      "text/plain": [
       "<Figure size 432x288 with 1 Axes>"
      ]
     },
     "metadata": {
      "needs_background": "light"
     },
     "output_type": "display_data"
    }
   ],
   "source": [
    "from sklearn.model_selection import train_test_split\n",
    "from sklearn import ensemble\n",
    "from sklearn.metrics import classification_report, confusion_matrix, accuracy_score\n",
    "features = ['Count_months', 'Amount', 'Month_payment']\n",
    "\n",
    "X_train = train[features]\n",
    "X_val = test[features]\n",
    "y_train = train.Payed.astype('int64').copy()\n",
    "y_val = test.Payed.astype('int64').copy()\n",
    "\n",
    "clf = ensemble.RandomForestClassifier(n_estimators=1000)\n",
    "clf.fit(X_train, y_train)\n",
    "y_pred = clf.predict(X_val)\n",
    "\n",
    "#print(\"предположительно всего выплатят за март: \", y_pred, '\\n')\n",
    "print(\"предположительно всего выплатят за март: \", sum(y_pred))\n",
    "\n",
    "feature_imp = pd.Series(clf.feature_importances_,index=features).sort_values(ascending=False)\n",
    "sns.barplot(x=feature_imp, y=feature_imp.index)\n",
    "# Add labels to your graph\n",
    "plt.xlabel('Feature Importance Score')\n",
    "plt.ylabel('Features')\n",
    "plt.title(\"Visualizing Important Features\")\n",
    "plt.legend()\n",
    "plt.show()"
   ]
  },
  {
   "cell_type": "code",
   "execution_count": 79,
   "metadata": {},
   "outputs": [],
   "source": [
    "# предскажем логистической регрессией (НЕАДЕКВАТНЫЕ РЕЗУЛЬТАТЫ)"
   ]
  },
  {
   "cell_type": "code",
   "execution_count": 105,
   "metadata": {
    "scrolled": false
   },
   "outputs": [
    {
     "name": "stdout",
     "output_type": "stream",
     "text": [
      "предположительно всего выплатят за март:  51223\n"
     ]
    },
    {
     "name": "stderr",
     "output_type": "stream",
     "text": [
      "/opt/conda/lib/python3.7/site-packages/sklearn/linear_model/_logistic.py:940: ConvergenceWarning: lbfgs failed to converge (status=1):\n",
      "STOP: TOTAL NO. of ITERATIONS REACHED LIMIT.\n",
      "\n",
      "Increase the number of iterations (max_iter) or scale the data as shown in:\n",
      "    https://scikit-learn.org/stable/modules/preprocessing.html\n",
      "Please also refer to the documentation for alternative solver options:\n",
      "    https://scikit-learn.org/stable/modules/linear_model.html#logistic-regression\n",
      "  extra_warning_msg=_LOGISTIC_SOLVER_CONVERGENCE_MSG)\n"
     ]
    }
   ],
   "source": [
    "from sklearn.linear_model import LogisticRegression\n",
    "features = ['Count_months', 'Amount', 'Month_payment']\n",
    "\n",
    "y = train.Payed.astype('int64').copy()\n",
    "x = train[features]\n",
    "x_val = test[features]\n",
    "y_val = test.Payed.astype('int64').copy()\n",
    "\n",
    "clf = LogisticRegression(random_state=0, C=2.0, penalty='l2').fit(x, y)\n",
    "\n",
    "print(\"предположительно всего выплатят за март: \", sum(clf.predict(x_val)))\n"
   ]
  },
  {
   "cell_type": "code",
   "execution_count": 44,
   "metadata": {},
   "outputs": [],
   "source": [
    "#Предскажем деревом решений"
   ]
  },
  {
   "cell_type": "code",
   "execution_count": 112,
   "metadata": {},
   "outputs": [
    {
     "name": "stdout",
     "output_type": "stream",
     "text": [
      "предположительно всего выплатят за март:  27023\n"
     ]
    }
   ],
   "source": [
    "from sklearn.tree import DecisionTreeClassifier\n",
    "\n",
    "y = train.Payed.astype('int64').copy()\n",
    "x = train[features]\n",
    "x_val = test[features]\n",
    "y_val = test.Payed.astype('int64').copy()\n",
    "\n",
    "model = DecisionTreeClassifier()\n",
    "model.fit(x,y)\n",
    "proba = model.predict(x_val)\n",
    "\n",
    "print(\"предположительно всего выплатят за март: \", sum(proba))"
   ]
  },
  {
   "cell_type": "code",
   "execution_count": 109,
   "metadata": {},
   "outputs": [],
   "source": [
    "# предскажем методом ближайших соседей"
   ]
  },
  {
   "cell_type": "code",
   "execution_count": 113,
   "metadata": {},
   "outputs": [
    {
     "name": "stdout",
     "output_type": "stream",
     "text": [
      "предположительно всего выплатят за март:  26574\n"
     ]
    }
   ],
   "source": [
    "from sklearn.neighbors import KNeighborsClassifier\n",
    "\n",
    "y = train.Payed.astype('int64').copy()\n",
    "x = train[features]\n",
    "x_val = test[features]\n",
    "y_val = test.Payed.astype('int64').copy()\n",
    "\n",
    "model_knc = KNeighborsClassifier(n_neighbors = 18)\n",
    "model_knc.fit(x,y)\n",
    "\n",
    "proba = model_knc.predict(x_val)\n",
    "print(\"предположительно всего выплатят за март: \", sum(proba))"
   ]
  },
  {
   "cell_type": "code",
   "execution_count": 114,
   "metadata": {},
   "outputs": [],
   "source": [
    "#метод опорных векторов"
   ]
  },
  {
   "cell_type": "code",
   "execution_count": 120,
   "metadata": {},
   "outputs": [
    {
     "name": "stdout",
     "output_type": "stream",
     "text": [
      "предположительно всего выплатят за март:  26574\n"
     ]
    }
   ],
   "source": [
    "from sklearn import svm\n",
    "\n",
    "model_svc = svm.SVC()\n",
    "y = train.Payed.astype('int64').copy()\n",
    "x = train[features]\n",
    "x_val = test[features]\n",
    "y_val = test.Payed.astype('int64').copy()\n",
    "\n",
    "model_svc.probability = True\n",
    "probas = model_svc.fit(x, y).predict_proba(x_val)\n",
    "\n",
    "print(\"предположительно всего выплатят за март: \", sum(proba))"
   ]
  },
  {
   "cell_type": "code",
   "execution_count": null,
   "metadata": {},
   "outputs": [],
   "source": []
  }
 ],
 "metadata": {
  "kernelspec": {
   "display_name": "Python 3",
   "language": "python",
   "name": "python3"
  },
  "language_info": {
   "codemirror_mode": {
    "name": "ipython",
    "version": 3
   },
   "file_extension": ".py",
   "mimetype": "text/x-python",
   "name": "python",
   "nbconvert_exporter": "python",
   "pygments_lexer": "ipython3",
   "version": "3.7.4"
  }
 },
 "nbformat": 4,
 "nbformat_minor": 4
}
