{
 "cells": [
  {
   "cell_type": "code",
   "execution_count": 26,
   "metadata": {},
   "outputs": [],
   "source": [
    "import pandas as pd"
   ]
  },
  {
   "cell_type": "code",
   "execution_count": 27,
   "metadata": {},
   "outputs": [],
   "source": [
    "pd.options.display.max_columns = None"
   ]
  },
  {
   "cell_type": "code",
   "execution_count": 28,
   "metadata": {},
   "outputs": [],
   "source": [
    "train = pd.read_csv('train-dec-feb.csv', encoding='utf8', sep=',', decimal='.')"
   ]
  },
  {
   "cell_type": "code",
   "execution_count": 29,
   "metadata": {
    "scrolled": false
   },
   "outputs": [
    {
     "data": {
      "text/html": [
       "<div>\n",
       "<style scoped>\n",
       "    .dataframe tbody tr th:only-of-type {\n",
       "        vertical-align: middle;\n",
       "    }\n",
       "\n",
       "    .dataframe tbody tr th {\n",
       "        vertical-align: top;\n",
       "    }\n",
       "\n",
       "    .dataframe thead th {\n",
       "        text-align: right;\n",
       "    }\n",
       "</style>\n",
       "<table border=\"1\" class=\"dataframe\">\n",
       "  <thead>\n",
       "    <tr style=\"text-align: right;\">\n",
       "      <th></th>\n",
       "      <th>User_id</th>\n",
       "      <th>Credit_id</th>\n",
       "      <th>Count_months</th>\n",
       "      <th>Amount</th>\n",
       "      <th>Month_payment</th>\n",
       "      <th>Payed</th>\n",
       "      <th>To_pay_this_month</th>\n",
       "      <th>Credit_taken</th>\n",
       "      <th>Pay_date</th>\n",
       "    </tr>\n",
       "  </thead>\n",
       "  <tbody>\n",
       "    <tr>\n",
       "      <th>0</th>\n",
       "      <td>23746</td>\n",
       "      <td>982</td>\n",
       "      <td>9</td>\n",
       "      <td>100.0</td>\n",
       "      <td>10.0</td>\n",
       "      <td>10.0</td>\n",
       "      <td>10.0</td>\n",
       "      <td>2020-02-29 23:59:10</td>\n",
       "      <td>2020-02-29 23:59:10</td>\n",
       "    </tr>\n",
       "    <tr>\n",
       "      <th>1</th>\n",
       "      <td>23745</td>\n",
       "      <td>980</td>\n",
       "      <td>9</td>\n",
       "      <td>100.0</td>\n",
       "      <td>10.0</td>\n",
       "      <td>10.0</td>\n",
       "      <td>10.0</td>\n",
       "      <td>2020-02-29 23:52:55</td>\n",
       "      <td>2020-02-29 23:52:55</td>\n",
       "    </tr>\n",
       "    <tr>\n",
       "      <th>2</th>\n",
       "      <td>23742</td>\n",
       "      <td>981</td>\n",
       "      <td>9</td>\n",
       "      <td>100.0</td>\n",
       "      <td>10.0</td>\n",
       "      <td>10.0</td>\n",
       "      <td>10.0</td>\n",
       "      <td>2020-02-29 23:53:59</td>\n",
       "      <td>2020-02-29 23:53:59</td>\n",
       "    </tr>\n",
       "    <tr>\n",
       "      <th>3</th>\n",
       "      <td>23739</td>\n",
       "      <td>961</td>\n",
       "      <td>9</td>\n",
       "      <td>500.0</td>\n",
       "      <td>50.0</td>\n",
       "      <td>50.0</td>\n",
       "      <td>50.0</td>\n",
       "      <td>2020-02-29 23:28:27</td>\n",
       "      <td>2020-02-29 23:28:27</td>\n",
       "    </tr>\n",
       "    <tr>\n",
       "      <th>4</th>\n",
       "      <td>23728</td>\n",
       "      <td>958</td>\n",
       "      <td>9</td>\n",
       "      <td>100.0</td>\n",
       "      <td>10.0</td>\n",
       "      <td>10.0</td>\n",
       "      <td>10.0</td>\n",
       "      <td>2020-02-29 23:25:15</td>\n",
       "      <td>2020-02-29 23:25:15</td>\n",
       "    </tr>\n",
       "  </tbody>\n",
       "</table>\n",
       "</div>"
      ],
      "text/plain": [
       "   User_id  Credit_id  Count_months  Amount  Month_payment  Payed  \\\n",
       "0    23746        982             9   100.0           10.0   10.0   \n",
       "1    23745        980             9   100.0           10.0   10.0   \n",
       "2    23742        981             9   100.0           10.0   10.0   \n",
       "3    23739        961             9   500.0           50.0   50.0   \n",
       "4    23728        958             9   100.0           10.0   10.0   \n",
       "\n",
       "   To_pay_this_month         Credit_taken             Pay_date  \n",
       "0               10.0  2020-02-29 23:59:10  2020-02-29 23:59:10  \n",
       "1               10.0  2020-02-29 23:52:55  2020-02-29 23:52:55  \n",
       "2               10.0  2020-02-29 23:53:59  2020-02-29 23:53:59  \n",
       "3               50.0  2020-02-29 23:28:27  2020-02-29 23:28:27  \n",
       "4               10.0  2020-02-29 23:25:15  2020-02-29 23:25:15  "
      ]
     },
     "execution_count": 29,
     "metadata": {},
     "output_type": "execute_result"
    }
   ],
   "source": [
    "train.head()"
   ]
  },
  {
   "cell_type": "code",
   "execution_count": 30,
   "metadata": {},
   "outputs": [
    {
     "data": {
      "image/png": "[encoded data removed]",
      "text/plain": [
       "<Figure size 432x288 with 1 Axes>"
      ]
     },
     "metadata": {
      "needs_background": "light"
     },
     "output_type": "display_data"
    }
   ],
   "source": [
    "train.Payed.hist(bins=10, range = (0,1000));"
   ]
  },
  {
   "cell_type": "code",
   "execution_count": 31,
   "metadata": {},
   "outputs": [
    {
     "name": "stdout",
     "output_type": "stream",
     "text": [
      "90282.0\n"
     ]
    }
   ],
   "source": [
    "To_pay = sum(train.To_pay_this_month)\n",
    "print(To_pay)"
   ]
  },
  {
   "cell_type": "code",
   "execution_count": 32,
   "metadata": {},
   "outputs": [
    {
     "name": "stdout",
     "output_type": "stream",
     "text": [
      "67267.87\n"
     ]
    }
   ],
   "source": [
    "Actually_payed = sum(train.Payed)\n",
    "print(Actually_payed)"
   ]
  },
  {
   "cell_type": "code",
   "execution_count": 49,
   "metadata": {},
   "outputs": [],
   "source": [
    "test = pd.read_csv('trainmarch.csv', encoding='utf8', sep=',', decimal='.')"
   ]
  },
  {
   "cell_type": "code",
   "execution_count": 50,
   "metadata": {},
   "outputs": [
    {
     "data": {
      "text/html": [
       "<div>\n",
       "<style scoped>\n",
       "    .dataframe tbody tr th:only-of-type {\n",
       "        vertical-align: middle;\n",
       "    }\n",
       "\n",
       "    .dataframe tbody tr th {\n",
       "        vertical-align: top;\n",
       "    }\n",
       "\n",
       "    .dataframe thead th {\n",
       "        text-align: right;\n",
       "    }\n",
       "</style>\n",
       "<table border=\"1\" class=\"dataframe\">\n",
       "  <thead>\n",
       "    <tr style=\"text-align: right;\">\n",
       "      <th></th>\n",
       "      <th>User_id</th>\n",
       "      <th>Credit_id</th>\n",
       "      <th>Count_months</th>\n",
       "      <th>Amount</th>\n",
       "      <th>Month_payment</th>\n",
       "      <th>Payed</th>\n",
       "      <th>To_pay_this_month</th>\n",
       "      <th>Credit_taken</th>\n",
       "      <th>Pay_date</th>\n",
       "    </tr>\n",
       "  </thead>\n",
       "  <tbody>\n",
       "    <tr>\n",
       "      <th>0</th>\n",
       "      <td>23746</td>\n",
       "      <td>982</td>\n",
       "      <td>9</td>\n",
       "      <td>100.0</td>\n",
       "      <td>10.0</td>\n",
       "      <td>0</td>\n",
       "      <td>10.0</td>\n",
       "      <td>2020-02-29 23:59:10</td>\n",
       "      <td>2020-03-29</td>\n",
       "    </tr>\n",
       "    <tr>\n",
       "      <th>1</th>\n",
       "      <td>23742</td>\n",
       "      <td>981</td>\n",
       "      <td>9</td>\n",
       "      <td>100.0</td>\n",
       "      <td>10.0</td>\n",
       "      <td>0</td>\n",
       "      <td>10.0</td>\n",
       "      <td>2020-02-29 23:53:59</td>\n",
       "      <td>2020-03-29</td>\n",
       "    </tr>\n",
       "    <tr>\n",
       "      <th>2</th>\n",
       "      <td>23745</td>\n",
       "      <td>980</td>\n",
       "      <td>9</td>\n",
       "      <td>100.0</td>\n",
       "      <td>10.0</td>\n",
       "      <td>0</td>\n",
       "      <td>10.0</td>\n",
       "      <td>2020-02-29 23:52:55</td>\n",
       "      <td>2020-03-29</td>\n",
       "    </tr>\n",
       "    <tr>\n",
       "      <th>3</th>\n",
       "      <td>3753</td>\n",
       "      <td>979</td>\n",
       "      <td>9</td>\n",
       "      <td>100.0</td>\n",
       "      <td>10.0</td>\n",
       "      <td>0</td>\n",
       "      <td>10.0</td>\n",
       "      <td>2020-02-29 23:52:37</td>\n",
       "      <td>2020-03-29</td>\n",
       "    </tr>\n",
       "    <tr>\n",
       "      <th>4</th>\n",
       "      <td>23469</td>\n",
       "      <td>978</td>\n",
       "      <td>9</td>\n",
       "      <td>100.0</td>\n",
       "      <td>10.0</td>\n",
       "      <td>0</td>\n",
       "      <td>10.0</td>\n",
       "      <td>2020-02-29 23:52:21</td>\n",
       "      <td>2020-03-29</td>\n",
       "    </tr>\n",
       "  </tbody>\n",
       "</table>\n",
       "</div>"
      ],
      "text/plain": [
       "   User_id  Credit_id  Count_months  Amount  Month_payment  Payed  \\\n",
       "0    23746        982             9   100.0           10.0      0   \n",
       "1    23742        981             9   100.0           10.0      0   \n",
       "2    23745        980             9   100.0           10.0      0   \n",
       "3     3753        979             9   100.0           10.0      0   \n",
       "4    23469        978             9   100.0           10.0      0   \n",
       "\n",
       "   To_pay_this_month         Credit_taken    Pay_date  \n",
       "0               10.0  2020-02-29 23:59:10  2020-03-29  \n",
       "1               10.0  2020-02-29 23:53:59  2020-03-29  \n",
       "2               10.0  2020-02-29 23:52:55  2020-03-29  \n",
       "3               10.0  2020-02-29 23:52:37  2020-03-29  \n",
       "4               10.0  2020-02-29 23:52:21  2020-03-29  "
      ]
     },
     "execution_count": 50,
     "metadata": {},
     "output_type": "execute_result"
    }
   ],
   "source": [
    "test.head()"
   ]
  },
  {
   "cell_type": "code",
   "execution_count": 51,
   "metadata": {
    "scrolled": true
   },
   "outputs": [
    {
     "name": "stdout",
     "output_type": "stream",
     "text": [
      "38307.0\n"
     ]
    }
   ],
   "source": [
    "To_pay_in_march = sum(test.To_pay_this_month)\n",
    "print(To_pay_in_march)"
   ]
  },
  {
   "cell_type": "code",
   "execution_count": 36,
   "metadata": {
    "scrolled": true
   },
   "outputs": [
    {
     "data": {
      "text/plain": [
       "Index(['User_id', 'Credit_id', 'Count_months', 'Amount', 'Month_payment',\n",
       "       'Payed', 'To_pay_this_month', 'Credit_taken', 'Pay_date'],\n",
       "      dtype='object')"
      ]
     },
     "execution_count": 36,
     "metadata": {},
     "output_type": "execute_result"
    }
   ],
   "source": [
    "train.columns"
   ]
  },
  {
   "cell_type": "code",
   "execution_count": 37,
   "metadata": {},
   "outputs": [],
   "source": [
    "# предскажем катбустом"
   ]
  },
  {
   "cell_type": "code",
   "execution_count": 38,
   "metadata": {},
   "outputs": [
    {
     "name": "stderr",
     "output_type": "stream",
     "text": [
      "No handles with labels found to put in legend.\n"
     ]
    },
    {
     "name": "stdout",
     "output_type": "stream",
     "text": [
      "0:\tlearn: 68.9717031\ttotal: 980us\tremaining: 195ms\n",
      "1:\tlearn: 66.0953890\ttotal: 1.88ms\tremaining: 186ms\n",
      "2:\tlearn: 63.3152676\ttotal: 2.33ms\tremaining: 153ms\n",
      "3:\tlearn: 60.6699247\ttotal: 2.7ms\tremaining: 132ms\n",
      "4:\tlearn: 58.5925945\ttotal: 3.07ms\tremaining: 120ms\n",
      "5:\tlearn: 56.8815107\ttotal: 3.39ms\tremaining: 110ms\n",
      "6:\tlearn: 55.0205096\ttotal: 4.1ms\tremaining: 113ms\n",
      "7:\tlearn: 53.5462548\ttotal: 4.47ms\tremaining: 107ms\n",
      "8:\tlearn: 52.3759218\ttotal: 4.84ms\tremaining: 103ms\n",
      "9:\tlearn: 51.1174679\ttotal: 5.21ms\tremaining: 99ms\n",
      "10:\tlearn: 50.1134910\ttotal: 5.75ms\tremaining: 98.7ms\n",
      "11:\tlearn: 49.1857159\ttotal: 6.44ms\tremaining: 101ms\n",
      "12:\tlearn: 48.3917013\ttotal: 7.15ms\tremaining: 103ms\n",
      "13:\tlearn: 47.6242916\ttotal: 8.36ms\tremaining: 111ms\n",
      "14:\tlearn: 46.9723714\ttotal: 8.83ms\tremaining: 109ms\n",
      "15:\tlearn: 46.3785111\ttotal: 9.68ms\tremaining: 111ms\n",
      "16:\tlearn: 45.7837091\ttotal: 10.4ms\tremaining: 112ms\n",
      "17:\tlearn: 45.3368786\ttotal: 11.5ms\tremaining: 117ms\n",
      "18:\tlearn: 44.9120528\ttotal: 13.1ms\tremaining: 125ms\n",
      "19:\tlearn: 44.6245313\ttotal: 13.9ms\tremaining: 125ms\n",
      "20:\tlearn: 44.2296982\ttotal: 15ms\tremaining: 128ms\n",
      "21:\tlearn: 43.8842267\ttotal: 16ms\tremaining: 130ms\n",
      "22:\tlearn: 43.6203871\ttotal: 16.9ms\tremaining: 130ms\n",
      "23:\tlearn: 43.3646489\ttotal: 18.2ms\tremaining: 133ms\n",
      "24:\tlearn: 43.1803026\ttotal: 19ms\tremaining: 133ms\n",
      "25:\tlearn: 43.0901822\ttotal: 19.7ms\tremaining: 132ms\n",
      "26:\tlearn: 42.8986250\ttotal: 20.4ms\tremaining: 131ms\n",
      "27:\tlearn: 42.7454596\ttotal: 21ms\tremaining: 129ms\n",
      "28:\tlearn: 42.5491048\ttotal: 21.7ms\tremaining: 128ms\n",
      "29:\tlearn: 42.4308467\ttotal: 22.7ms\tremaining: 128ms\n",
      "30:\tlearn: 42.3119006\ttotal: 23.5ms\tremaining: 128ms\n",
      "31:\tlearn: 42.1583614\ttotal: 24.4ms\tremaining: 128ms\n",
      "32:\tlearn: 42.0679081\ttotal: 25.3ms\tremaining: 128ms\n",
      "33:\tlearn: 41.9303231\ttotal: 26.1ms\tremaining: 127ms\n",
      "34:\tlearn: 41.8784308\ttotal: 26.7ms\tremaining: 126ms\n",
      "35:\tlearn: 41.7656039\ttotal: 27.7ms\tremaining: 126ms\n",
      "36:\tlearn: 41.6886972\ttotal: 28.4ms\tremaining: 125ms\n",
      "37:\tlearn: 41.6489664\ttotal: 28.8ms\tremaining: 123ms\n",
      "38:\tlearn: 41.5495521\ttotal: 29.3ms\tremaining: 121ms\n",
      "39:\tlearn: 41.5026036\ttotal: 30.4ms\tremaining: 122ms\n",
      "40:\tlearn: 41.4756377\ttotal: 33.6ms\tremaining: 130ms\n",
      "41:\tlearn: 41.4393641\ttotal: 34.6ms\tremaining: 130ms\n",
      "42:\tlearn: 41.3854020\ttotal: 35ms\tremaining: 128ms\n",
      "43:\tlearn: 41.2818768\ttotal: 35.4ms\tremaining: 126ms\n",
      "44:\tlearn: 41.2462645\ttotal: 35.8ms\tremaining: 123ms\n",
      "45:\tlearn: 41.2148997\ttotal: 36.2ms\tremaining: 121ms\n",
      "46:\tlearn: 41.1456076\ttotal: 36.6ms\tremaining: 119ms\n",
      "47:\tlearn: 41.0904628\ttotal: 37ms\tremaining: 117ms\n",
      "48:\tlearn: 40.9961035\ttotal: 37.4ms\tremaining: 115ms\n",
      "49:\tlearn: 40.9521333\ttotal: 37.9ms\tremaining: 114ms\n",
      "50:\tlearn: 40.9150342\ttotal: 38.6ms\tremaining: 113ms\n",
      "51:\tlearn: 40.8363851\ttotal: 39.2ms\tremaining: 112ms\n",
      "52:\tlearn: 40.8233582\ttotal: 39.8ms\tremaining: 110ms\n",
      "53:\tlearn: 40.8096133\ttotal: 40.4ms\tremaining: 109ms\n",
      "54:\tlearn: 40.7851194\ttotal: 41.1ms\tremaining: 108ms\n",
      "55:\tlearn: 40.7092566\ttotal: 41.7ms\tremaining: 107ms\n",
      "56:\tlearn: 40.6892044\ttotal: 42.4ms\tremaining: 106ms\n",
      "57:\tlearn: 40.6722179\ttotal: 43ms\tremaining: 105ms\n",
      "58:\tlearn: 40.6555453\ttotal: 43.6ms\tremaining: 104ms\n",
      "59:\tlearn: 40.6349852\ttotal: 44.2ms\tremaining: 103ms\n",
      "60:\tlearn: 40.6206879\ttotal: 44.6ms\tremaining: 102ms\n",
      "61:\tlearn: 40.5958864\ttotal: 45ms\tremaining: 100ms\n",
      "62:\tlearn: 40.5384686\ttotal: 45.4ms\tremaining: 98.7ms\n",
      "63:\tlearn: 40.4881697\ttotal: 45.7ms\tremaining: 97.2ms\n",
      "64:\tlearn: 40.4419448\ttotal: 46.1ms\tremaining: 95.8ms\n",
      "65:\tlearn: 40.4043287\ttotal: 46.5ms\tremaining: 94.4ms\n",
      "66:\tlearn: 40.3782422\ttotal: 46.9ms\tremaining: 93.1ms\n",
      "67:\tlearn: 40.3463148\ttotal: 47.3ms\tremaining: 91.8ms\n",
      "68:\tlearn: 40.3316606\ttotal: 47.7ms\tremaining: 90.5ms\n",
      "69:\tlearn: 40.3202836\ttotal: 48ms\tremaining: 89.2ms\n",
      "70:\tlearn: 40.3069890\ttotal: 48.4ms\tremaining: 88ms\n",
      "71:\tlearn: 40.2996336\ttotal: 48.8ms\tremaining: 86.7ms\n",
      "72:\tlearn: 40.2671858\ttotal: 49.2ms\tremaining: 85.5ms\n",
      "73:\tlearn: 40.2373949\ttotal: 49.5ms\tremaining: 84.3ms\n",
      "74:\tlearn: 40.2309817\ttotal: 49.9ms\tremaining: 83.2ms\n",
      "75:\tlearn: 40.2173778\ttotal: 50.3ms\tremaining: 82ms\n",
      "76:\tlearn: 40.2028346\ttotal: 50.7ms\tremaining: 80.9ms\n",
      "77:\tlearn: 40.1799297\ttotal: 51ms\tremaining: 79.8ms\n",
      "78:\tlearn: 40.1580103\ttotal: 51.4ms\tremaining: 78.7ms\n",
      "79:\tlearn: 40.1533049\ttotal: 51.8ms\tremaining: 77.7ms\n",
      "80:\tlearn: 40.1363937\ttotal: 52.2ms\tremaining: 76.6ms\n",
      "81:\tlearn: 40.1208029\ttotal: 52.5ms\tremaining: 75.6ms\n",
      "82:\tlearn: 40.1034918\ttotal: 52.9ms\tremaining: 74.6ms\n",
      "83:\tlearn: 40.0938470\ttotal: 53.3ms\tremaining: 73.6ms\n",
      "84:\tlearn: 40.0715249\ttotal: 53.6ms\tremaining: 72.6ms\n",
      "85:\tlearn: 40.0617229\ttotal: 54ms\tremaining: 71.6ms\n",
      "86:\tlearn: 40.0376848\ttotal: 54.4ms\tremaining: 70.6ms\n",
      "87:\tlearn: 40.0325649\ttotal: 54.8ms\tremaining: 69.7ms\n",
      "88:\tlearn: 40.0306979\ttotal: 55.1ms\tremaining: 68.8ms\n",
      "89:\tlearn: 40.0134241\ttotal: 55.5ms\tremaining: 67.9ms\n",
      "90:\tlearn: 40.0027466\ttotal: 55.9ms\tremaining: 66.9ms\n",
      "91:\tlearn: 39.9872352\ttotal: 56.3ms\tremaining: 66ms\n",
      "92:\tlearn: 39.9815800\ttotal: 56.6ms\tremaining: 65.2ms\n",
      "93:\tlearn: 39.9692365\ttotal: 57ms\tremaining: 64.3ms\n",
      "94:\tlearn: 39.9542959\ttotal: 57.4ms\tremaining: 63.4ms\n",
      "95:\tlearn: 39.9527261\ttotal: 57.8ms\tremaining: 62.6ms\n",
      "96:\tlearn: 39.9468248\ttotal: 58.2ms\tremaining: 61.7ms\n",
      "97:\tlearn: 39.9317757\ttotal: 58.5ms\tremaining: 60.9ms\n",
      "98:\tlearn: 39.9191706\ttotal: 58.9ms\tremaining: 60.1ms\n",
      "99:\tlearn: 39.9151690\ttotal: 59.3ms\tremaining: 59.3ms\n",
      "100:\tlearn: 39.9047128\ttotal: 59.7ms\tremaining: 58.5ms\n",
      "101:\tlearn: 39.8958147\ttotal: 60ms\tremaining: 57.7ms\n",
      "102:\tlearn: 39.8861339\ttotal: 60.4ms\tremaining: 56.9ms\n",
      "103:\tlearn: 39.8772189\ttotal: 60.8ms\tremaining: 56.1ms\n",
      "104:\tlearn: 39.8682727\ttotal: 61.2ms\tremaining: 55.3ms\n",
      "105:\tlearn: 39.8606670\ttotal: 61.6ms\tremaining: 54.6ms\n",
      "106:\tlearn: 39.8515533\ttotal: 61.9ms\tremaining: 53.8ms\n",
      "107:\tlearn: 39.8440972\ttotal: 62.3ms\tremaining: 53.1ms\n",
      "108:\tlearn: 39.8414846\ttotal: 62.7ms\tremaining: 52.3ms\n",
      "109:\tlearn: 39.8360399\ttotal: 63.1ms\tremaining: 51.6ms\n",
      "110:\tlearn: 39.8278889\ttotal: 63.5ms\tremaining: 50.9ms\n",
      "111:\tlearn: 39.8222768\ttotal: 63.8ms\tremaining: 50.2ms\n",
      "112:\tlearn: 39.8163951\ttotal: 64.2ms\tremaining: 49.4ms\n",
      "113:\tlearn: 39.8082098\ttotal: 64.6ms\tremaining: 48.7ms\n",
      "114:\tlearn: 39.8038635\ttotal: 64.9ms\tremaining: 48ms\n",
      "115:\tlearn: 39.7978059\ttotal: 65.3ms\tremaining: 47.3ms\n",
      "116:\tlearn: 39.7958951\ttotal: 65.7ms\tremaining: 46.6ms\n",
      "117:\tlearn: 39.7919323\ttotal: 66.1ms\tremaining: 45.9ms\n",
      "118:\tlearn: 39.7868915\ttotal: 66.5ms\tremaining: 45.2ms\n",
      "119:\tlearn: 39.7824674\ttotal: 66.8ms\tremaining: 44.6ms\n",
      "120:\tlearn: 39.7786017\ttotal: 67.2ms\tremaining: 43.9ms\n",
      "121:\tlearn: 39.7729276\ttotal: 67.6ms\tremaining: 43.2ms\n",
      "122:\tlearn: 39.7696502\ttotal: 68ms\tremaining: 42.5ms\n",
      "123:\tlearn: 39.7663216\ttotal: 68.3ms\tremaining: 41.9ms\n",
      "124:\tlearn: 39.7613316\ttotal: 69.2ms\tremaining: 41.5ms\n",
      "125:\tlearn: 39.7598901\ttotal: 69.8ms\tremaining: 41ms\n",
      "126:\tlearn: 39.7560757\ttotal: 70.6ms\tremaining: 40.6ms\n",
      "127:\tlearn: 39.7548181\ttotal: 71.4ms\tremaining: 40.2ms\n",
      "128:\tlearn: 39.7516371\ttotal: 72.3ms\tremaining: 39.8ms\n",
      "129:\tlearn: 39.7508197\ttotal: 73ms\tremaining: 39.3ms\n",
      "130:\tlearn: 39.7465077\ttotal: 73.5ms\tremaining: 38.7ms\n",
      "131:\tlearn: 39.7446508\ttotal: 74.3ms\tremaining: 38.3ms\n",
      "132:\tlearn: 39.7439719\ttotal: 75ms\tremaining: 37.8ms\n",
      "133:\tlearn: 39.7433598\ttotal: 75.7ms\tremaining: 37.3ms\n",
      "134:\tlearn: 39.7402327\ttotal: 76.5ms\tremaining: 36.8ms\n",
      "135:\tlearn: 39.7376010\ttotal: 77.3ms\tremaining: 36.4ms\n",
      "136:\tlearn: 39.7361707\ttotal: 78ms\tremaining: 35.9ms\n",
      "137:\tlearn: 39.7341546\ttotal: 78.7ms\tremaining: 35.4ms\n",
      "138:\tlearn: 39.7335951\ttotal: 79.5ms\tremaining: 34.9ms\n",
      "139:\tlearn: 39.7300176\ttotal: 80.2ms\tremaining: 34.4ms\n",
      "140:\tlearn: 39.7280048\ttotal: 80.7ms\tremaining: 33.8ms\n",
      "141:\tlearn: 39.7263105\ttotal: 81.4ms\tremaining: 33.2ms\n",
      "142:\tlearn: 39.7227133\ttotal: 82.2ms\tremaining: 32.7ms\n",
      "143:\tlearn: 39.7222232\ttotal: 83ms\tremaining: 32.3ms\n",
      "144:\tlearn: 39.7187312\ttotal: 83.9ms\tremaining: 31.8ms\n",
      "145:\tlearn: 39.7171031\ttotal: 84.7ms\tremaining: 31.3ms\n",
      "146:\tlearn: 39.7165522\ttotal: 85.4ms\tremaining: 30.8ms\n",
      "147:\tlearn: 39.7143131\ttotal: 86.4ms\tremaining: 30.4ms\n",
      "148:\tlearn: 39.7119058\ttotal: 87.3ms\tremaining: 29.9ms\n",
      "149:\tlearn: 39.7115069\ttotal: 88.1ms\tremaining: 29.4ms\n",
      "150:\tlearn: 39.7094585\ttotal: 88.7ms\tremaining: 28.8ms\n",
      "151:\tlearn: 39.7073710\ttotal: 89.5ms\tremaining: 28.3ms\n",
      "152:\tlearn: 39.7055820\ttotal: 90.2ms\tremaining: 27.7ms\n",
      "153:\tlearn: 39.7041429\ttotal: 90.9ms\tremaining: 27.1ms\n",
      "154:\tlearn: 39.7022250\ttotal: 91.9ms\tremaining: 26.7ms\n",
      "155:\tlearn: 39.6998825\ttotal: 92.7ms\tremaining: 26.1ms\n",
      "156:\tlearn: 39.6987997\ttotal: 93.5ms\tremaining: 25.6ms\n",
      "157:\tlearn: 39.6974732\ttotal: 94.1ms\tremaining: 25ms\n",
      "158:\tlearn: 39.6955316\ttotal: 94.7ms\tremaining: 24.4ms\n",
      "159:\tlearn: 39.6937015\ttotal: 95.4ms\tremaining: 23.9ms\n",
      "160:\tlearn: 39.6921438\ttotal: 96ms\tremaining: 23.3ms\n",
      "161:\tlearn: 39.6917129\ttotal: 96.8ms\tremaining: 22.7ms\n",
      "162:\tlearn: 39.6912031\ttotal: 97.5ms\tremaining: 22.1ms\n",
      "163:\tlearn: 39.6894181\ttotal: 98.2ms\tremaining: 21.6ms\n",
      "164:\tlearn: 39.6879432\ttotal: 99ms\tremaining: 21ms\n",
      "165:\tlearn: 39.6874173\ttotal: 99.6ms\tremaining: 20.4ms\n",
      "166:\tlearn: 39.6860182\ttotal: 100ms\tremaining: 19.8ms\n",
      "167:\tlearn: 39.6849030\ttotal: 101ms\tremaining: 19.2ms\n",
      "168:\tlearn: 39.6846180\ttotal: 102ms\tremaining: 18.7ms\n",
      "169:\tlearn: 39.6843498\ttotal: 102ms\tremaining: 18.1ms\n",
      "170:\tlearn: 39.6829528\ttotal: 103ms\tremaining: 17.5ms\n",
      "171:\tlearn: 39.6825705\ttotal: 104ms\tremaining: 17ms\n",
      "172:\tlearn: 39.6814380\ttotal: 105ms\tremaining: 16.4ms\n",
      "173:\tlearn: 39.6806510\ttotal: 106ms\tremaining: 15.8ms\n",
      "174:\tlearn: 39.6798821\ttotal: 106ms\tremaining: 15.2ms\n",
      "175:\tlearn: 39.6793152\ttotal: 108ms\tremaining: 14.7ms\n",
      "176:\tlearn: 39.6784805\ttotal: 109ms\tremaining: 14.1ms\n",
      "177:\tlearn: 39.6780083\ttotal: 109ms\tremaining: 13.5ms\n",
      "178:\tlearn: 39.6776084\ttotal: 110ms\tremaining: 12.9ms\n",
      "179:\tlearn: 39.6772140\ttotal: 110ms\tremaining: 12.2ms\n",
      "180:\tlearn: 39.6765981\ttotal: 110ms\tremaining: 11.6ms\n",
      "181:\tlearn: 39.6761637\ttotal: 111ms\tremaining: 11ms\n",
      "182:\tlearn: 39.6758059\ttotal: 111ms\tremaining: 10.3ms\n",
      "183:\tlearn: 39.6754874\ttotal: 112ms\tremaining: 9.7ms\n",
      "184:\tlearn: 39.6753013\ttotal: 112ms\tremaining: 9.07ms\n",
      "185:\tlearn: 39.6744255\ttotal: 112ms\tremaining: 8.45ms\n",
      "186:\tlearn: 39.6734130\ttotal: 113ms\tremaining: 7.83ms\n",
      "187:\tlearn: 39.6725561\ttotal: 113ms\tremaining: 7.21ms\n",
      "188:\tlearn: 39.6717817\ttotal: 113ms\tremaining: 6.6ms\n",
      "189:\tlearn: 39.6713974\ttotal: 114ms\tremaining: 5.99ms\n",
      "190:\tlearn: 39.6708248\ttotal: 114ms\tremaining: 5.38ms\n",
      "191:\tlearn: 39.6702561\ttotal: 114ms\tremaining: 4.77ms\n",
      "192:\tlearn: 39.6694331\ttotal: 115ms\tremaining: 4.17ms\n",
      "193:\tlearn: 39.6691920\ttotal: 115ms\tremaining: 3.56ms\n",
      "194:\tlearn: 39.6684281\ttotal: 116ms\tremaining: 2.96ms\n",
      "195:\tlearn: 39.6678946\ttotal: 116ms\tremaining: 2.37ms\n",
      "196:\tlearn: 39.6673225\ttotal: 116ms\tremaining: 1.77ms\n",
      "197:\tlearn: 39.6665382\ttotal: 117ms\tremaining: 1.18ms\n",
      "198:\tlearn: 39.6656822\ttotal: 117ms\tremaining: 588us\n",
      "199:\tlearn: 39.6655242\ttotal: 117ms\tremaining: 0us\n"
     ]
    },
    {
     "data": {
      "image/png": "[encoded data removed]",
      "text/plain": [
       "<Figure size 432x288 with 1 Axes>"
      ]
     },
     "metadata": {
      "needs_background": "light"
     },
     "output_type": "display_data"
    },
    {
     "name": "stdout",
     "output_type": "stream",
     "text": [
      "предположительно всего выплатят за март:  31698.89502008334\n"
     ]
    }
   ],
   "source": [
    "from sklearn.metrics import classification_report, confusion_matrix, accuracy_score, r2_score\n",
    "from catboost import CatBoostRegressor\n",
    "import seaborn as sns\n",
    "import matplotlib.pyplot as plt\n",
    "# initialize data\n",
    "features = ['Count_months', 'Amount', 'Month_payment', 'To_pay_this_month']\n",
    "\n",
    "#lab_enc = preprocessing.LabelEncoder()\n",
    "#df_target = df_investors.TotalPays.copy()\n",
    "#encoded = lab_enc.fit_transform(df_target)\n",
    "\n",
    "#X_train, X_val, y_train, y_val = train_test_split(df_investors[features], encoded, test_size=0.3)\n",
    "\n",
    "X_train = train[features]\n",
    "X_val = test[features]\n",
    "y_train = train.Payed.copy()\n",
    "y_val = test.Payed.copy()\n",
    "\n",
    "model=CatBoostRegressor(iterations=200, depth=5, learning_rate=0.1, loss_function='RMSE')\n",
    "model.fit(X_train, y_train)\n",
    "preds = model.predict(X_val)\n",
    "feature_imp = pd.Series(model.feature_importances_,index=features).sort_values(ascending=False)\n",
    "sns.barplot(x=feature_imp, y=feature_imp.index)\n",
    "# Add labels to your graph\n",
    "plt.xlabel('Feature Importance Score')\n",
    "plt.ylabel('Features')\n",
    "plt.title(\"Visualizing Important Features\")\n",
    "plt.legend()\n",
    "plt.show()\n",
    "\n",
    "#plt.plot(y_val, label = 'actual')\n",
    "# Plot the predicted values\n",
    "#plt.plot(preds, label = 'prediction')\n",
    "#plt.xticks(rotation = '60'); \n",
    "#plt.legend()\n",
    " \n",
    "#print(\"предположительно всего выплатят за март: \", preds, '\\n')\n",
    "print(\"предположительно всего выплатят за март: \", sum(preds))\n"
   ]
  },
  {
   "cell_type": "code",
   "execution_count": 39,
   "metadata": {},
   "outputs": [],
   "source": [
    "# пробуем предсказать случайным лесом"
   ]
  },
  {
   "cell_type": "code",
   "execution_count": 41,
   "metadata": {
    "scrolled": false
   },
   "outputs": [
    {
     "name": "stderr",
     "output_type": "stream",
     "text": [
      "No handles with labels found to put in legend.\n"
     ]
    },
    {
     "name": "stdout",
     "output_type": "stream",
     "text": [
      "предположительно всего выплатят за март:  34564\n"
     ]
    },
    {
     "data": {
      "image/png": "[encoded data removed]",
      "text/plain": [
       "<Figure size 432x288 with 1 Axes>"
      ]
     },
     "metadata": {
      "needs_background": "light"
     },
     "output_type": "display_data"
    }
   ],
   "source": [
    "from sklearn.model_selection import train_test_split\n",
    "from sklearn import ensemble\n",
    "from sklearn.metrics import classification_report, confusion_matrix, accuracy_score\n",
    "features = ['Count_months', 'Amount', 'Month_payment', 'To_pay_this_month']\n",
    "\n",
    "X_train = train[features]\n",
    "X_val = test[features]\n",
    "y_train = train.Payed.astype('int64').copy()\n",
    "y_val = test.Payed.astype('int64').copy()\n",
    "\n",
    "clf = ensemble.RandomForestClassifier(n_estimators=1000)\n",
    "clf.fit(X_train, y_train)\n",
    "y_pred = clf.predict(X_val)\n",
    "\n",
    "#print(\"предположительно всего выплатят за март: \", y_pred, '\\n')\n",
    "print(\"предположительно всего выплатят за март: \", sum(y_pred))\n",
    "\n",
    "feature_imp = pd.Series(clf.feature_importances_,index=features).sort_values(ascending=False)\n",
    "sns.barplot(x=feature_imp, y=feature_imp.index)\n",
    "# Add labels to your graph\n",
    "plt.xlabel('Feature Importance Score')\n",
    "plt.ylabel('Features')\n",
    "plt.title(\"Visualizing Important Features\")\n",
    "plt.legend()\n",
    "plt.show()"
   ]
  },
  {
   "cell_type": "code",
   "execution_count": 42,
   "metadata": {},
   "outputs": [],
   "source": [
    "# предскажем логистической регрессией (НЕАДЕКВАТНЫЕ РЕЗУЛЬТАТЫ)"
   ]
  },
  {
   "cell_type": "code",
   "execution_count": 43,
   "metadata": {
    "scrolled": false
   },
   "outputs": [
    {
     "name": "stdout",
     "output_type": "stream",
     "text": [
      "предположительно всего выплатят за март:  99588\n"
     ]
    },
    {
     "name": "stderr",
     "output_type": "stream",
     "text": [
      "/opt/conda/lib/python3.7/site-packages/sklearn/linear_model/_logistic.py:940: ConvergenceWarning: lbfgs failed to converge (status=1):\n",
      "STOP: TOTAL NO. of ITERATIONS REACHED LIMIT.\n",
      "\n",
      "Increase the number of iterations (max_iter) or scale the data as shown in:\n",
      "    https://scikit-learn.org/stable/modules/preprocessing.html\n",
      "Please also refer to the documentation for alternative solver options:\n",
      "    https://scikit-learn.org/stable/modules/linear_model.html#logistic-regression\n",
      "  extra_warning_msg=_LOGISTIC_SOLVER_CONVERGENCE_MSG)\n"
     ]
    }
   ],
   "source": [
    "from sklearn.linear_model import LogisticRegression\n",
    "features = ['Count_months', 'Amount', 'Month_payment', 'To_pay_this_month']\n",
    "\n",
    "y = train.Payed.astype('int64').copy()\n",
    "x = train[features]\n",
    "x_val = test[features]\n",
    "y_val = test.Payed.astype('int64').copy()\n",
    "\n",
    "clf = LogisticRegression(random_state=0, C=2.0, penalty='l2').fit(x, y)\n",
    "\n",
    "print(\"предположительно всего выплатят за март: \", sum(clf.predict(x_val)))\n"
   ]
  },
  {
   "cell_type": "code",
   "execution_count": 44,
   "metadata": {},
   "outputs": [],
   "source": [
    "#Предскажем деревом решений"
   ]
  },
  {
   "cell_type": "code",
   "execution_count": 45,
   "metadata": {},
   "outputs": [
    {
     "name": "stdout",
     "output_type": "stream",
     "text": [
      "предположительно всего выплатят за март:  33465\n"
     ]
    }
   ],
   "source": [
    "from sklearn.tree import DecisionTreeClassifier\n",
    "\n",
    "y = train.Payed.astype('int64').copy()\n",
    "x = train[features]\n",
    "x_val = test[features]\n",
    "y_val = test.Payed.astype('int64').copy()\n",
    "\n",
    "model = DecisionTreeClassifier()\n",
    "model.fit(x,y)\n",
    "proba = model.predict(x_val)\n",
    "\n",
    "print(\"предположительно всего выплатят за март: \", sum(proba))"
   ]
  },
  {
   "cell_type": "code",
   "execution_count": 46,
   "metadata": {},
   "outputs": [],
   "source": [
    "# предскажем методом ближайших соседей"
   ]
  },
  {
   "cell_type": "code",
   "execution_count": 47,
   "metadata": {},
   "outputs": [
    {
     "name": "stdout",
     "output_type": "stream",
     "text": [
      "предположительно всего выплатят за март:  31888\n"
     ]
    }
   ],
   "source": [
    "from sklearn.neighbors import KNeighborsClassifier\n",
    "\n",
    "y = train.Payed.astype('int64').copy()\n",
    "x = train[features]\n",
    "x_val = test[features]\n",
    "y_val = test.Payed.astype('int64').copy()\n",
    "\n",
    "model_knc = KNeighborsClassifier(n_neighbors = 18)\n",
    "model_knc.fit(x,y)\n",
    "\n",
    "proba = model_knc.predict(x_val)\n",
    "print(\"предположительно всего выплатят за март: \", sum(proba))"
   ]
  },
  {
   "cell_type": "code",
   "execution_count": null,
   "metadata": {},
   "outputs": [],
   "source": []
  }
 ],
 "metadata": {
  "kernelspec": {
   "display_name": "Python 3",
   "language": "python",
   "name": "python3"
  },
  "language_info": {
   "codemirror_mode": {
    "name": "ipython",
    "version": 3
   },
   "file_extension": ".py",
   "mimetype": "text/x-python",
   "name": "python",
   "nbconvert_exporter": "python",
   "pygments_lexer": "ipython3",
   "version": "3.7.4"
  }
 },
 "nbformat": 4,
 "nbformat_minor": 4
}
